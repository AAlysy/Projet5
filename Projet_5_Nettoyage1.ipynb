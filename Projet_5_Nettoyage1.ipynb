{
 "cells": [
  {
   "cell_type": "code",
   "execution_count": 65,
   "id": "extended-partnership",
   "metadata": {
    "_cell_guid": "b1076dfc-b9ad-4769-8c92-a6c4dae69d19",
    "_uuid": "8f2839f25d086af736a60e9eeb907d3b93b6e0e5",
    "execution": {
     "iopub.execute_input": "2021-05-31T07:53:19.552811Z",
     "iopub.status.busy": "2021-05-31T07:53:19.551624Z",
     "iopub.status.idle": "2021-05-31T07:53:20.391215Z",
     "shell.execute_reply": "2021-05-31T07:53:20.390278Z",
     "shell.execute_reply.started": "2021-05-31T07:47:14.986289Z"
    },
    "papermill": {
     "duration": 0.919181,
     "end_time": "2021-05-31T07:53:20.391552",
     "exception": false,
     "start_time": "2021-05-31T07:53:19.472371",
     "status": "completed"
    },
    "tags": []
   },
   "outputs": [],
   "source": [
    "# Librairies import\n",
    "import os\n",
    "import numpy as np\n",
    "import pandas as pd\n",
    "import matplotlib.pyplot as plt\n",
    "import seaborn as sns\n",
    "from math import radians, cos, sin, asin, sqrt"
   ]
  },
  {
   "cell_type": "code",
   "execution_count": 111,
   "id": "welsh-series",
   "metadata": {
    "execution": {
     "iopub.execute_input": "2021-05-31T07:53:20.695888Z",
     "iopub.status.busy": "2021-05-31T07:53:20.694702Z",
     "iopub.status.idle": "2021-05-31T07:53:21.177987Z",
     "shell.execute_reply": "2021-05-31T07:53:21.178522Z",
     "shell.execute_reply.started": "2021-05-31T07:47:15.176809Z"
    },
    "papermill": {
     "duration": 0.563492,
     "end_time": "2021-05-31T07:53:21.178785",
     "exception": false,
     "start_time": "2021-05-31T07:53:20.615293",
     "status": "completed"
    },
    "tags": []
   },
   "outputs": [
    {
     "data": {
      "text/html": [
       "<div>\n",
       "<style scoped>\n",
       "    .dataframe tbody tr th:only-of-type {\n",
       "        vertical-align: middle;\n",
       "    }\n",
       "\n",
       "    .dataframe tbody tr th {\n",
       "        vertical-align: top;\n",
       "    }\n",
       "\n",
       "    .dataframe thead th {\n",
       "        text-align: right;\n",
       "    }\n",
       "</style>\n",
       "<table border=\"1\" class=\"dataframe\">\n",
       "  <thead>\n",
       "    <tr style=\"text-align: right;\">\n",
       "      <th></th>\n",
       "      <th>customer_id</th>\n",
       "      <th>customer_unique_id</th>\n",
       "      <th>customer_zip_code_prefix</th>\n",
       "      <th>customer_city</th>\n",
       "      <th>customer_state</th>\n",
       "    </tr>\n",
       "  </thead>\n",
       "  <tbody>\n",
       "    <tr>\n",
       "      <th>0</th>\n",
       "      <td>06b8999e2fba1a1fbc88172c00ba8bc7</td>\n",
       "      <td>861eff4711a542e4b93843c6dd7febb0</td>\n",
       "      <td>14409</td>\n",
       "      <td>franca</td>\n",
       "      <td>SP</td>\n",
       "    </tr>\n",
       "    <tr>\n",
       "      <th>1</th>\n",
       "      <td>18955e83d337fd6b2def6b18a428ac77</td>\n",
       "      <td>290c77bc529b7ac935b93aa66c333dc3</td>\n",
       "      <td>9790</td>\n",
       "      <td>sao bernardo do campo</td>\n",
       "      <td>SP</td>\n",
       "    </tr>\n",
       "    <tr>\n",
       "      <th>2</th>\n",
       "      <td>4e7b3e00288586ebd08712fdd0374a03</td>\n",
       "      <td>060e732b5b29e8181a18229c7b0b2b5e</td>\n",
       "      <td>1151</td>\n",
       "      <td>sao paulo</td>\n",
       "      <td>SP</td>\n",
       "    </tr>\n",
       "  </tbody>\n",
       "</table>\n",
       "</div>"
      ],
      "text/plain": [
       "                        customer_id                customer_unique_id  \\\n",
       "0  06b8999e2fba1a1fbc88172c00ba8bc7  861eff4711a542e4b93843c6dd7febb0   \n",
       "1  18955e83d337fd6b2def6b18a428ac77  290c77bc529b7ac935b93aa66c333dc3   \n",
       "2  4e7b3e00288586ebd08712fdd0374a03  060e732b5b29e8181a18229c7b0b2b5e   \n",
       "\n",
       "   customer_zip_code_prefix          customer_city customer_state  \n",
       "0                     14409                 franca             SP  \n",
       "1                      9790  sao bernardo do campo             SP  \n",
       "2                      1151              sao paulo             SP  "
      ]
     },
     "execution_count": 111,
     "metadata": {},
     "output_type": "execute_result"
    }
   ],
   "source": [
    "# root path for all dataset\n",
    "\n",
    "# olist_customers_dataset\n",
    "customers = pd.read_csv(\"datasets/olist_customers_dataset.csv\")\n",
    "customers.head(3)"
   ]
  },
  {
   "cell_type": "markdown",
   "id": "expensive-psychiatry",
   "metadata": {
    "papermill": {
     "duration": 0.07478,
     "end_time": "2021-05-31T07:53:21.347500",
     "exception": false,
     "start_time": "2021-05-31T07:53:21.272720",
     "status": "completed"
    },
    "tags": []
   },
   "source": [
    "Les variables importantes du dataset :\n",
    "- ***customer_id*** : Clé dans le dataset des commandes\n",
    "- ***customer_unique_id*** : Identifiant unique du client\n",
    "- ***customer_state*** : Etat du client"
   ]
  },
  {
   "cell_type": "code",
   "execution_count": 112,
   "id": "heated-category",
   "metadata": {
    "execution": {
     "iopub.execute_input": "2021-05-31T07:53:21.540450Z",
     "iopub.status.busy": "2021-05-31T07:53:21.504153Z",
     "iopub.status.idle": "2021-05-31T07:53:21.560981Z",
     "shell.execute_reply": "2021-05-31T07:53:21.560315Z",
     "shell.execute_reply.started": "2021-05-31T07:47:15.408554Z"
    },
    "papermill": {
     "duration": 0.138838,
     "end_time": "2021-05-31T07:53:21.561131",
     "exception": false,
     "start_time": "2021-05-31T07:53:21.422293",
     "status": "completed"
    },
    "tags": []
   },
   "outputs": [
    {
     "name": "stdout",
     "output_type": "stream",
     "text": [
      "<class 'pandas.core.frame.DataFrame'>\n",
      "RangeIndex: 99441 entries, 0 to 99440\n",
      "Data columns (total 5 columns):\n",
      " #   Column                    Non-Null Count  Dtype \n",
      "---  ------                    --------------  ----- \n",
      " 0   customer_id               99441 non-null  object\n",
      " 1   customer_unique_id        99441 non-null  object\n",
      " 2   customer_zip_code_prefix  99441 non-null  int64 \n",
      " 3   customer_city             99441 non-null  object\n",
      " 4   customer_state            99441 non-null  object\n",
      "dtypes: int64(1), object(4)\n",
      "memory usage: 3.8+ MB\n"
     ]
    }
   ],
   "source": [
    "customers.info()"
   ]
  },
  {
   "cell_type": "markdown",
   "id": "arctic-venture",
   "metadata": {
    "papermill": {
     "duration": 0.100819,
     "end_time": "2021-05-31T07:53:21.744710",
     "exception": false,
     "start_time": "2021-05-31T07:53:21.643891",
     "status": "completed"
    },
    "tags": []
   },
   "source": [
    "Le dataset ne comporte pas de valeurs nulles.\n",
    "\n",
    "### Les données de géolocalisation"
   ]
  },
  {
   "cell_type": "code",
   "execution_count": 113,
   "id": "polished-monthly",
   "metadata": {
    "execution": {
     "iopub.execute_input": "2021-05-31T07:53:21.938253Z",
     "iopub.status.busy": "2021-05-31T07:53:21.937557Z",
     "iopub.status.idle": "2021-05-31T07:53:23.571926Z",
     "shell.execute_reply": "2021-05-31T07:53:23.570968Z",
     "shell.execute_reply.started": "2021-05-31T07:47:15.545259Z"
    },
    "papermill": {
     "duration": 1.720539,
     "end_time": "2021-05-31T07:53:23.572101",
     "exception": false,
     "start_time": "2021-05-31T07:53:21.851562",
     "status": "completed"
    },
    "tags": []
   },
   "outputs": [
    {
     "data": {
      "text/html": [
       "<div>\n",
       "<style scoped>\n",
       "    .dataframe tbody tr th:only-of-type {\n",
       "        vertical-align: middle;\n",
       "    }\n",
       "\n",
       "    .dataframe tbody tr th {\n",
       "        vertical-align: top;\n",
       "    }\n",
       "\n",
       "    .dataframe thead th {\n",
       "        text-align: right;\n",
       "    }\n",
       "</style>\n",
       "<table border=\"1\" class=\"dataframe\">\n",
       "  <thead>\n",
       "    <tr style=\"text-align: right;\">\n",
       "      <th></th>\n",
       "      <th>geolocation_zip_code_prefix</th>\n",
       "      <th>geolocation_lat</th>\n",
       "      <th>geolocation_lng</th>\n",
       "      <th>geolocation_city</th>\n",
       "      <th>geolocation_state</th>\n",
       "    </tr>\n",
       "  </thead>\n",
       "  <tbody>\n",
       "    <tr>\n",
       "      <th>0</th>\n",
       "      <td>1037</td>\n",
       "      <td>-23.545621</td>\n",
       "      <td>-46.639292</td>\n",
       "      <td>sao paulo</td>\n",
       "      <td>SP</td>\n",
       "    </tr>\n",
       "    <tr>\n",
       "      <th>1</th>\n",
       "      <td>1046</td>\n",
       "      <td>-23.546081</td>\n",
       "      <td>-46.644820</td>\n",
       "      <td>sao paulo</td>\n",
       "      <td>SP</td>\n",
       "    </tr>\n",
       "    <tr>\n",
       "      <th>2</th>\n",
       "      <td>1046</td>\n",
       "      <td>-23.546129</td>\n",
       "      <td>-46.642951</td>\n",
       "      <td>sao paulo</td>\n",
       "      <td>SP</td>\n",
       "    </tr>\n",
       "  </tbody>\n",
       "</table>\n",
       "</div>"
      ],
      "text/plain": [
       "   geolocation_zip_code_prefix  geolocation_lat  geolocation_lng  \\\n",
       "0                         1037       -23.545621       -46.639292   \n",
       "1                         1046       -23.546081       -46.644820   \n",
       "2                         1046       -23.546129       -46.642951   \n",
       "\n",
       "  geolocation_city geolocation_state  \n",
       "0        sao paulo                SP  \n",
       "1        sao paulo                SP  \n",
       "2        sao paulo                SP  "
      ]
     },
     "execution_count": 113,
     "metadata": {},
     "output_type": "execute_result"
    }
   ],
   "source": [
    "# olist_geolocation_dataset\n",
    "geolocation = pd.read_csv(\"datasets/olist_geolocation_dataset.csv\")\n",
    "geolocation.head(3)"
   ]
  },
  {
   "cell_type": "code",
   "execution_count": 114,
   "id": "located-letter",
   "metadata": {
    "execution": {
     "iopub.execute_input": "2021-05-31T07:53:23.733646Z",
     "iopub.status.busy": "2021-05-31T07:53:23.732864Z",
     "iopub.status.idle": "2021-05-31T07:53:23.932175Z",
     "shell.execute_reply": "2021-05-31T07:53:23.931546Z",
     "shell.execute_reply.started": "2021-05-31T07:47:16.417824Z"
    },
    "papermill": {
     "duration": 0.283522,
     "end_time": "2021-05-31T07:53:23.932325",
     "exception": false,
     "start_time": "2021-05-31T07:53:23.648803",
     "status": "completed"
    },
    "tags": []
   },
   "outputs": [
    {
     "name": "stdout",
     "output_type": "stream",
     "text": [
      "<class 'pandas.core.frame.DataFrame'>\n",
      "RangeIndex: 1000163 entries, 0 to 1000162\n",
      "Data columns (total 5 columns):\n",
      " #   Column                       Non-Null Count    Dtype  \n",
      "---  ------                       --------------    -----  \n",
      " 0   geolocation_zip_code_prefix  1000163 non-null  int64  \n",
      " 1   geolocation_lat              1000163 non-null  float64\n",
      " 2   geolocation_lng              1000163 non-null  float64\n",
      " 3   geolocation_city             1000163 non-null  object \n",
      " 4   geolocation_state            1000163 non-null  object \n",
      "dtypes: float64(2), int64(1), object(2)\n",
      "memory usage: 38.2+ MB\n"
     ]
    }
   ],
   "source": [
    "geolocation.info()"
   ]
  },
  {
   "cell_type": "markdown",
   "id": "configured-channel",
   "metadata": {
    "papermill": {
     "duration": 0.076225,
     "end_time": "2021-05-31T07:53:24.085049",
     "exception": false,
     "start_time": "2021-05-31T07:53:24.008824",
     "status": "completed"
    },
    "tags": []
   },
   "source": [
    "Le fichier compte plus d'un million de lignes et pas de valeurs nulles. Ce fichier est **lié au fichier clients** grâce à la clé `geolocation_zip_code_prefix`. Regardons la description du fichier pour avoir un aperçu des étendues de Latitudes et Longitudes :"
   ]
  },
  {
   "cell_type": "code",
   "execution_count": 115,
   "id": "immediate-scale",
   "metadata": {
    "execution": {
     "iopub.execute_input": "2021-05-31T07:53:24.259150Z",
     "iopub.status.busy": "2021-05-31T07:53:24.257546Z",
     "iopub.status.idle": "2021-05-31T07:53:24.417854Z",
     "shell.execute_reply": "2021-05-31T07:53:24.418372Z",
     "shell.execute_reply.started": "2021-05-31T07:47:16.620573Z"
    },
    "papermill": {
     "duration": 0.254983,
     "end_time": "2021-05-31T07:53:24.418622",
     "exception": false,
     "start_time": "2021-05-31T07:53:24.163639",
     "status": "completed"
    },
    "tags": []
   },
   "outputs": [
    {
     "data": {
      "text/html": [
       "<div>\n",
       "<style scoped>\n",
       "    .dataframe tbody tr th:only-of-type {\n",
       "        vertical-align: middle;\n",
       "    }\n",
       "\n",
       "    .dataframe tbody tr th {\n",
       "        vertical-align: top;\n",
       "    }\n",
       "\n",
       "    .dataframe thead th {\n",
       "        text-align: right;\n",
       "    }\n",
       "</style>\n",
       "<table border=\"1\" class=\"dataframe\">\n",
       "  <thead>\n",
       "    <tr style=\"text-align: right;\">\n",
       "      <th></th>\n",
       "      <th>geolocation_zip_code_prefix</th>\n",
       "      <th>geolocation_lat</th>\n",
       "      <th>geolocation_lng</th>\n",
       "    </tr>\n",
       "  </thead>\n",
       "  <tbody>\n",
       "    <tr>\n",
       "      <th>count</th>\n",
       "      <td>1.000163e+06</td>\n",
       "      <td>1.000163e+06</td>\n",
       "      <td>1.000163e+06</td>\n",
       "    </tr>\n",
       "    <tr>\n",
       "      <th>mean</th>\n",
       "      <td>3.657417e+04</td>\n",
       "      <td>-2.117615e+01</td>\n",
       "      <td>-4.639054e+01</td>\n",
       "    </tr>\n",
       "    <tr>\n",
       "      <th>std</th>\n",
       "      <td>3.054934e+04</td>\n",
       "      <td>5.715866e+00</td>\n",
       "      <td>4.269748e+00</td>\n",
       "    </tr>\n",
       "    <tr>\n",
       "      <th>min</th>\n",
       "      <td>1.001000e+03</td>\n",
       "      <td>-3.660537e+01</td>\n",
       "      <td>-1.014668e+02</td>\n",
       "    </tr>\n",
       "    <tr>\n",
       "      <th>25%</th>\n",
       "      <td>1.107500e+04</td>\n",
       "      <td>-2.360355e+01</td>\n",
       "      <td>-4.857317e+01</td>\n",
       "    </tr>\n",
       "    <tr>\n",
       "      <th>50%</th>\n",
       "      <td>2.653000e+04</td>\n",
       "      <td>-2.291938e+01</td>\n",
       "      <td>-4.663788e+01</td>\n",
       "    </tr>\n",
       "    <tr>\n",
       "      <th>75%</th>\n",
       "      <td>6.350400e+04</td>\n",
       "      <td>-1.997962e+01</td>\n",
       "      <td>-4.376771e+01</td>\n",
       "    </tr>\n",
       "    <tr>\n",
       "      <th>max</th>\n",
       "      <td>9.999000e+04</td>\n",
       "      <td>4.506593e+01</td>\n",
       "      <td>1.211054e+02</td>\n",
       "    </tr>\n",
       "  </tbody>\n",
       "</table>\n",
       "</div>"
      ],
      "text/plain": [
       "       geolocation_zip_code_prefix  geolocation_lat  geolocation_lng\n",
       "count                 1.000163e+06     1.000163e+06     1.000163e+06\n",
       "mean                  3.657417e+04    -2.117615e+01    -4.639054e+01\n",
       "std                   3.054934e+04     5.715866e+00     4.269748e+00\n",
       "min                   1.001000e+03    -3.660537e+01    -1.014668e+02\n",
       "25%                   1.107500e+04    -2.360355e+01    -4.857317e+01\n",
       "50%                   2.653000e+04    -2.291938e+01    -4.663788e+01\n",
       "75%                   6.350400e+04    -1.997962e+01    -4.376771e+01\n",
       "max                   9.999000e+04     4.506593e+01     1.211054e+02"
      ]
     },
     "execution_count": 115,
     "metadata": {},
     "output_type": "execute_result"
    }
   ],
   "source": [
    "geolocation.describe()"
   ]
  },
  {
   "cell_type": "markdown",
   "id": "impressed-subscriber",
   "metadata": {
    "papermill": {
     "duration": 0.076715,
     "end_time": "2021-05-31T07:53:24.573267",
     "exception": false,
     "start_time": "2021-05-31T07:53:24.496552",
     "status": "completed"
    },
    "tags": []
   },
   "source": [
    "### Les commandes clients"
   ]
  },
  {
   "cell_type": "code",
   "execution_count": 116,
   "id": "headed-green",
   "metadata": {
    "execution": {
     "iopub.execute_input": "2021-05-31T07:53:24.734198Z",
     "iopub.status.busy": "2021-05-31T07:53:24.733401Z",
     "iopub.status.idle": "2021-05-31T07:53:25.528700Z",
     "shell.execute_reply": "2021-05-31T07:53:25.529234Z",
     "shell.execute_reply.started": "2021-05-31T07:47:16.765537Z"
    },
    "papermill": {
     "duration": 0.879136,
     "end_time": "2021-05-31T07:53:25.529444",
     "exception": false,
     "start_time": "2021-05-31T07:53:24.650308",
     "status": "completed"
    },
    "tags": []
   },
   "outputs": [
    {
     "data": {
      "text/html": [
       "<div>\n",
       "<style scoped>\n",
       "    .dataframe tbody tr th:only-of-type {\n",
       "        vertical-align: middle;\n",
       "    }\n",
       "\n",
       "    .dataframe tbody tr th {\n",
       "        vertical-align: top;\n",
       "    }\n",
       "\n",
       "    .dataframe thead th {\n",
       "        text-align: right;\n",
       "    }\n",
       "</style>\n",
       "<table border=\"1\" class=\"dataframe\">\n",
       "  <thead>\n",
       "    <tr style=\"text-align: right;\">\n",
       "      <th></th>\n",
       "      <th>order_id</th>\n",
       "      <th>customer_id</th>\n",
       "      <th>order_status</th>\n",
       "      <th>order_purchase_timestamp</th>\n",
       "      <th>order_approved_at</th>\n",
       "      <th>order_delivered_carrier_date</th>\n",
       "      <th>order_delivered_customer_date</th>\n",
       "      <th>order_estimated_delivery_date</th>\n",
       "    </tr>\n",
       "  </thead>\n",
       "  <tbody>\n",
       "    <tr>\n",
       "      <th>0</th>\n",
       "      <td>e481f51cbdc54678b7cc49136f2d6af7</td>\n",
       "      <td>9ef432eb6251297304e76186b10a928d</td>\n",
       "      <td>delivered</td>\n",
       "      <td>2017-10-02 10:56:33</td>\n",
       "      <td>2017-10-02 11:07:15</td>\n",
       "      <td>2017-10-04 19:55:00</td>\n",
       "      <td>2017-10-10 21:25:13</td>\n",
       "      <td>2017-10-18 00:00:00</td>\n",
       "    </tr>\n",
       "    <tr>\n",
       "      <th>1</th>\n",
       "      <td>53cdb2fc8bc7dce0b6741e2150273451</td>\n",
       "      <td>b0830fb4747a6c6d20dea0b8c802d7ef</td>\n",
       "      <td>delivered</td>\n",
       "      <td>2018-07-24 20:41:37</td>\n",
       "      <td>2018-07-26 03:24:27</td>\n",
       "      <td>2018-07-26 14:31:00</td>\n",
       "      <td>2018-08-07 15:27:45</td>\n",
       "      <td>2018-08-13 00:00:00</td>\n",
       "    </tr>\n",
       "    <tr>\n",
       "      <th>2</th>\n",
       "      <td>47770eb9100c2d0c44946d9cf07ec65d</td>\n",
       "      <td>41ce2a54c0b03bf3443c3d931a367089</td>\n",
       "      <td>delivered</td>\n",
       "      <td>2018-08-08 08:38:49</td>\n",
       "      <td>2018-08-08 08:55:23</td>\n",
       "      <td>2018-08-08 13:50:00</td>\n",
       "      <td>2018-08-17 18:06:29</td>\n",
       "      <td>2018-09-04 00:00:00</td>\n",
       "    </tr>\n",
       "  </tbody>\n",
       "</table>\n",
       "</div>"
      ],
      "text/plain": [
       "                           order_id                       customer_id  \\\n",
       "0  e481f51cbdc54678b7cc49136f2d6af7  9ef432eb6251297304e76186b10a928d   \n",
       "1  53cdb2fc8bc7dce0b6741e2150273451  b0830fb4747a6c6d20dea0b8c802d7ef   \n",
       "2  47770eb9100c2d0c44946d9cf07ec65d  41ce2a54c0b03bf3443c3d931a367089   \n",
       "\n",
       "  order_status order_purchase_timestamp    order_approved_at  \\\n",
       "0    delivered      2017-10-02 10:56:33  2017-10-02 11:07:15   \n",
       "1    delivered      2018-07-24 20:41:37  2018-07-26 03:24:27   \n",
       "2    delivered      2018-08-08 08:38:49  2018-08-08 08:55:23   \n",
       "\n",
       "  order_delivered_carrier_date order_delivered_customer_date  \\\n",
       "0          2017-10-04 19:55:00           2017-10-10 21:25:13   \n",
       "1          2018-07-26 14:31:00           2018-08-07 15:27:45   \n",
       "2          2018-08-08 13:50:00           2018-08-17 18:06:29   \n",
       "\n",
       "  order_estimated_delivery_date  \n",
       "0           2017-10-18 00:00:00  \n",
       "1           2018-08-13 00:00:00  \n",
       "2           2018-09-04 00:00:00  "
      ]
     },
     "execution_count": 116,
     "metadata": {},
     "output_type": "execute_result"
    }
   ],
   "source": [
    "# olist_orders_dataset\n",
    "orders = pd.read_csv(\"datasets/olist_orders_dataset.csv\")\n",
    "orders.head(3)"
   ]
  },
  {
   "cell_type": "markdown",
   "id": "strategic-colorado",
   "metadata": {
    "papermill": {
     "duration": 0.076889,
     "end_time": "2021-05-31T07:53:25.683523",
     "exception": false,
     "start_time": "2021-05-31T07:53:25.606634",
     "status": "completed"
    },
    "tags": []
   },
   "source": [
    "Ce fichier regroupe les **entêtes de commandes**, identifiées par un `order_id` unique et rattaché à un client par le `customer_id`."
   ]
  },
  {
   "cell_type": "code",
   "execution_count": 117,
   "id": "empty-berkeley",
   "metadata": {
    "execution": {
     "iopub.execute_input": "2021-05-31T07:53:25.844262Z",
     "iopub.status.busy": "2021-05-31T07:53:25.843571Z",
     "iopub.status.idle": "2021-05-31T07:53:25.931250Z",
     "shell.execute_reply": "2021-05-31T07:53:25.930504Z",
     "shell.execute_reply.started": "2021-05-31T07:47:17.378425Z"
    },
    "papermill": {
     "duration": 0.168961,
     "end_time": "2021-05-31T07:53:25.931411",
     "exception": false,
     "start_time": "2021-05-31T07:53:25.762450",
     "status": "completed"
    },
    "tags": []
   },
   "outputs": [
    {
     "name": "stdout",
     "output_type": "stream",
     "text": [
      "<class 'pandas.core.frame.DataFrame'>\n",
      "RangeIndex: 99441 entries, 0 to 99440\n",
      "Data columns (total 8 columns):\n",
      " #   Column                         Non-Null Count  Dtype \n",
      "---  ------                         --------------  ----- \n",
      " 0   order_id                       99441 non-null  object\n",
      " 1   customer_id                    99441 non-null  object\n",
      " 2   order_status                   99441 non-null  object\n",
      " 3   order_purchase_timestamp       99441 non-null  object\n",
      " 4   order_approved_at              99281 non-null  object\n",
      " 5   order_delivered_carrier_date   97658 non-null  object\n",
      " 6   order_delivered_customer_date  96476 non-null  object\n",
      " 7   order_estimated_delivery_date  99441 non-null  object\n",
      "dtypes: object(8)\n",
      "memory usage: 6.1+ MB\n"
     ]
    }
   ],
   "source": [
    "orders.info()"
   ]
  },
  {
   "cell_type": "code",
   "execution_count": 118,
   "id": "amber-northern",
   "metadata": {
    "execution": {
     "iopub.execute_input": "2021-05-31T07:53:26.093446Z",
     "iopub.status.busy": "2021-05-31T07:53:26.092731Z",
     "iopub.status.idle": "2021-05-31T07:53:26.642517Z",
     "shell.execute_reply": "2021-05-31T07:53:26.641929Z",
     "shell.execute_reply.started": "2021-05-31T07:47:17.467363Z"
    },
    "papermill": {
     "duration": 0.63317,
     "end_time": "2021-05-31T07:53:26.642706",
     "exception": false,
     "start_time": "2021-05-31T07:53:26.009536",
     "status": "completed"
    },
    "tags": []
   },
   "outputs": [
    {
     "data": {
      "text/html": [
       "<div>\n",
       "<style scoped>\n",
       "    .dataframe tbody tr th:only-of-type {\n",
       "        vertical-align: middle;\n",
       "    }\n",
       "\n",
       "    .dataframe tbody tr th {\n",
       "        vertical-align: top;\n",
       "    }\n",
       "\n",
       "    .dataframe thead th {\n",
       "        text-align: right;\n",
       "    }\n",
       "</style>\n",
       "<table border=\"1\" class=\"dataframe\">\n",
       "  <thead>\n",
       "    <tr style=\"text-align: right;\">\n",
       "      <th></th>\n",
       "      <th>order_id</th>\n",
       "      <th>order_item_id</th>\n",
       "      <th>product_id</th>\n",
       "      <th>seller_id</th>\n",
       "      <th>shipping_limit_date</th>\n",
       "      <th>price</th>\n",
       "      <th>freight_value</th>\n",
       "    </tr>\n",
       "  </thead>\n",
       "  <tbody>\n",
       "    <tr>\n",
       "      <th>0</th>\n",
       "      <td>00010242fe8c5a6d1ba2dd792cb16214</td>\n",
       "      <td>1</td>\n",
       "      <td>4244733e06e7ecb4970a6e2683c13e61</td>\n",
       "      <td>48436dade18ac8b2bce089ec2a041202</td>\n",
       "      <td>2017-09-19 09:45:35</td>\n",
       "      <td>58.9</td>\n",
       "      <td>13.29</td>\n",
       "    </tr>\n",
       "    <tr>\n",
       "      <th>1</th>\n",
       "      <td>00018f77f2f0320c557190d7a144bdd3</td>\n",
       "      <td>1</td>\n",
       "      <td>e5f2d52b802189ee658865ca93d83a8f</td>\n",
       "      <td>dd7ddc04e1b6c2c614352b383efe2d36</td>\n",
       "      <td>2017-05-03 11:05:13</td>\n",
       "      <td>239.9</td>\n",
       "      <td>19.93</td>\n",
       "    </tr>\n",
       "    <tr>\n",
       "      <th>2</th>\n",
       "      <td>000229ec398224ef6ca0657da4fc703e</td>\n",
       "      <td>1</td>\n",
       "      <td>c777355d18b72b67abbeef9df44fd0fd</td>\n",
       "      <td>5b51032eddd242adc84c38acab88f23d</td>\n",
       "      <td>2018-01-18 14:48:30</td>\n",
       "      <td>199.0</td>\n",
       "      <td>17.87</td>\n",
       "    </tr>\n",
       "  </tbody>\n",
       "</table>\n",
       "</div>"
      ],
      "text/plain": [
       "                           order_id  order_item_id  \\\n",
       "0  00010242fe8c5a6d1ba2dd792cb16214              1   \n",
       "1  00018f77f2f0320c557190d7a144bdd3              1   \n",
       "2  000229ec398224ef6ca0657da4fc703e              1   \n",
       "\n",
       "                         product_id                         seller_id  \\\n",
       "0  4244733e06e7ecb4970a6e2683c13e61  48436dade18ac8b2bce089ec2a041202   \n",
       "1  e5f2d52b802189ee658865ca93d83a8f  dd7ddc04e1b6c2c614352b383efe2d36   \n",
       "2  c777355d18b72b67abbeef9df44fd0fd  5b51032eddd242adc84c38acab88f23d   \n",
       "\n",
       "   shipping_limit_date  price  freight_value  \n",
       "0  2017-09-19 09:45:35   58.9          13.29  \n",
       "1  2017-05-03 11:05:13  239.9          19.93  \n",
       "2  2018-01-18 14:48:30  199.0          17.87  "
      ]
     },
     "execution_count": 118,
     "metadata": {},
     "output_type": "execute_result"
    }
   ],
   "source": [
    "# olist_order_items_dataset\n",
    "order_items = pd.read_csv(\"datasets/olist_order_items_dataset.csv\")\n",
    "order_items.head(3)"
   ]
  },
  {
   "cell_type": "markdown",
   "id": "sound-serum",
   "metadata": {
    "papermill": {
     "duration": 0.077307,
     "end_time": "2021-05-31T07:53:26.798963",
     "exception": false,
     "start_time": "2021-05-31T07:53:26.721656",
     "status": "completed"
    },
    "tags": []
   },
   "source": [
    "Variables importantes du dataset regroupant les **lignes de commande** :\n",
    "- ***order_id*** : Identifiant unique de la commande\n",
    "- ***order_item_id*** : Identifiant séquentiel des items d'une même commande *(lignes de commande)*\n",
    "- ***product_id*** : Identifiant unique du produit\n",
    "- ***seller_id*** : Identifiant unique du vendeur\n",
    "- ***price*** : Prix de la ligne de commande\n",
    "- ***freight_value*** : Coût de fret de la ligne (Si plusieurs lignes, le coût de fret est réparti entre toutes les lignes) "
   ]
  },
  {
   "cell_type": "code",
   "execution_count": 119,
   "id": "suspected-gateway",
   "metadata": {
    "execution": {
     "iopub.execute_input": "2021-05-31T07:53:26.961433Z",
     "iopub.status.busy": "2021-05-31T07:53:26.960731Z",
     "iopub.status.idle": "2021-05-31T07:53:27.019372Z",
     "shell.execute_reply": "2021-05-31T07:53:27.018512Z",
     "shell.execute_reply.started": "2021-05-31T07:47:17.762675Z"
    },
    "papermill": {
     "duration": 0.142747,
     "end_time": "2021-05-31T07:53:27.019598",
     "exception": false,
     "start_time": "2021-05-31T07:53:26.876851",
     "status": "completed"
    },
    "tags": []
   },
   "outputs": [
    {
     "name": "stdout",
     "output_type": "stream",
     "text": [
      "<class 'pandas.core.frame.DataFrame'>\n",
      "RangeIndex: 112650 entries, 0 to 112649\n",
      "Data columns (total 7 columns):\n",
      " #   Column               Non-Null Count   Dtype  \n",
      "---  ------               --------------   -----  \n",
      " 0   order_id             112650 non-null  object \n",
      " 1   order_item_id        112650 non-null  int64  \n",
      " 2   product_id           112650 non-null  object \n",
      " 3   seller_id            112650 non-null  object \n",
      " 4   shipping_limit_date  112650 non-null  object \n",
      " 5   price                112650 non-null  float64\n",
      " 6   freight_value        112650 non-null  float64\n",
      "dtypes: float64(2), int64(1), object(4)\n",
      "memory usage: 6.0+ MB\n"
     ]
    }
   ],
   "source": [
    "order_items.info()"
   ]
  },
  {
   "cell_type": "code",
   "execution_count": 120,
   "id": "entertaining-oxide",
   "metadata": {
    "execution": {
     "iopub.execute_input": "2021-05-31T07:53:27.184507Z",
     "iopub.status.busy": "2021-05-31T07:53:27.183759Z",
     "iopub.status.idle": "2021-05-31T07:53:27.393155Z",
     "shell.execute_reply": "2021-05-31T07:53:27.392478Z",
     "shell.execute_reply.started": "2021-05-31T07:47:17.821948Z"
    },
    "papermill": {
     "duration": 0.294749,
     "end_time": "2021-05-31T07:53:27.393315",
     "exception": false,
     "start_time": "2021-05-31T07:53:27.098566",
     "status": "completed"
    },
    "tags": []
   },
   "outputs": [
    {
     "data": {
      "text/html": [
       "<div>\n",
       "<style scoped>\n",
       "    .dataframe tbody tr th:only-of-type {\n",
       "        vertical-align: middle;\n",
       "    }\n",
       "\n",
       "    .dataframe tbody tr th {\n",
       "        vertical-align: top;\n",
       "    }\n",
       "\n",
       "    .dataframe thead th {\n",
       "        text-align: right;\n",
       "    }\n",
       "</style>\n",
       "<table border=\"1\" class=\"dataframe\">\n",
       "  <thead>\n",
       "    <tr style=\"text-align: right;\">\n",
       "      <th></th>\n",
       "      <th>order_id</th>\n",
       "      <th>payment_sequential</th>\n",
       "      <th>payment_type</th>\n",
       "      <th>payment_installments</th>\n",
       "      <th>payment_value</th>\n",
       "    </tr>\n",
       "  </thead>\n",
       "  <tbody>\n",
       "    <tr>\n",
       "      <th>0</th>\n",
       "      <td>b81ef226f3fe1789b1e8b2acac839d17</td>\n",
       "      <td>1</td>\n",
       "      <td>credit_card</td>\n",
       "      <td>8</td>\n",
       "      <td>99.33</td>\n",
       "    </tr>\n",
       "    <tr>\n",
       "      <th>1</th>\n",
       "      <td>a9810da82917af2d9aefd1278f1dcfa0</td>\n",
       "      <td>1</td>\n",
       "      <td>credit_card</td>\n",
       "      <td>1</td>\n",
       "      <td>24.39</td>\n",
       "    </tr>\n",
       "    <tr>\n",
       "      <th>2</th>\n",
       "      <td>25e8ea4e93396b6fa0d3dd708e76c1bd</td>\n",
       "      <td>1</td>\n",
       "      <td>credit_card</td>\n",
       "      <td>1</td>\n",
       "      <td>65.71</td>\n",
       "    </tr>\n",
       "  </tbody>\n",
       "</table>\n",
       "</div>"
      ],
      "text/plain": [
       "                           order_id  payment_sequential payment_type  \\\n",
       "0  b81ef226f3fe1789b1e8b2acac839d17                   1  credit_card   \n",
       "1  a9810da82917af2d9aefd1278f1dcfa0                   1  credit_card   \n",
       "2  25e8ea4e93396b6fa0d3dd708e76c1bd                   1  credit_card   \n",
       "\n",
       "   payment_installments  payment_value  \n",
       "0                     8          99.33  \n",
       "1                     1          24.39  \n",
       "2                     1          65.71  "
      ]
     },
     "execution_count": 120,
     "metadata": {},
     "output_type": "execute_result"
    }
   ],
   "source": [
    "# olist_order_payments_dataset\n",
    "order_payments = pd.read_csv(\"datasets/olist_order_payments_dataset.csv\")\n",
    "order_payments.head(3)"
   ]
  },
  {
   "cell_type": "markdown",
   "id": "sustained-annotation",
   "metadata": {
    "papermill": {
     "duration": 0.07825,
     "end_time": "2021-05-31T07:53:27.550463",
     "exception": false,
     "start_time": "2021-05-31T07:53:27.472213",
     "status": "completed"
    },
    "tags": []
   },
   "source": [
    "- ***payment_sequential*** : Si plusieurs méthodes de paiement appliquées, une ligne est crée par moyen utulisé.\n",
    "- ***payment_installments*** : Nombre de versements choisis"
   ]
  },
  {
   "cell_type": "code",
   "execution_count": 121,
   "id": "conservative-hometown",
   "metadata": {
    "execution": {
     "iopub.execute_input": "2021-05-31T07:53:27.735333Z",
     "iopub.status.busy": "2021-05-31T07:53:27.715045Z",
     "iopub.status.idle": "2021-05-31T07:53:27.749656Z",
     "shell.execute_reply": "2021-05-31T07:53:27.750655Z",
     "shell.execute_reply.started": "2021-05-31T07:47:17.946242Z"
    },
    "papermill": {
     "duration": 0.121838,
     "end_time": "2021-05-31T07:53:27.751004",
     "exception": false,
     "start_time": "2021-05-31T07:53:27.629166",
     "status": "completed"
    },
    "tags": []
   },
   "outputs": [
    {
     "name": "stdout",
     "output_type": "stream",
     "text": [
      "<class 'pandas.core.frame.DataFrame'>\n",
      "RangeIndex: 103886 entries, 0 to 103885\n",
      "Data columns (total 5 columns):\n",
      " #   Column                Non-Null Count   Dtype  \n",
      "---  ------                --------------   -----  \n",
      " 0   order_id              103886 non-null  object \n",
      " 1   payment_sequential    103886 non-null  int64  \n",
      " 2   payment_type          103886 non-null  object \n",
      " 3   payment_installments  103886 non-null  int64  \n",
      " 4   payment_value         103886 non-null  float64\n",
      "dtypes: float64(1), int64(2), object(2)\n",
      "memory usage: 4.0+ MB\n"
     ]
    }
   ],
   "source": [
    "order_payments.info()"
   ]
  },
  {
   "cell_type": "code",
   "execution_count": 122,
   "id": "burning-honolulu",
   "metadata": {
    "execution": {
     "iopub.execute_input": "2021-05-31T07:53:27.916312Z",
     "iopub.status.busy": "2021-05-31T07:53:27.915632Z",
     "iopub.status.idle": "2021-05-31T07:53:28.544060Z",
     "shell.execute_reply": "2021-05-31T07:53:28.544551Z",
     "shell.execute_reply.started": "2021-05-31T07:47:17.983616Z"
    },
    "papermill": {
     "duration": 0.713836,
     "end_time": "2021-05-31T07:53:28.544776",
     "exception": false,
     "start_time": "2021-05-31T07:53:27.830940",
     "status": "completed"
    },
    "tags": []
   },
   "outputs": [
    {
     "data": {
      "text/html": [
       "<div>\n",
       "<style scoped>\n",
       "    .dataframe tbody tr th:only-of-type {\n",
       "        vertical-align: middle;\n",
       "    }\n",
       "\n",
       "    .dataframe tbody tr th {\n",
       "        vertical-align: top;\n",
       "    }\n",
       "\n",
       "    .dataframe thead th {\n",
       "        text-align: right;\n",
       "    }\n",
       "</style>\n",
       "<table border=\"1\" class=\"dataframe\">\n",
       "  <thead>\n",
       "    <tr style=\"text-align: right;\">\n",
       "      <th></th>\n",
       "      <th>review_id</th>\n",
       "      <th>order_id</th>\n",
       "      <th>review_score</th>\n",
       "      <th>review_comment_title</th>\n",
       "      <th>review_comment_message</th>\n",
       "      <th>review_creation_date</th>\n",
       "      <th>review_answer_timestamp</th>\n",
       "    </tr>\n",
       "  </thead>\n",
       "  <tbody>\n",
       "    <tr>\n",
       "      <th>0</th>\n",
       "      <td>7bc2406110b926393aa56f80a40eba40</td>\n",
       "      <td>73fc7af87114b39712e6da79b0a377eb</td>\n",
       "      <td>4</td>\n",
       "      <td>NaN</td>\n",
       "      <td>NaN</td>\n",
       "      <td>2018-01-18 00:00:00</td>\n",
       "      <td>2018-01-18 21:46:59</td>\n",
       "    </tr>\n",
       "    <tr>\n",
       "      <th>1</th>\n",
       "      <td>80e641a11e56f04c1ad469d5645fdfde</td>\n",
       "      <td>a548910a1c6147796b98fdf73dbeba33</td>\n",
       "      <td>5</td>\n",
       "      <td>NaN</td>\n",
       "      <td>NaN</td>\n",
       "      <td>2018-03-10 00:00:00</td>\n",
       "      <td>2018-03-11 03:05:13</td>\n",
       "    </tr>\n",
       "    <tr>\n",
       "      <th>2</th>\n",
       "      <td>228ce5500dc1d8e020d8d1322874b6f0</td>\n",
       "      <td>f9e4b658b201a9f2ecdecbb34bed034b</td>\n",
       "      <td>5</td>\n",
       "      <td>NaN</td>\n",
       "      <td>NaN</td>\n",
       "      <td>2018-02-17 00:00:00</td>\n",
       "      <td>2018-02-18 14:36:24</td>\n",
       "    </tr>\n",
       "  </tbody>\n",
       "</table>\n",
       "</div>"
      ],
      "text/plain": [
       "                          review_id                          order_id  \\\n",
       "0  7bc2406110b926393aa56f80a40eba40  73fc7af87114b39712e6da79b0a377eb   \n",
       "1  80e641a11e56f04c1ad469d5645fdfde  a548910a1c6147796b98fdf73dbeba33   \n",
       "2  228ce5500dc1d8e020d8d1322874b6f0  f9e4b658b201a9f2ecdecbb34bed034b   \n",
       "\n",
       "   review_score review_comment_title review_comment_message  \\\n",
       "0             4                  NaN                    NaN   \n",
       "1             5                  NaN                    NaN   \n",
       "2             5                  NaN                    NaN   \n",
       "\n",
       "  review_creation_date review_answer_timestamp  \n",
       "0  2018-01-18 00:00:00     2018-01-18 21:46:59  \n",
       "1  2018-03-10 00:00:00     2018-03-11 03:05:13  \n",
       "2  2018-02-17 00:00:00     2018-02-18 14:36:24  "
      ]
     },
     "execution_count": 122,
     "metadata": {},
     "output_type": "execute_result"
    }
   ],
   "source": [
    "# olist_order_reviews_dataset\n",
    "order_reviews = pd.read_csv(\"datasets/olist_order_reviews_dataset.csv\")\n",
    "order_reviews.head(3)"
   ]
  },
  {
   "cell_type": "code",
   "execution_count": 123,
   "id": "under-python",
   "metadata": {
    "execution": {
     "iopub.execute_input": "2021-05-31T07:53:28.708981Z",
     "iopub.status.busy": "2021-05-31T07:53:28.708276Z",
     "iopub.status.idle": "2021-05-31T07:53:28.773880Z",
     "shell.execute_reply": "2021-05-31T07:53:28.774715Z",
     "shell.execute_reply.started": "2021-05-31T07:47:18.358025Z"
    },
    "papermill": {
     "duration": 0.149908,
     "end_time": "2021-05-31T07:53:28.775142",
     "exception": false,
     "start_time": "2021-05-31T07:53:28.625234",
     "status": "completed"
    },
    "tags": []
   },
   "outputs": [
    {
     "name": "stdout",
     "output_type": "stream",
     "text": [
      "<class 'pandas.core.frame.DataFrame'>\n",
      "RangeIndex: 99224 entries, 0 to 99223\n",
      "Data columns (total 7 columns):\n",
      " #   Column                   Non-Null Count  Dtype \n",
      "---  ------                   --------------  ----- \n",
      " 0   review_id                99224 non-null  object\n",
      " 1   order_id                 99224 non-null  object\n",
      " 2   review_score             99224 non-null  int64 \n",
      " 3   review_comment_title     11568 non-null  object\n",
      " 4   review_comment_message   40977 non-null  object\n",
      " 5   review_creation_date     99224 non-null  object\n",
      " 6   review_answer_timestamp  99224 non-null  object\n",
      "dtypes: int64(1), object(6)\n",
      "memory usage: 5.3+ MB\n"
     ]
    }
   ],
   "source": [
    "order_reviews.info()"
   ]
  },
  {
   "cell_type": "markdown",
   "id": "legislative-antigua",
   "metadata": {
    "papermill": {
     "duration": 0.080264,
     "end_time": "2021-05-31T07:53:28.937214",
     "exception": false,
     "start_time": "2021-05-31T07:53:28.856950",
     "status": "completed"
    },
    "tags": []
   },
   "source": [
    "Ce dataset porte sur les **avis clients liés à une commande**. Il comporte une note et un commentaire.\n",
    "\n",
    "### Les produits"
   ]
  },
  {
   "cell_type": "code",
   "execution_count": 124,
   "id": "excited-place",
   "metadata": {
    "execution": {
     "iopub.execute_input": "2021-05-31T07:53:29.100391Z",
     "iopub.status.busy": "2021-05-31T07:53:29.099677Z",
     "iopub.status.idle": "2021-05-31T07:53:29.240392Z",
     "shell.execute_reply": "2021-05-31T07:53:29.239767Z",
     "shell.execute_reply.started": "2021-05-31T07:47:18.421759Z"
    },
    "papermill": {
     "duration": 0.223524,
     "end_time": "2021-05-31T07:53:29.240555",
     "exception": false,
     "start_time": "2021-05-31T07:53:29.017031",
     "status": "completed"
    },
    "tags": []
   },
   "outputs": [
    {
     "data": {
      "text/html": [
       "<div>\n",
       "<style scoped>\n",
       "    .dataframe tbody tr th:only-of-type {\n",
       "        vertical-align: middle;\n",
       "    }\n",
       "\n",
       "    .dataframe tbody tr th {\n",
       "        vertical-align: top;\n",
       "    }\n",
       "\n",
       "    .dataframe thead th {\n",
       "        text-align: right;\n",
       "    }\n",
       "</style>\n",
       "<table border=\"1\" class=\"dataframe\">\n",
       "  <thead>\n",
       "    <tr style=\"text-align: right;\">\n",
       "      <th></th>\n",
       "      <th>product_id</th>\n",
       "      <th>product_category_name</th>\n",
       "      <th>product_name_lenght</th>\n",
       "      <th>product_description_lenght</th>\n",
       "      <th>product_photos_qty</th>\n",
       "      <th>product_weight_g</th>\n",
       "      <th>product_length_cm</th>\n",
       "      <th>product_height_cm</th>\n",
       "      <th>product_width_cm</th>\n",
       "    </tr>\n",
       "  </thead>\n",
       "  <tbody>\n",
       "    <tr>\n",
       "      <th>0</th>\n",
       "      <td>1e9e8ef04dbcff4541ed26657ea517e5</td>\n",
       "      <td>perfumaria</td>\n",
       "      <td>40.0</td>\n",
       "      <td>287.0</td>\n",
       "      <td>1.0</td>\n",
       "      <td>225.0</td>\n",
       "      <td>16.0</td>\n",
       "      <td>10.0</td>\n",
       "      <td>14.0</td>\n",
       "    </tr>\n",
       "    <tr>\n",
       "      <th>1</th>\n",
       "      <td>3aa071139cb16b67ca9e5dea641aaa2f</td>\n",
       "      <td>artes</td>\n",
       "      <td>44.0</td>\n",
       "      <td>276.0</td>\n",
       "      <td>1.0</td>\n",
       "      <td>1000.0</td>\n",
       "      <td>30.0</td>\n",
       "      <td>18.0</td>\n",
       "      <td>20.0</td>\n",
       "    </tr>\n",
       "    <tr>\n",
       "      <th>2</th>\n",
       "      <td>96bd76ec8810374ed1b65e291975717f</td>\n",
       "      <td>esporte_lazer</td>\n",
       "      <td>46.0</td>\n",
       "      <td>250.0</td>\n",
       "      <td>1.0</td>\n",
       "      <td>154.0</td>\n",
       "      <td>18.0</td>\n",
       "      <td>9.0</td>\n",
       "      <td>15.0</td>\n",
       "    </tr>\n",
       "  </tbody>\n",
       "</table>\n",
       "</div>"
      ],
      "text/plain": [
       "                         product_id product_category_name  \\\n",
       "0  1e9e8ef04dbcff4541ed26657ea517e5            perfumaria   \n",
       "1  3aa071139cb16b67ca9e5dea641aaa2f                 artes   \n",
       "2  96bd76ec8810374ed1b65e291975717f         esporte_lazer   \n",
       "\n",
       "   product_name_lenght  product_description_lenght  product_photos_qty  \\\n",
       "0                 40.0                       287.0                 1.0   \n",
       "1                 44.0                       276.0                 1.0   \n",
       "2                 46.0                       250.0                 1.0   \n",
       "\n",
       "   product_weight_g  product_length_cm  product_height_cm  product_width_cm  \n",
       "0             225.0               16.0               10.0              14.0  \n",
       "1            1000.0               30.0               18.0              20.0  \n",
       "2             154.0               18.0                9.0              15.0  "
      ]
     },
     "execution_count": 124,
     "metadata": {},
     "output_type": "execute_result"
    }
   ],
   "source": [
    "# olist_products_dataset\n",
    "products = pd.read_csv(\"datasets/olist_products_dataset.csv\")\n",
    "products.head(3)"
   ]
  },
  {
   "cell_type": "code",
   "execution_count": 125,
   "id": "absent-extreme",
   "metadata": {
    "execution": {
     "iopub.execute_input": "2021-05-31T07:53:29.408575Z",
     "iopub.status.busy": "2021-05-31T07:53:29.407882Z",
     "iopub.status.idle": "2021-05-31T07:53:29.427222Z",
     "shell.execute_reply": "2021-05-31T07:53:29.427812Z",
     "shell.execute_reply.started": "2021-05-31T07:47:18.490811Z"
    },
    "papermill": {
     "duration": 0.106706,
     "end_time": "2021-05-31T07:53:29.428032",
     "exception": false,
     "start_time": "2021-05-31T07:53:29.321326",
     "status": "completed"
    },
    "tags": []
   },
   "outputs": [
    {
     "name": "stdout",
     "output_type": "stream",
     "text": [
      "<class 'pandas.core.frame.DataFrame'>\n",
      "RangeIndex: 32951 entries, 0 to 32950\n",
      "Data columns (total 9 columns):\n",
      " #   Column                      Non-Null Count  Dtype  \n",
      "---  ------                      --------------  -----  \n",
      " 0   product_id                  32951 non-null  object \n",
      " 1   product_category_name       32341 non-null  object \n",
      " 2   product_name_lenght         32341 non-null  float64\n",
      " 3   product_description_lenght  32341 non-null  float64\n",
      " 4   product_photos_qty          32341 non-null  float64\n",
      " 5   product_weight_g            32949 non-null  float64\n",
      " 6   product_length_cm           32949 non-null  float64\n",
      " 7   product_height_cm           32949 non-null  float64\n",
      " 8   product_width_cm            32949 non-null  float64\n",
      "dtypes: float64(7), object(2)\n",
      "memory usage: 2.3+ MB\n"
     ]
    }
   ],
   "source": [
    "products.info()"
   ]
  },
  {
   "cell_type": "markdown",
   "id": "least-europe",
   "metadata": {
    "papermill": {
     "duration": 0.081386,
     "end_time": "2021-05-31T07:53:29.590354",
     "exception": false,
     "start_time": "2021-05-31T07:53:29.508968",
     "status": "completed"
    },
    "tags": []
   },
   "source": [
    "Ce dataset regroupe les catégories de produits ainsi que diverses caractéristiques de dimensions et poids."
   ]
  },
  {
   "cell_type": "code",
   "execution_count": 126,
   "id": "located-business",
   "metadata": {
    "execution": {
     "iopub.execute_input": "2021-05-31T07:53:29.758047Z",
     "iopub.status.busy": "2021-05-31T07:53:29.757236Z",
     "iopub.status.idle": "2021-05-31T07:53:29.775941Z",
     "shell.execute_reply": "2021-05-31T07:53:29.775262Z",
     "shell.execute_reply.started": "2021-05-31T07:47:18.513682Z"
    },
    "papermill": {
     "duration": 0.105054,
     "end_time": "2021-05-31T07:53:29.776091",
     "exception": false,
     "start_time": "2021-05-31T07:53:29.671037",
     "status": "completed"
    },
    "tags": []
   },
   "outputs": [
    {
     "data": {
      "text/html": [
       "<div>\n",
       "<style scoped>\n",
       "    .dataframe tbody tr th:only-of-type {\n",
       "        vertical-align: middle;\n",
       "    }\n",
       "\n",
       "    .dataframe tbody tr th {\n",
       "        vertical-align: top;\n",
       "    }\n",
       "\n",
       "    .dataframe thead th {\n",
       "        text-align: right;\n",
       "    }\n",
       "</style>\n",
       "<table border=\"1\" class=\"dataframe\">\n",
       "  <thead>\n",
       "    <tr style=\"text-align: right;\">\n",
       "      <th></th>\n",
       "      <th>product_category_name</th>\n",
       "      <th>product_category_name_english</th>\n",
       "    </tr>\n",
       "  </thead>\n",
       "  <tbody>\n",
       "    <tr>\n",
       "      <th>0</th>\n",
       "      <td>beleza_saude</td>\n",
       "      <td>health_beauty</td>\n",
       "    </tr>\n",
       "    <tr>\n",
       "      <th>1</th>\n",
       "      <td>informatica_acessorios</td>\n",
       "      <td>computers_accessories</td>\n",
       "    </tr>\n",
       "    <tr>\n",
       "      <th>2</th>\n",
       "      <td>automotivo</td>\n",
       "      <td>auto</td>\n",
       "    </tr>\n",
       "  </tbody>\n",
       "</table>\n",
       "</div>"
      ],
      "text/plain": [
       "    product_category_name product_category_name_english\n",
       "0            beleza_saude                 health_beauty\n",
       "1  informatica_acessorios         computers_accessories\n",
       "2              automotivo                          auto"
      ]
     },
     "execution_count": 126,
     "metadata": {},
     "output_type": "execute_result"
    }
   ],
   "source": [
    "# olist_products_dataset\n",
    "categories_en = pd.read_csv(\"datasets/product_category_name_translation.csv\")\n",
    "categories_en.head(3)"
   ]
  },
  {
   "cell_type": "markdown",
   "id": "ahead-railway",
   "metadata": {
    "papermill": {
     "duration": 0.082664,
     "end_time": "2021-05-31T07:53:29.939572",
     "exception": false,
     "start_time": "2021-05-31T07:53:29.856908",
     "status": "completed"
    },
    "tags": []
   },
   "source": [
    "Les catégories traduites et les produits sont liés par la variable `product_category_name`.\n",
    "Les vendeurs n'étant pas l'objet de cette analyse, le dataset correspondant sera ici ignoré.\n",
    "\n",
    "## <font color=\"#1ade9e\" id=\"section_1_2\">Création des datasets étendus</font>\n",
    "\n",
    "\n",
    "### Produits et catégories\n",
    "Nous allons à présent créer des dataset plus complets en réalisant des **jointures sur les produits et catégories** dans un premier temps, tout en **supprimant les variables qui seront inutiles dans notre RFM** :"
   ]
  },
  {
   "cell_type": "code",
   "execution_count": 127,
   "id": "portable-retreat",
   "metadata": {
    "execution": {
     "iopub.execute_input": "2021-05-31T07:53:30.116191Z",
     "iopub.status.busy": "2021-05-31T07:53:30.115368Z",
     "iopub.status.idle": "2021-05-31T07:53:30.150010Z",
     "shell.execute_reply": "2021-05-31T07:53:30.150576Z",
     "shell.execute_reply.started": "2021-05-31T07:47:18.527843Z"
    },
    "papermill": {
     "duration": 0.12889,
     "end_time": "2021-05-31T07:53:30.150812",
     "exception": false,
     "start_time": "2021-05-31T07:53:30.021922",
     "status": "completed"
    },
    "tags": []
   },
   "outputs": [
    {
     "data": {
      "text/html": [
       "<div>\n",
       "<style scoped>\n",
       "    .dataframe tbody tr th:only-of-type {\n",
       "        vertical-align: middle;\n",
       "    }\n",
       "\n",
       "    .dataframe tbody tr th {\n",
       "        vertical-align: top;\n",
       "    }\n",
       "\n",
       "    .dataframe thead th {\n",
       "        text-align: right;\n",
       "    }\n",
       "</style>\n",
       "<table border=\"1\" class=\"dataframe\">\n",
       "  <thead>\n",
       "    <tr style=\"text-align: right;\">\n",
       "      <th></th>\n",
       "      <th>product_id</th>\n",
       "      <th>product_name_lenght</th>\n",
       "      <th>product_description_lenght</th>\n",
       "      <th>product_photos_qty</th>\n",
       "      <th>product_category_name</th>\n",
       "    </tr>\n",
       "  </thead>\n",
       "  <tbody>\n",
       "    <tr>\n",
       "      <th>0</th>\n",
       "      <td>1e9e8ef04dbcff4541ed26657ea517e5</td>\n",
       "      <td>40.0</td>\n",
       "      <td>287.0</td>\n",
       "      <td>1.0</td>\n",
       "      <td>perfumery</td>\n",
       "    </tr>\n",
       "    <tr>\n",
       "      <th>1</th>\n",
       "      <td>3aa071139cb16b67ca9e5dea641aaa2f</td>\n",
       "      <td>44.0</td>\n",
       "      <td>276.0</td>\n",
       "      <td>1.0</td>\n",
       "      <td>art</td>\n",
       "    </tr>\n",
       "    <tr>\n",
       "      <th>2</th>\n",
       "      <td>96bd76ec8810374ed1b65e291975717f</td>\n",
       "      <td>46.0</td>\n",
       "      <td>250.0</td>\n",
       "      <td>1.0</td>\n",
       "      <td>sports_leisure</td>\n",
       "    </tr>\n",
       "  </tbody>\n",
       "</table>\n",
       "</div>"
      ],
      "text/plain": [
       "                         product_id  product_name_lenght  \\\n",
       "0  1e9e8ef04dbcff4541ed26657ea517e5                 40.0   \n",
       "1  3aa071139cb16b67ca9e5dea641aaa2f                 44.0   \n",
       "2  96bd76ec8810374ed1b65e291975717f                 46.0   \n",
       "\n",
       "   product_description_lenght  product_photos_qty product_category_name  \n",
       "0                       287.0                 1.0             perfumery  \n",
       "1                       276.0                 1.0                   art  \n",
       "2                       250.0                 1.0        sports_leisure  "
      ]
     },
     "execution_count": 127,
     "metadata": {},
     "output_type": "execute_result"
    }
   ],
   "source": [
    "products = pd.merge(products, categories_en,\n",
    "                    how=\"left\",\n",
    "                    on=\"product_category_name\")\n",
    "\n",
    "del_features_list = [\"product_category_name\", \"product_weight_g\",\n",
    "                     \"product_length_cm\", \"product_height_cm\",\n",
    "                     \"product_width_cm\"]\n",
    "products.drop(del_features_list, axis=1, inplace=True)\n",
    "products = products.rename(columns={\"product_category_name_english\":\n",
    "                                    \"product_category_name\"})\n",
    "products.head(3)"
   ]
  },
  {
   "cell_type": "markdown",
   "id": "going-period",
   "metadata": {
    "papermill": {
     "duration": 0.081201,
     "end_time": "2021-05-31T07:53:30.314026",
     "exception": false,
     "start_time": "2021-05-31T07:53:30.232825",
     "status": "completed"
    },
    "tags": []
   },
   "source": [
    "Nous pouvons visualiser la **répartition des diverses catégories de produits** :"
   ]
  },
  {
   "cell_type": "code",
   "execution_count": 128,
   "id": "distributed-metro",
   "metadata": {
    "execution": {
     "iopub.execute_input": "2021-05-31T07:53:30.518090Z",
     "iopub.status.busy": "2021-05-31T07:53:30.517317Z",
     "iopub.status.idle": "2021-05-31T07:53:33.697129Z",
     "shell.execute_reply": "2021-05-31T07:53:33.697650Z",
     "shell.execute_reply.started": "2021-05-31T07:47:18.558686Z"
    },
    "papermill": {
     "duration": 3.301728,
     "end_time": "2021-05-31T07:53:33.697850",
     "exception": false,
     "start_time": "2021-05-31T07:53:30.396122",
     "status": "completed"
    },
    "tags": []
   },
   "outputs": [
    {
     "data": {
      "image/png": "[encoded data removed]",
      "text/plain": [
       "<Figure size 1296x576 with 1 Axes>"
      ]
     },
     "metadata": {},
     "output_type": "display_data"
    }
   ],
   "source": [
    "# Plot categories count in dataset\n",
    "sns.set_style(\"whitegrid\")\n",
    "font_title = {\"family\": \"serif\",\n",
    "              \"color\":  \"#476bff\",\n",
    "              \"weight\": \"bold\",\n",
    "              \"size\": 18}\n",
    "\n",
    "fig = plt.figure(figsize=(18, 8))\n",
    "sns.countplot(data=products, x=\"product_category_name\",\n",
    "              edgecolor=\"black\",\n",
    "              color=\"#00d994\", alpha=0.7)\n",
    "plt.xticks(range(0, products[\"product_category_name\"].nunique()+1),\n",
    "           products[\"product_category_name\"].unique(),\n",
    "           rotation=90)\n",
    "plt.title(f\"Les catégories produits les plus représentées\\n\",\n",
    "          fontdict=font_title)\n",
    "plt.show()"
   ]
  },
  {
   "cell_type": "markdown",
   "id": "lyric-holder",
   "metadata": {
    "papermill": {
     "duration": 0.088301,
     "end_time": "2021-05-31T07:53:33.873489",
     "exception": false,
     "start_time": "2021-05-31T07:53:33.785188",
     "status": "completed"
    },
    "tags": []
   },
   "source": [
    "### Commandes et clients\n",
    "Nous allons regrouper les données de lignes de commandes, d'entêtes de commandes et de données clients dans un unique dataframe."
   ]
  },
  {
   "cell_type": "code",
   "execution_count": 129,
   "id": "polyphonic-onion",
   "metadata": {
    "execution": {
     "iopub.execute_input": "2021-05-31T07:53:34.055065Z",
     "iopub.status.busy": "2021-05-31T07:53:34.054220Z",
     "iopub.status.idle": "2021-05-31T07:53:34.392503Z",
     "shell.execute_reply": "2021-05-31T07:53:34.391933Z",
     "shell.execute_reply.started": "2021-05-31T07:47:21.747934Z"
    },
    "papermill": {
     "duration": 0.431987,
     "end_time": "2021-05-31T07:53:34.392732",
     "exception": false,
     "start_time": "2021-05-31T07:53:33.960745",
     "status": "completed"
    },
    "tags": []
   },
   "outputs": [
    {
     "data": {
      "text/html": [
       "<div>\n",
       "<style scoped>\n",
       "    .dataframe tbody tr th:only-of-type {\n",
       "        vertical-align: middle;\n",
       "    }\n",
       "\n",
       "    .dataframe tbody tr th {\n",
       "        vertical-align: top;\n",
       "    }\n",
       "\n",
       "    .dataframe thead th {\n",
       "        text-align: right;\n",
       "    }\n",
       "</style>\n",
       "<table border=\"1\" class=\"dataframe\">\n",
       "  <thead>\n",
       "    <tr style=\"text-align: right;\">\n",
       "      <th></th>\n",
       "      <th>order_id</th>\n",
       "      <th>order_item_id</th>\n",
       "      <th>product_id</th>\n",
       "      <th>price</th>\n",
       "      <th>freight_value</th>\n",
       "      <th>customer_id</th>\n",
       "      <th>order_status</th>\n",
       "      <th>order_purchase_timestamp</th>\n",
       "      <th>order_delivered_customer_date</th>\n",
       "    </tr>\n",
       "  </thead>\n",
       "  <tbody>\n",
       "    <tr>\n",
       "      <th>0</th>\n",
       "      <td>00010242fe8c5a6d1ba2dd792cb16214</td>\n",
       "      <td>1</td>\n",
       "      <td>4244733e06e7ecb4970a6e2683c13e61</td>\n",
       "      <td>58.9</td>\n",
       "      <td>13.29</td>\n",
       "      <td>3ce436f183e68e07877b285a838db11a</td>\n",
       "      <td>delivered</td>\n",
       "      <td>2017-09-13 08:59:02</td>\n",
       "      <td>2017-09-20 23:43:48</td>\n",
       "    </tr>\n",
       "    <tr>\n",
       "      <th>1</th>\n",
       "      <td>00018f77f2f0320c557190d7a144bdd3</td>\n",
       "      <td>1</td>\n",
       "      <td>e5f2d52b802189ee658865ca93d83a8f</td>\n",
       "      <td>239.9</td>\n",
       "      <td>19.93</td>\n",
       "      <td>f6dd3ec061db4e3987629fe6b26e5cce</td>\n",
       "      <td>delivered</td>\n",
       "      <td>2017-04-26 10:53:06</td>\n",
       "      <td>2017-05-12 16:04:24</td>\n",
       "    </tr>\n",
       "    <tr>\n",
       "      <th>2</th>\n",
       "      <td>000229ec398224ef6ca0657da4fc703e</td>\n",
       "      <td>1</td>\n",
       "      <td>c777355d18b72b67abbeef9df44fd0fd</td>\n",
       "      <td>199.0</td>\n",
       "      <td>17.87</td>\n",
       "      <td>6489ae5e4333f3693df5ad4372dab6d3</td>\n",
       "      <td>delivered</td>\n",
       "      <td>2018-01-14 14:33:31</td>\n",
       "      <td>2018-01-22 13:19:16</td>\n",
       "    </tr>\n",
       "  </tbody>\n",
       "</table>\n",
       "</div>"
      ],
      "text/plain": [
       "                           order_id  order_item_id  \\\n",
       "0  00010242fe8c5a6d1ba2dd792cb16214              1   \n",
       "1  00018f77f2f0320c557190d7a144bdd3              1   \n",
       "2  000229ec398224ef6ca0657da4fc703e              1   \n",
       "\n",
       "                         product_id  price  freight_value  \\\n",
       "0  4244733e06e7ecb4970a6e2683c13e61   58.9          13.29   \n",
       "1  e5f2d52b802189ee658865ca93d83a8f  239.9          19.93   \n",
       "2  c777355d18b72b67abbeef9df44fd0fd  199.0          17.87   \n",
       "\n",
       "                        customer_id order_status order_purchase_timestamp  \\\n",
       "0  3ce436f183e68e07877b285a838db11a    delivered      2017-09-13 08:59:02   \n",
       "1  f6dd3ec061db4e3987629fe6b26e5cce    delivered      2017-04-26 10:53:06   \n",
       "2  6489ae5e4333f3693df5ad4372dab6d3    delivered      2018-01-14 14:33:31   \n",
       "\n",
       "  order_delivered_customer_date  \n",
       "0           2017-09-20 23:43:48  \n",
       "1           2017-05-12 16:04:24  \n",
       "2           2018-01-22 13:19:16  "
      ]
     },
     "execution_count": 129,
     "metadata": {},
     "output_type": "execute_result"
    }
   ],
   "source": [
    "order_items = pd.merge(order_items, orders,\n",
    "                       how=\"left\",\n",
    "                       on=\"order_id\")\n",
    "\n",
    "del_features_list = [\"seller_id\", \"shipping_limit_date\",\n",
    "                     \"order_approved_at\",\n",
    "                     \"order_delivered_carrier_date\",\n",
    "                     \"order_estimated_delivery_date\"]\n",
    "order_items.drop(del_features_list,\n",
    "                 axis=1,\n",
    "                 inplace=True)\n",
    "order_items.head(3)"
   ]
  },
  {
   "cell_type": "markdown",
   "id": "communist-protection",
   "metadata": {
    "papermill": {
     "duration": 0.08629,
     "end_time": "2021-05-31T07:53:34.565257",
     "exception": false,
     "start_time": "2021-05-31T07:53:34.478967",
     "status": "completed"
    },
    "tags": []
   },
   "source": [
    "Regardons les différents statuts de commande pour **ne conserver que les commandes qui ne sont pas \"en cours\"**."
   ]
  },
  {
   "cell_type": "code",
   "execution_count": 130,
   "id": "subsequent-affect",
   "metadata": {
    "execution": {
     "iopub.execute_input": "2021-05-31T07:53:34.745250Z",
     "iopub.status.busy": "2021-05-31T07:53:34.744481Z",
     "iopub.status.idle": "2021-05-31T07:53:34.788903Z",
     "shell.execute_reply": "2021-05-31T07:53:34.788329Z",
     "shell.execute_reply.started": "2021-05-31T07:47:22.121563Z"
    },
    "papermill": {
     "duration": 0.13736,
     "end_time": "2021-05-31T07:53:34.789065",
     "exception": false,
     "start_time": "2021-05-31T07:53:34.651705",
     "status": "completed"
    },
    "tags": []
   },
   "outputs": [
    {
     "data": {
      "text/plain": [
       "order_status\n",
       "approved            4\n",
       "canceled          704\n",
       "delivered      132036\n",
       "invoiced          435\n",
       "processing        455\n",
       "shipped          1294\n",
       "unavailable         8\n",
       "Name: order_item_id, dtype: int64"
      ]
     },
     "execution_count": 130,
     "metadata": {},
     "output_type": "execute_result"
    }
   ],
   "source": [
    "order_items.groupby(by=\"order_status\").sum()[\"order_item_id\"]"
   ]
  },
  {
   "cell_type": "markdown",
   "id": "comprehensive-association",
   "metadata": {
    "papermill": {
     "duration": 0.087224,
     "end_time": "2021-05-31T07:53:34.963908",
     "exception": false,
     "start_time": "2021-05-31T07:53:34.876684",
     "status": "completed"
    },
    "tags": []
   },
   "source": [
    "Nous conserverons les lignes typées **\"delivered\"**."
   ]
  },
  {
   "cell_type": "code",
   "execution_count": 131,
   "id": "decimal-oklahoma",
   "metadata": {
    "execution": {
     "iopub.execute_input": "2021-05-31T07:53:35.161131Z",
     "iopub.status.busy": "2021-05-31T07:53:35.160364Z",
     "iopub.status.idle": "2021-05-31T07:53:35.186435Z",
     "shell.execute_reply": "2021-05-31T07:53:35.185775Z",
     "shell.execute_reply.started": "2021-05-31T07:47:22.172422Z"
    },
    "papermill": {
     "duration": 0.134828,
     "end_time": "2021-05-31T07:53:35.186597",
     "exception": false,
     "start_time": "2021-05-31T07:53:35.051769",
     "status": "completed"
    },
    "tags": []
   },
   "outputs": [],
   "source": [
    "order_items = order_items[order_items[\"order_status\"] == \"delivered\"]"
   ]
  },
  {
   "cell_type": "markdown",
   "id": "protective-monroe",
   "metadata": {
    "papermill": {
     "duration": 0.086938,
     "end_time": "2021-05-31T07:53:35.360436",
     "exception": false,
     "start_time": "2021-05-31T07:53:35.273498",
     "status": "completed"
    },
    "tags": []
   },
   "source": [
    "Nous pouvons également vérifier l'évolution du nombre de commandes passées par jour sur le site E-Commerce :"
   ]
  },
  {
   "cell_type": "code",
   "execution_count": 132,
   "id": "diagnostic-bidding",
   "metadata": {
    "execution": {
     "iopub.execute_input": "2021-05-31T07:53:35.596882Z",
     "iopub.status.busy": "2021-05-31T07:53:35.595765Z",
     "iopub.status.idle": "2021-05-31T07:53:36.245396Z",
     "shell.execute_reply": "2021-05-31T07:53:36.244130Z",
     "shell.execute_reply.started": "2021-05-31T07:47:22.229197Z"
    },
    "papermill": {
     "duration": 0.797861,
     "end_time": "2021-05-31T07:53:36.245588",
     "exception": false,
     "start_time": "2021-05-31T07:53:35.447727",
     "status": "completed"
    },
    "tags": []
   },
   "outputs": [
    {
     "data": {
      "image/png": "[encoded data removed]",
      "text/plain": [
       "<Figure size 1440x576 with 1 Axes>"
      ]
     },
     "metadata": {},
     "output_type": "display_data"
    }
   ],
   "source": [
    "orders_per_days = order_items.groupby(order_items[\"order_purchase_timestamp\"]\\\n",
    "                                      .astype('datetime64[ns]').dt.date)\\\n",
    "                                    .count()[\"order_id\"]\n",
    "fig = plt.figure(figsize=(20, 8))\n",
    "ax = orders_per_days.plot(color=\"#00d994\")\n",
    "ax.set_ylabel(\"count\")\n",
    "plt.title(f\"Evolution du nombre de commandes journalières\\n\",\n",
    "          fontdict=font_title)\n",
    "plt.show()"
   ]
  },
  {
   "cell_type": "markdown",
   "id": "located-times",
   "metadata": {
    "papermill": {
     "duration": 0.088061,
     "end_time": "2021-05-31T07:53:36.422180",
     "exception": false,
     "start_time": "2021-05-31T07:53:36.334119",
     "status": "completed"
    },
    "tags": []
   },
   "source": [
    "On remarque un pic anormal autour de Novembre / Décembre 2017 *(ce qui peut être un pic correspondant aux cadeaux de fin d'année)* ainsi qu'un plateau sans commandes entre Octobre 2016 et Janvier 2017.\n",
    "\n",
    "Nous allons **modifier les types de données** en datetime pour les colonnes temporelles."
   ]
  },
  {
   "cell_type": "code",
   "execution_count": 133,
   "id": "premium-bahrain",
   "metadata": {
    "execution": {
     "iopub.execute_input": "2021-05-31T07:53:36.653254Z",
     "iopub.status.busy": "2021-05-31T07:53:36.652491Z",
     "iopub.status.idle": "2021-05-31T07:53:36.805483Z",
     "shell.execute_reply": "2021-05-31T07:53:36.804754Z",
     "shell.execute_reply.started": "2021-05-31T07:47:22.888282Z"
    },
    "papermill": {
     "duration": 0.294415,
     "end_time": "2021-05-31T07:53:36.805652",
     "exception": false,
     "start_time": "2021-05-31T07:53:36.511237",
     "status": "completed"
    },
    "tags": []
   },
   "outputs": [
    {
     "name": "stdout",
     "output_type": "stream",
     "text": [
      "<class 'pandas.core.frame.DataFrame'>\n",
      "Int64Index: 110197 entries, 0 to 112649\n",
      "Data columns (total 9 columns):\n",
      " #   Column                         Non-Null Count   Dtype         \n",
      "---  ------                         --------------   -----         \n",
      " 0   order_id                       110197 non-null  object        \n",
      " 1   order_item_id                  110197 non-null  int64         \n",
      " 2   product_id                     110197 non-null  object        \n",
      " 3   price                          110197 non-null  float64       \n",
      " 4   freight_value                  110197 non-null  float64       \n",
      " 5   customer_id                    110197 non-null  object        \n",
      " 6   order_status                   110197 non-null  object        \n",
      " 7   order_purchase_timestamp       110197 non-null  datetime64[ns]\n",
      " 8   order_delivered_customer_date  110189 non-null  datetime64[ns]\n",
      "dtypes: datetime64[ns](2), float64(2), int64(1), object(4)\n",
      "memory usage: 8.4+ MB\n"
     ]
    }
   ],
   "source": [
    "# Modify object cols in timestamp format\n",
    "datetime_cols = [\"order_purchase_timestamp\", \"order_delivered_customer_date\"]\n",
    "for col in datetime_cols:\n",
    "    order_items[col] = order_items[col].astype('datetime64[ns]')\n",
    "order_items.info()"
   ]
  },
  {
   "cell_type": "markdown",
   "id": "maritime-shareware",
   "metadata": {
    "papermill": {
     "duration": 0.089372,
     "end_time": "2021-05-31T07:53:37.060093",
     "exception": false,
     "start_time": "2021-05-31T07:53:36.970721",
     "status": "completed"
    },
    "tags": []
   },
   "source": [
    "Nous pouvons également regarder la **répartition du nombre de commandes par mois, jour de la semaine ou heure de la journée** :"
   ]
  },
  {
   "cell_type": "code",
   "execution_count": 134,
   "id": "overall-street",
   "metadata": {
    "execution": {
     "iopub.execute_input": "2021-05-31T07:53:37.250203Z",
     "iopub.status.busy": "2021-05-31T07:53:37.249459Z",
     "iopub.status.idle": "2021-05-31T07:53:37.561311Z",
     "shell.execute_reply": "2021-05-31T07:53:37.560656Z",
     "shell.execute_reply.started": "2021-05-31T07:47:23.057316Z"
    },
    "papermill": {
     "duration": 0.41128,
     "end_time": "2021-05-31T07:53:37.561463",
     "exception": false,
     "start_time": "2021-05-31T07:53:37.150183",
     "status": "completed"
    },
    "tags": []
   },
   "outputs": [
    {
     "data": {
      "image/png": "[encoded data removed]",
      "text/plain": [
       "<Figure size 864x576 with 1 Axes>"
      ]
     },
     "metadata": {},
     "output_type": "display_data"
    }
   ],
   "source": [
    "order_items.groupby(order_items['order_purchase_timestamp'].dt.month)\\\n",
    "    .agg({\"order_id\": \"nunique\"})\\\n",
    "    .plot(figsize=(12,8), kind=\"bar\",\n",
    "          title=\"Répartition des commandes par mois\",\n",
    "          ylabel=\"Nb orders\",\n",
    "          xlabel=\"Month\",\n",
    "          legend=False)\n",
    "plt.xticks(np.arange(0,12), ['Jan','Feb','Mar','Apr','May','Jun',\n",
    "                             'Jul','Aug','Sept','Oct','Nov','Dec'], \n",
    "           rotation='horizontal')\n",
    "plt.show()"
   ]
  },
  {
   "cell_type": "code",
   "execution_count": 135,
   "id": "super-nightmare",
   "metadata": {
    "execution": {
     "iopub.execute_input": "2021-05-31T07:53:37.753310Z",
     "iopub.status.busy": "2021-05-31T07:53:37.752518Z",
     "iopub.status.idle": "2021-05-31T07:53:38.204884Z",
     "shell.execute_reply": "2021-05-31T07:53:38.204247Z",
     "shell.execute_reply.started": "2021-05-31T07:47:23.350130Z"
    },
    "papermill": {
     "duration": 0.551921,
     "end_time": "2021-05-31T07:53:38.205041",
     "exception": false,
     "start_time": "2021-05-31T07:53:37.653120",
     "status": "completed"
    },
    "tags": []
   },
   "outputs": [
    {
     "data": {
      "image/png": "[encoded data removed]",
      "text/plain": [
       "<Figure size 864x576 with 1 Axes>"
      ]
     },
     "metadata": {},
     "output_type": "display_data"
    }
   ],
   "source": [
    "order_items.groupby(order_items['order_purchase_timestamp'].dt.dayofweek)\\\n",
    "    .agg({\"order_id\": \"nunique\"})\\\n",
    "    .plot(figsize=(12,8), kind=\"bar\",\n",
    "          title=\"Répartition des commandes par jour de la semaine\",\n",
    "          ylabel=\"Nb orders\",\n",
    "          xlabel=\"Day of week\",\n",
    "          legend=False)\n",
    "plt.xticks(np.arange(0,7), ['Mon','Tue','Wed','Thu','Fri','Sat','Sun'], rotation='horizontal')\n",
    "plt.show()"
   ]
  },
  {
   "cell_type": "code",
   "execution_count": 136,
   "id": "disciplinary-specific",
   "metadata": {
    "execution": {
     "iopub.execute_input": "2021-05-31T07:53:38.395004Z",
     "iopub.status.busy": "2021-05-31T07:53:38.394338Z",
     "iopub.status.idle": "2021-05-31T07:53:38.837555Z",
     "shell.execute_reply": "2021-05-31T07:53:38.836840Z",
     "shell.execute_reply.started": "2021-05-31T07:47:23.619655Z"
    },
    "papermill": {
     "duration": 0.540783,
     "end_time": "2021-05-31T07:53:38.837740",
     "exception": false,
     "start_time": "2021-05-31T07:53:38.296957",
     "status": "completed"
    },
    "tags": []
   },
   "outputs": [
    {
     "data": {
      "image/png": "[encoded data removed]",
      "text/plain": [
       "<Figure size 864x576 with 1 Axes>"
      ]
     },
     "metadata": {},
     "output_type": "display_data"
    }
   ],
   "source": [
    "order_items.groupby(order_items['order_purchase_timestamp'].dt.hour)\\\n",
    "    .agg({\"order_id\": \"nunique\"})\\\n",
    "    .plot(figsize=(12,8), kind=\"bar\",\n",
    "          title=\"Répartition des commandes par heure de la journée\",\n",
    "          ylabel=\"Nb orders\",\n",
    "          xlabel=\"Hour\",\n",
    "          legend=False)\n",
    "plt.show()"
   ]
  },
  {
   "cell_type": "markdown",
   "id": "metropolitan-universe",
   "metadata": {
    "papermill": {
     "duration": 0.093544,
     "end_time": "2021-05-31T07:53:39.024395",
     "exception": false,
     "start_time": "2021-05-31T07:53:38.930851",
     "status": "completed"
    },
    "tags": []
   },
   "source": [
    "On remarque les plus gros écart sur les données mensuelles. Vérifions les variances de chiffre d'affaire sur les mois de l'années"
   ]
  },
  {
   "cell_type": "code",
   "execution_count": 137,
   "id": "driving-regression",
   "metadata": {
    "execution": {
     "iopub.execute_input": "2021-05-31T07:53:39.218067Z",
     "iopub.status.busy": "2021-05-31T07:53:39.217416Z",
     "iopub.status.idle": "2021-05-31T07:53:39.742425Z",
     "shell.execute_reply": "2021-05-31T07:53:39.743022Z",
     "shell.execute_reply.started": "2021-05-31T07:47:24.079427Z"
    },
    "papermill": {
     "duration": 0.626138,
     "end_time": "2021-05-31T07:53:39.743446",
     "exception": false,
     "start_time": "2021-05-31T07:53:39.117308",
     "status": "completed"
    },
    "tags": []
   },
   "outputs": [
    {
     "data": {
      "image/png": "[encoded data removed]",
      "text/plain": [
       "<Figure size 864x576 with 1 Axes>"
      ]
     },
     "metadata": {},
     "output_type": "display_data"
    }
   ],
   "source": [
    "order_items[\"sale_month\"] = order_items['order_purchase_timestamp'].dt.month\n",
    "fig = plt.figure(figsize=(12,8))\n",
    "sns.boxplot(data=order_items[order_items.price < 500], x=\"sale_month\", y=\"price\")\n",
    "plt.title(\"Distribution du C.A. sur les mois de l'année\", fontsize=18, color=\"b\")\n",
    "plt.show()"
   ]
  },
  {
   "cell_type": "markdown",
   "id": "exposed-stock",
   "metadata": {
    "papermill": {
     "duration": 0.098295,
     "end_time": "2021-05-31T07:53:39.935944",
     "exception": false,
     "start_time": "2021-05-31T07:53:39.837649",
     "status": "completed"
    },
    "tags": []
   },
   "source": [
    "Les médianes et variances restent très proche sur les différents mois de l'année. Nous intégrerons tout de même cette donnée pour le moment mais il sera judicieux de regarder l'évolution de cette distribution pour l'intégrer dans le cadre du contrat de maintenance."
   ]
  },
  {
   "cell_type": "markdown",
   "id": "contemporary-pizza",
   "metadata": {
    "papermill": {
     "duration": 0.092783,
     "end_time": "2021-05-31T07:53:40.122426",
     "exception": false,
     "start_time": "2021-05-31T07:53:40.029643",
     "status": "completed"
    },
    "tags": []
   },
   "source": [
    "Pour le dataset des **paiements, vous allons créer de nouvelles variables** à savoir :\n",
    "- Le nombre de moyens de paiement différents utilisés sur la commande.\n",
    "- Le nombre d'échéances totales de la commande."
   ]
  },
  {
   "cell_type": "code",
   "execution_count": 138,
   "id": "elementary-mortgage",
   "metadata": {
    "execution": {
     "iopub.execute_input": "2021-05-31T07:53:40.321501Z",
     "iopub.status.busy": "2021-05-31T07:53:40.320710Z",
     "iopub.status.idle": "2021-05-31T07:53:40.846955Z",
     "shell.execute_reply": "2021-05-31T07:53:40.847491Z",
     "shell.execute_reply.started": "2021-05-31T07:47:24.847566Z"
    },
    "papermill": {
     "duration": 0.63126,
     "end_time": "2021-05-31T07:53:40.847708",
     "exception": false,
     "start_time": "2021-05-31T07:53:40.216448",
     "status": "completed"
    },
    "tags": []
   },
   "outputs": [
    {
     "data": {
      "text/html": [
       "<div>\n",
       "<style scoped>\n",
       "    .dataframe tbody tr th:only-of-type {\n",
       "        vertical-align: middle;\n",
       "    }\n",
       "\n",
       "    .dataframe tbody tr th {\n",
       "        vertical-align: top;\n",
       "    }\n",
       "\n",
       "    .dataframe thead th {\n",
       "        text-align: right;\n",
       "    }\n",
       "</style>\n",
       "<table border=\"1\" class=\"dataframe\">\n",
       "  <thead>\n",
       "    <tr style=\"text-align: right;\">\n",
       "      <th></th>\n",
       "      <th>order_id</th>\n",
       "      <th>order_item_id</th>\n",
       "      <th>product_id</th>\n",
       "      <th>price</th>\n",
       "      <th>freight_value</th>\n",
       "      <th>customer_id</th>\n",
       "      <th>order_status</th>\n",
       "      <th>order_purchase_timestamp</th>\n",
       "      <th>order_delivered_customer_date</th>\n",
       "      <th>sale_month</th>\n",
       "      <th>nb_payment_sequential</th>\n",
       "      <th>sum_payment_installments</th>\n",
       "    </tr>\n",
       "  </thead>\n",
       "  <tbody>\n",
       "    <tr>\n",
       "      <th>0</th>\n",
       "      <td>00010242fe8c5a6d1ba2dd792cb16214</td>\n",
       "      <td>1</td>\n",
       "      <td>4244733e06e7ecb4970a6e2683c13e61</td>\n",
       "      <td>58.9</td>\n",
       "      <td>13.29</td>\n",
       "      <td>3ce436f183e68e07877b285a838db11a</td>\n",
       "      <td>delivered</td>\n",
       "      <td>2017-09-13 08:59:02</td>\n",
       "      <td>2017-09-20 23:43:48</td>\n",
       "      <td>9</td>\n",
       "      <td>1.0</td>\n",
       "      <td>2.0</td>\n",
       "    </tr>\n",
       "    <tr>\n",
       "      <th>1</th>\n",
       "      <td>00018f77f2f0320c557190d7a144bdd3</td>\n",
       "      <td>1</td>\n",
       "      <td>e5f2d52b802189ee658865ca93d83a8f</td>\n",
       "      <td>239.9</td>\n",
       "      <td>19.93</td>\n",
       "      <td>f6dd3ec061db4e3987629fe6b26e5cce</td>\n",
       "      <td>delivered</td>\n",
       "      <td>2017-04-26 10:53:06</td>\n",
       "      <td>2017-05-12 16:04:24</td>\n",
       "      <td>4</td>\n",
       "      <td>1.0</td>\n",
       "      <td>3.0</td>\n",
       "    </tr>\n",
       "    <tr>\n",
       "      <th>2</th>\n",
       "      <td>000229ec398224ef6ca0657da4fc703e</td>\n",
       "      <td>1</td>\n",
       "      <td>c777355d18b72b67abbeef9df44fd0fd</td>\n",
       "      <td>199.0</td>\n",
       "      <td>17.87</td>\n",
       "      <td>6489ae5e4333f3693df5ad4372dab6d3</td>\n",
       "      <td>delivered</td>\n",
       "      <td>2018-01-14 14:33:31</td>\n",
       "      <td>2018-01-22 13:19:16</td>\n",
       "      <td>1</td>\n",
       "      <td>1.0</td>\n",
       "      <td>5.0</td>\n",
       "    </tr>\n",
       "  </tbody>\n",
       "</table>\n",
       "</div>"
      ],
      "text/plain": [
       "                           order_id  order_item_id  \\\n",
       "0  00010242fe8c5a6d1ba2dd792cb16214              1   \n",
       "1  00018f77f2f0320c557190d7a144bdd3              1   \n",
       "2  000229ec398224ef6ca0657da4fc703e              1   \n",
       "\n",
       "                         product_id  price  freight_value  \\\n",
       "0  4244733e06e7ecb4970a6e2683c13e61   58.9          13.29   \n",
       "1  e5f2d52b802189ee658865ca93d83a8f  239.9          19.93   \n",
       "2  c777355d18b72b67abbeef9df44fd0fd  199.0          17.87   \n",
       "\n",
       "                        customer_id order_status order_purchase_timestamp  \\\n",
       "0  3ce436f183e68e07877b285a838db11a    delivered      2017-09-13 08:59:02   \n",
       "1  f6dd3ec061db4e3987629fe6b26e5cce    delivered      2017-04-26 10:53:06   \n",
       "2  6489ae5e4333f3693df5ad4372dab6d3    delivered      2018-01-14 14:33:31   \n",
       "\n",
       "  order_delivered_customer_date  sale_month  nb_payment_sequential  \\\n",
       "0           2017-09-20 23:43:48           9                    1.0   \n",
       "1           2017-05-12 16:04:24           4                    1.0   \n",
       "2           2018-01-22 13:19:16           1                    1.0   \n",
       "\n",
       "   sum_payment_installments  \n",
       "0                       2.0  \n",
       "1                       3.0  \n",
       "2                       5.0  "
      ]
     },
     "execution_count": 138,
     "metadata": {},
     "output_type": "execute_result"
    }
   ],
   "source": [
    "group_payments = order_payments.groupby(by=\"order_id\").agg(\n",
    "    {\"payment_sequential\": 'count',\n",
    "     \"payment_installments\": 'sum'})\n",
    "\n",
    "order_items = pd.merge(order_items, group_payments,\n",
    "                       how=\"left\",\n",
    "                       on=\"order_id\")\n",
    "order_items = order_items.rename(columns={\n",
    "    \"payment_sequential\": \"nb_payment_sequential\",\n",
    "    \"payment_installments\": \"sum_payment_installments\"})\n",
    "order_items.head(3)"
   ]
  },
  {
   "cell_type": "markdown",
   "id": "exotic-thousand",
   "metadata": {
    "papermill": {
     "duration": 0.094915,
     "end_time": "2021-05-31T07:53:41.037816",
     "exception": false,
     "start_time": "2021-05-31T07:53:40.942901",
     "status": "completed"
    },
    "tags": []
   },
   "source": [
    "Nous allons également **vérifier la répartition des moyens de paiement utilisés** pour décider si cette information est importante ou non dans les analyses :"
   ]
  },
  {
   "cell_type": "code",
   "execution_count": 139,
   "id": "banned-blackberry",
   "metadata": {
    "execution": {
     "iopub.execute_input": "2021-05-31T07:53:41.248174Z",
     "iopub.status.busy": "2021-05-31T07:53:41.247387Z",
     "iopub.status.idle": "2021-05-31T07:53:41.541333Z",
     "shell.execute_reply": "2021-05-31T07:53:41.541931Z",
     "shell.execute_reply.started": "2021-05-31T07:47:25.363073Z"
    },
    "papermill": {
     "duration": 0.407863,
     "end_time": "2021-05-31T07:53:41.542143",
     "exception": false,
     "start_time": "2021-05-31T07:53:41.134280",
     "status": "completed"
    },
    "tags": []
   },
   "outputs": [
    {
     "data": {
      "image/png": "[encoded data removed]",
      "text/plain": [
       "<Figure size 864x576 with 1 Axes>"
      ]
     },
     "metadata": {},
     "output_type": "display_data"
    }
   ],
   "source": [
    "fig = plt.figure(figsize=(12, 8))\n",
    "sns.countplot(data=order_payments, x=\"payment_type\",\n",
    "              edgecolor=\"black\",\n",
    "              color=\"#00d994\", alpha=0.7)\n",
    "plt.title(f\"Les moyens de paiement utilisés sur le site\\n\",\n",
    "          fontdict=font_title)\n",
    "plt.show()"
   ]
  },
  {
   "cell_type": "markdown",
   "id": "rocky-juvenile",
   "metadata": {
    "papermill": {
     "duration": 0.096805,
     "end_time": "2021-05-31T07:53:41.736028",
     "exception": false,
     "start_time": "2021-05-31T07:53:41.639223",
     "status": "completed"
    },
    "tags": []
   },
   "source": [
    "On remarque que 80% des paiements environ sont réalisés en carte bancaire. Nous ne prendrons donc pas en considération cette variable dans nos explorations.\n",
    "\n",
    "Pour les **avis clients**, nous allons également créer une nouvelle variable qui indiquera seulement si **oui ou non la commande a été notée *(True or False)*** et une seconde variable qui reprendra la **note attribuée**."
   ]
  },
  {
   "cell_type": "code",
   "execution_count": 140,
   "id": "final-stationery",
   "metadata": {
    "execution": {
     "iopub.execute_input": "2021-05-31T07:53:41.931346Z",
     "iopub.status.busy": "2021-05-31T07:53:41.930519Z",
     "iopub.status.idle": "2021-05-31T07:53:42.450769Z",
     "shell.execute_reply": "2021-05-31T07:53:42.451281Z",
     "shell.execute_reply.started": "2021-05-31T07:47:25.674255Z"
    },
    "papermill": {
     "duration": 0.618784,
     "end_time": "2021-05-31T07:53:42.451475",
     "exception": false,
     "start_time": "2021-05-31T07:53:41.832691",
     "status": "completed"
    },
    "tags": []
   },
   "outputs": [
    {
     "data": {
      "text/html": [
       "<div>\n",
       "<style scoped>\n",
       "    .dataframe tbody tr th:only-of-type {\n",
       "        vertical-align: middle;\n",
       "    }\n",
       "\n",
       "    .dataframe tbody tr th {\n",
       "        vertical-align: top;\n",
       "    }\n",
       "\n",
       "    .dataframe thead th {\n",
       "        text-align: right;\n",
       "    }\n",
       "</style>\n",
       "<table border=\"1\" class=\"dataframe\">\n",
       "  <thead>\n",
       "    <tr style=\"text-align: right;\">\n",
       "      <th></th>\n",
       "      <th>order_id</th>\n",
       "      <th>order_item_id</th>\n",
       "      <th>product_id</th>\n",
       "      <th>price</th>\n",
       "      <th>freight_value</th>\n",
       "      <th>customer_id</th>\n",
       "      <th>order_status</th>\n",
       "      <th>order_purchase_timestamp</th>\n",
       "      <th>order_delivered_customer_date</th>\n",
       "      <th>sale_month</th>\n",
       "      <th>nb_payment_sequential</th>\n",
       "      <th>sum_payment_installments</th>\n",
       "      <th>is_reviewed</th>\n",
       "      <th>review_score</th>\n",
       "    </tr>\n",
       "  </thead>\n",
       "  <tbody>\n",
       "    <tr>\n",
       "      <th>0</th>\n",
       "      <td>00010242fe8c5a6d1ba2dd792cb16214</td>\n",
       "      <td>1</td>\n",
       "      <td>4244733e06e7ecb4970a6e2683c13e61</td>\n",
       "      <td>58.9</td>\n",
       "      <td>13.29</td>\n",
       "      <td>3ce436f183e68e07877b285a838db11a</td>\n",
       "      <td>delivered</td>\n",
       "      <td>2017-09-13 08:59:02</td>\n",
       "      <td>2017-09-20 23:43:48</td>\n",
       "      <td>9</td>\n",
       "      <td>1.0</td>\n",
       "      <td>2.0</td>\n",
       "      <td>1.0</td>\n",
       "      <td>5.0</td>\n",
       "    </tr>\n",
       "    <tr>\n",
       "      <th>1</th>\n",
       "      <td>00018f77f2f0320c557190d7a144bdd3</td>\n",
       "      <td>1</td>\n",
       "      <td>e5f2d52b802189ee658865ca93d83a8f</td>\n",
       "      <td>239.9</td>\n",
       "      <td>19.93</td>\n",
       "      <td>f6dd3ec061db4e3987629fe6b26e5cce</td>\n",
       "      <td>delivered</td>\n",
       "      <td>2017-04-26 10:53:06</td>\n",
       "      <td>2017-05-12 16:04:24</td>\n",
       "      <td>4</td>\n",
       "      <td>1.0</td>\n",
       "      <td>3.0</td>\n",
       "      <td>1.0</td>\n",
       "      <td>4.0</td>\n",
       "    </tr>\n",
       "    <tr>\n",
       "      <th>2</th>\n",
       "      <td>000229ec398224ef6ca0657da4fc703e</td>\n",
       "      <td>1</td>\n",
       "      <td>c777355d18b72b67abbeef9df44fd0fd</td>\n",
       "      <td>199.0</td>\n",
       "      <td>17.87</td>\n",
       "      <td>6489ae5e4333f3693df5ad4372dab6d3</td>\n",
       "      <td>delivered</td>\n",
       "      <td>2018-01-14 14:33:31</td>\n",
       "      <td>2018-01-22 13:19:16</td>\n",
       "      <td>1</td>\n",
       "      <td>1.0</td>\n",
       "      <td>5.0</td>\n",
       "      <td>1.0</td>\n",
       "      <td>5.0</td>\n",
       "    </tr>\n",
       "  </tbody>\n",
       "</table>\n",
       "</div>"
      ],
      "text/plain": [
       "                           order_id  order_item_id  \\\n",
       "0  00010242fe8c5a6d1ba2dd792cb16214              1   \n",
       "1  00018f77f2f0320c557190d7a144bdd3              1   \n",
       "2  000229ec398224ef6ca0657da4fc703e              1   \n",
       "\n",
       "                         product_id  price  freight_value  \\\n",
       "0  4244733e06e7ecb4970a6e2683c13e61   58.9          13.29   \n",
       "1  e5f2d52b802189ee658865ca93d83a8f  239.9          19.93   \n",
       "2  c777355d18b72b67abbeef9df44fd0fd  199.0          17.87   \n",
       "\n",
       "                        customer_id order_status order_purchase_timestamp  \\\n",
       "0  3ce436f183e68e07877b285a838db11a    delivered      2017-09-13 08:59:02   \n",
       "1  f6dd3ec061db4e3987629fe6b26e5cce    delivered      2017-04-26 10:53:06   \n",
       "2  6489ae5e4333f3693df5ad4372dab6d3    delivered      2018-01-14 14:33:31   \n",
       "\n",
       "  order_delivered_customer_date  sale_month  nb_payment_sequential  \\\n",
       "0           2017-09-20 23:43:48           9                    1.0   \n",
       "1           2017-05-12 16:04:24           4                    1.0   \n",
       "2           2018-01-22 13:19:16           1                    1.0   \n",
       "\n",
       "   sum_payment_installments  is_reviewed  review_score  \n",
       "0                       2.0          1.0           5.0  \n",
       "1                       3.0          1.0           4.0  \n",
       "2                       5.0          1.0           5.0  "
      ]
     },
     "execution_count": 140,
     "metadata": {},
     "output_type": "execute_result"
    }
   ],
   "source": [
    "group_reviews = order_reviews.groupby(\"order_id\").agg({\n",
    "    \"review_id\": \"count\",\n",
    "    \"review_score\": \"mean\"})\n",
    "\n",
    "order_items = pd.merge(order_items, group_reviews,\n",
    "                       how=\"left\",\n",
    "                       on=\"order_id\")\n",
    "order_items = order_items.rename(columns={\n",
    "    \"review_id\": \"is_reviewed\"})\n",
    "order_items.head(3)"
   ]
  },
  {
   "cell_type": "code",
   "execution_count": 141,
   "id": "threaded-crazy",
   "metadata": {
    "execution": {
     "iopub.execute_input": "2021-05-31T07:53:42.648035Z",
     "iopub.status.busy": "2021-05-31T07:53:42.646704Z",
     "iopub.status.idle": "2021-05-31T07:53:42.651771Z",
     "shell.execute_reply": "2021-05-31T07:53:42.652245Z",
     "shell.execute_reply.started": "2021-05-31T07:47:26.156759Z"
    },
    "papermill": {
     "duration": 0.106345,
     "end_time": "2021-05-31T07:53:42.652449",
     "exception": false,
     "start_time": "2021-05-31T07:53:42.546104",
     "status": "completed"
    },
    "tags": []
   },
   "outputs": [],
   "source": [
    "order_items[\"is_reviewed\"] = np.where(order_items[\"is_reviewed\"] == 1,\n",
    "                                      True, False)"
   ]
  },
  {
   "cell_type": "markdown",
   "id": "smooth-teacher",
   "metadata": {
    "papermill": {
     "duration": 0.095205,
     "end_time": "2021-05-31T07:53:42.846061",
     "exception": false,
     "start_time": "2021-05-31T07:53:42.750856",
     "status": "completed"
    },
    "tags": []
   },
   "source": [
    "Nous pouvons à présent projeter la répartion des notes attribuées aux commandes du site :"
   ]
  },
  {
   "cell_type": "code",
   "execution_count": 142,
   "id": "organized-affiliation",
   "metadata": {
    "execution": {
     "iopub.execute_input": "2021-05-31T07:53:43.047055Z",
     "iopub.status.busy": "2021-05-31T07:53:43.045997Z",
     "iopub.status.idle": "2021-05-31T07:53:43.327957Z",
     "shell.execute_reply": "2021-05-31T07:53:43.328507Z",
     "shell.execute_reply.started": "2021-05-31T07:47:26.166003Z"
    },
    "papermill": {
     "duration": 0.385035,
     "end_time": "2021-05-31T07:53:43.328748",
     "exception": false,
     "start_time": "2021-05-31T07:53:42.943713",
     "status": "completed"
    },
    "tags": []
   },
   "outputs": [
    {
     "data": {
      "image/png": "[encoded data removed]",
      "text/plain": [
       "<Figure size 864x576 with 1 Axes>"
      ]
     },
     "metadata": {},
     "output_type": "display_data"
    }
   ],
   "source": [
    "fig = plt.figure(figsize=(12, 8))\n",
    "sns.histplot(data=order_items, x=\"review_score\", \n",
    "             discrete=True,\n",
    "             edgecolor=\"black\",\n",
    "             color=\"#00d994\", alpha=0.7)\n",
    "plt.title(f\"Répartition des notes attribuées aux commandes\\n\",\n",
    "          fontdict=font_title)\n",
    "plt.show()\n"
   ]
  },
  {
   "cell_type": "markdown",
   "id": "emotional-harmony",
   "metadata": {
    "papermill": {
     "duration": 0.096886,
     "end_time": "2021-05-31T07:53:43.524347",
     "exception": false,
     "start_time": "2021-05-31T07:53:43.427461",
     "status": "completed"
    },
    "tags": []
   },
   "source": [
    "Il nous reste à réaliser la **jointure sur le fichier clients** :"
   ]
  },
  {
   "cell_type": "code",
   "execution_count": 143,
   "id": "remarkable-driving",
   "metadata": {
    "execution": {
     "iopub.execute_input": "2021-05-31T07:53:43.724971Z",
     "iopub.status.busy": "2021-05-31T07:53:43.723721Z",
     "iopub.status.idle": "2021-05-31T07:53:43.962088Z",
     "shell.execute_reply": "2021-05-31T07:53:43.962638Z",
     "shell.execute_reply.started": "2021-05-31T07:47:26.426169Z"
    },
    "papermill": {
     "duration": 0.342069,
     "end_time": "2021-05-31T07:53:43.962855",
     "exception": false,
     "start_time": "2021-05-31T07:53:43.620786",
     "status": "completed"
    },
    "tags": []
   },
   "outputs": [
    {
     "data": {
      "text/html": [
       "<div>\n",
       "<style scoped>\n",
       "    .dataframe tbody tr th:only-of-type {\n",
       "        vertical-align: middle;\n",
       "    }\n",
       "\n",
       "    .dataframe tbody tr th {\n",
       "        vertical-align: top;\n",
       "    }\n",
       "\n",
       "    .dataframe thead th {\n",
       "        text-align: right;\n",
       "    }\n",
       "</style>\n",
       "<table border=\"1\" class=\"dataframe\">\n",
       "  <thead>\n",
       "    <tr style=\"text-align: right;\">\n",
       "      <th></th>\n",
       "      <th>order_id</th>\n",
       "      <th>order_item_id</th>\n",
       "      <th>product_id</th>\n",
       "      <th>price</th>\n",
       "      <th>freight_value</th>\n",
       "      <th>customer_id</th>\n",
       "      <th>order_status</th>\n",
       "      <th>order_purchase_timestamp</th>\n",
       "      <th>order_delivered_customer_date</th>\n",
       "      <th>sale_month</th>\n",
       "      <th>nb_payment_sequential</th>\n",
       "      <th>sum_payment_installments</th>\n",
       "      <th>is_reviewed</th>\n",
       "      <th>review_score</th>\n",
       "      <th>customer_unique_id</th>\n",
       "      <th>customer_zip_code_prefix</th>\n",
       "      <th>customer_city</th>\n",
       "      <th>customer_state</th>\n",
       "    </tr>\n",
       "  </thead>\n",
       "  <tbody>\n",
       "    <tr>\n",
       "      <th>0</th>\n",
       "      <td>00010242fe8c5a6d1ba2dd792cb16214</td>\n",
       "      <td>1</td>\n",
       "      <td>4244733e06e7ecb4970a6e2683c13e61</td>\n",
       "      <td>58.9</td>\n",
       "      <td>13.29</td>\n",
       "      <td>3ce436f183e68e07877b285a838db11a</td>\n",
       "      <td>delivered</td>\n",
       "      <td>2017-09-13 08:59:02</td>\n",
       "      <td>2017-09-20 23:43:48</td>\n",
       "      <td>9</td>\n",
       "      <td>1.0</td>\n",
       "      <td>2.0</td>\n",
       "      <td>True</td>\n",
       "      <td>5.0</td>\n",
       "      <td>871766c5855e863f6eccc05f988b23cb</td>\n",
       "      <td>28013</td>\n",
       "      <td>campos dos goytacazes</td>\n",
       "      <td>RJ</td>\n",
       "    </tr>\n",
       "    <tr>\n",
       "      <th>1</th>\n",
       "      <td>00018f77f2f0320c557190d7a144bdd3</td>\n",
       "      <td>1</td>\n",
       "      <td>e5f2d52b802189ee658865ca93d83a8f</td>\n",
       "      <td>239.9</td>\n",
       "      <td>19.93</td>\n",
       "      <td>f6dd3ec061db4e3987629fe6b26e5cce</td>\n",
       "      <td>delivered</td>\n",
       "      <td>2017-04-26 10:53:06</td>\n",
       "      <td>2017-05-12 16:04:24</td>\n",
       "      <td>4</td>\n",
       "      <td>1.0</td>\n",
       "      <td>3.0</td>\n",
       "      <td>True</td>\n",
       "      <td>4.0</td>\n",
       "      <td>eb28e67c4c0b83846050ddfb8a35d051</td>\n",
       "      <td>15775</td>\n",
       "      <td>santa fe do sul</td>\n",
       "      <td>SP</td>\n",
       "    </tr>\n",
       "    <tr>\n",
       "      <th>2</th>\n",
       "      <td>000229ec398224ef6ca0657da4fc703e</td>\n",
       "      <td>1</td>\n",
       "      <td>c777355d18b72b67abbeef9df44fd0fd</td>\n",
       "      <td>199.0</td>\n",
       "      <td>17.87</td>\n",
       "      <td>6489ae5e4333f3693df5ad4372dab6d3</td>\n",
       "      <td>delivered</td>\n",
       "      <td>2018-01-14 14:33:31</td>\n",
       "      <td>2018-01-22 13:19:16</td>\n",
       "      <td>1</td>\n",
       "      <td>1.0</td>\n",
       "      <td>5.0</td>\n",
       "      <td>True</td>\n",
       "      <td>5.0</td>\n",
       "      <td>3818d81c6709e39d06b2738a8d3a2474</td>\n",
       "      <td>35661</td>\n",
       "      <td>para de minas</td>\n",
       "      <td>MG</td>\n",
       "    </tr>\n",
       "  </tbody>\n",
       "</table>\n",
       "</div>"
      ],
      "text/plain": [
       "                           order_id  order_item_id  \\\n",
       "0  00010242fe8c5a6d1ba2dd792cb16214              1   \n",
       "1  00018f77f2f0320c557190d7a144bdd3              1   \n",
       "2  000229ec398224ef6ca0657da4fc703e              1   \n",
       "\n",
       "                         product_id  price  freight_value  \\\n",
       "0  4244733e06e7ecb4970a6e2683c13e61   58.9          13.29   \n",
       "1  e5f2d52b802189ee658865ca93d83a8f  239.9          19.93   \n",
       "2  c777355d18b72b67abbeef9df44fd0fd  199.0          17.87   \n",
       "\n",
       "                        customer_id order_status order_purchase_timestamp  \\\n",
       "0  3ce436f183e68e07877b285a838db11a    delivered      2017-09-13 08:59:02   \n",
       "1  f6dd3ec061db4e3987629fe6b26e5cce    delivered      2017-04-26 10:53:06   \n",
       "2  6489ae5e4333f3693df5ad4372dab6d3    delivered      2018-01-14 14:33:31   \n",
       "\n",
       "  order_delivered_customer_date  sale_month  nb_payment_sequential  \\\n",
       "0           2017-09-20 23:43:48           9                    1.0   \n",
       "1           2017-05-12 16:04:24           4                    1.0   \n",
       "2           2018-01-22 13:19:16           1                    1.0   \n",
       "\n",
       "   sum_payment_installments  is_reviewed  review_score  \\\n",
       "0                       2.0         True           5.0   \n",
       "1                       3.0         True           4.0   \n",
       "2                       5.0         True           5.0   \n",
       "\n",
       "                 customer_unique_id  customer_zip_code_prefix  \\\n",
       "0  871766c5855e863f6eccc05f988b23cb                     28013   \n",
       "1  eb28e67c4c0b83846050ddfb8a35d051                     15775   \n",
       "2  3818d81c6709e39d06b2738a8d3a2474                     35661   \n",
       "\n",
       "           customer_city customer_state  \n",
       "0  campos dos goytacazes             RJ  \n",
       "1        santa fe do sul             SP  \n",
       "2          para de minas             MG  "
      ]
     },
     "execution_count": 143,
     "metadata": {},
     "output_type": "execute_result"
    }
   ],
   "source": [
    "order_items = pd.merge(order_items, customers,\n",
    "                       how=\"left\",\n",
    "                       on=\"customer_id\")\n",
    "order_items.head(3)"
   ]
  },
  {
   "cell_type": "markdown",
   "id": "indoor-republican",
   "metadata": {
    "papermill": {
     "duration": 0.09851,
     "end_time": "2021-05-31T07:53:44.158940",
     "exception": false,
     "start_time": "2021-05-31T07:53:44.060430",
     "status": "completed"
    },
    "tags": []
   },
   "source": [
    "et enfin **créer le dataset global en réalisant la jointure avec les produits / catégories** :"
   ]
  },
  {
   "cell_type": "code",
   "execution_count": 144,
   "id": "close-donna",
   "metadata": {
    "execution": {
     "iopub.execute_input": "2021-05-31T07:53:44.361587Z",
     "iopub.status.busy": "2021-05-31T07:53:44.360887Z",
     "iopub.status.idle": "2021-05-31T07:53:44.493713Z",
     "shell.execute_reply": "2021-05-31T07:53:44.494214Z",
     "shell.execute_reply.started": "2021-05-31T07:47:26.666783Z"
    },
    "papermill": {
     "duration": 0.236364,
     "end_time": "2021-05-31T07:53:44.494456",
     "exception": false,
     "start_time": "2021-05-31T07:53:44.258092",
     "status": "completed"
    },
    "tags": []
   },
   "outputs": [
    {
     "data": {
      "text/html": [
       "<div>\n",
       "<style scoped>\n",
       "    .dataframe tbody tr th:only-of-type {\n",
       "        vertical-align: middle;\n",
       "    }\n",
       "\n",
       "    .dataframe tbody tr th {\n",
       "        vertical-align: top;\n",
       "    }\n",
       "\n",
       "    .dataframe thead th {\n",
       "        text-align: right;\n",
       "    }\n",
       "</style>\n",
       "<table border=\"1\" class=\"dataframe\">\n",
       "  <thead>\n",
       "    <tr style=\"text-align: right;\">\n",
       "      <th></th>\n",
       "      <th>order_id</th>\n",
       "      <th>order_item_id</th>\n",
       "      <th>product_id</th>\n",
       "      <th>price</th>\n",
       "      <th>freight_value</th>\n",
       "      <th>customer_id</th>\n",
       "      <th>order_status</th>\n",
       "      <th>order_purchase_timestamp</th>\n",
       "      <th>order_delivered_customer_date</th>\n",
       "      <th>sale_month</th>\n",
       "      <th>...</th>\n",
       "      <th>is_reviewed</th>\n",
       "      <th>review_score</th>\n",
       "      <th>customer_unique_id</th>\n",
       "      <th>customer_zip_code_prefix</th>\n",
       "      <th>customer_city</th>\n",
       "      <th>customer_state</th>\n",
       "      <th>product_name_lenght</th>\n",
       "      <th>product_description_lenght</th>\n",
       "      <th>product_photos_qty</th>\n",
       "      <th>product_category_name</th>\n",
       "    </tr>\n",
       "  </thead>\n",
       "  <tbody>\n",
       "    <tr>\n",
       "      <th>0</th>\n",
       "      <td>00010242fe8c5a6d1ba2dd792cb16214</td>\n",
       "      <td>1</td>\n",
       "      <td>4244733e06e7ecb4970a6e2683c13e61</td>\n",
       "      <td>58.9</td>\n",
       "      <td>13.29</td>\n",
       "      <td>3ce436f183e68e07877b285a838db11a</td>\n",
       "      <td>delivered</td>\n",
       "      <td>2017-09-13 08:59:02</td>\n",
       "      <td>2017-09-20 23:43:48</td>\n",
       "      <td>9</td>\n",
       "      <td>...</td>\n",
       "      <td>True</td>\n",
       "      <td>5.0</td>\n",
       "      <td>871766c5855e863f6eccc05f988b23cb</td>\n",
       "      <td>28013</td>\n",
       "      <td>campos dos goytacazes</td>\n",
       "      <td>RJ</td>\n",
       "      <td>58.0</td>\n",
       "      <td>598.0</td>\n",
       "      <td>4.0</td>\n",
       "      <td>cool_stuff</td>\n",
       "    </tr>\n",
       "    <tr>\n",
       "      <th>1</th>\n",
       "      <td>00018f77f2f0320c557190d7a144bdd3</td>\n",
       "      <td>1</td>\n",
       "      <td>e5f2d52b802189ee658865ca93d83a8f</td>\n",
       "      <td>239.9</td>\n",
       "      <td>19.93</td>\n",
       "      <td>f6dd3ec061db4e3987629fe6b26e5cce</td>\n",
       "      <td>delivered</td>\n",
       "      <td>2017-04-26 10:53:06</td>\n",
       "      <td>2017-05-12 16:04:24</td>\n",
       "      <td>4</td>\n",
       "      <td>...</td>\n",
       "      <td>True</td>\n",
       "      <td>4.0</td>\n",
       "      <td>eb28e67c4c0b83846050ddfb8a35d051</td>\n",
       "      <td>15775</td>\n",
       "      <td>santa fe do sul</td>\n",
       "      <td>SP</td>\n",
       "      <td>56.0</td>\n",
       "      <td>239.0</td>\n",
       "      <td>2.0</td>\n",
       "      <td>pet_shop</td>\n",
       "    </tr>\n",
       "    <tr>\n",
       "      <th>2</th>\n",
       "      <td>000229ec398224ef6ca0657da4fc703e</td>\n",
       "      <td>1</td>\n",
       "      <td>c777355d18b72b67abbeef9df44fd0fd</td>\n",
       "      <td>199.0</td>\n",
       "      <td>17.87</td>\n",
       "      <td>6489ae5e4333f3693df5ad4372dab6d3</td>\n",
       "      <td>delivered</td>\n",
       "      <td>2018-01-14 14:33:31</td>\n",
       "      <td>2018-01-22 13:19:16</td>\n",
       "      <td>1</td>\n",
       "      <td>...</td>\n",
       "      <td>True</td>\n",
       "      <td>5.0</td>\n",
       "      <td>3818d81c6709e39d06b2738a8d3a2474</td>\n",
       "      <td>35661</td>\n",
       "      <td>para de minas</td>\n",
       "      <td>MG</td>\n",
       "      <td>59.0</td>\n",
       "      <td>695.0</td>\n",
       "      <td>2.0</td>\n",
       "      <td>furniture_decor</td>\n",
       "    </tr>\n",
       "  </tbody>\n",
       "</table>\n",
       "<p>3 rows × 22 columns</p>\n",
       "</div>"
      ],
      "text/plain": [
       "                           order_id  order_item_id  \\\n",
       "0  00010242fe8c5a6d1ba2dd792cb16214              1   \n",
       "1  00018f77f2f0320c557190d7a144bdd3              1   \n",
       "2  000229ec398224ef6ca0657da4fc703e              1   \n",
       "\n",
       "                         product_id  price  freight_value  \\\n",
       "0  4244733e06e7ecb4970a6e2683c13e61   58.9          13.29   \n",
       "1  e5f2d52b802189ee658865ca93d83a8f  239.9          19.93   \n",
       "2  c777355d18b72b67abbeef9df44fd0fd  199.0          17.87   \n",
       "\n",
       "                        customer_id order_status order_purchase_timestamp  \\\n",
       "0  3ce436f183e68e07877b285a838db11a    delivered      2017-09-13 08:59:02   \n",
       "1  f6dd3ec061db4e3987629fe6b26e5cce    delivered      2017-04-26 10:53:06   \n",
       "2  6489ae5e4333f3693df5ad4372dab6d3    delivered      2018-01-14 14:33:31   \n",
       "\n",
       "  order_delivered_customer_date  sale_month  ...  is_reviewed  review_score  \\\n",
       "0           2017-09-20 23:43:48           9  ...         True           5.0   \n",
       "1           2017-05-12 16:04:24           4  ...         True           4.0   \n",
       "2           2018-01-22 13:19:16           1  ...         True           5.0   \n",
       "\n",
       "                 customer_unique_id  customer_zip_code_prefix  \\\n",
       "0  871766c5855e863f6eccc05f988b23cb                     28013   \n",
       "1  eb28e67c4c0b83846050ddfb8a35d051                     15775   \n",
       "2  3818d81c6709e39d06b2738a8d3a2474                     35661   \n",
       "\n",
       "           customer_city  customer_state product_name_lenght  \\\n",
       "0  campos dos goytacazes              RJ                58.0   \n",
       "1        santa fe do sul              SP                56.0   \n",
       "2          para de minas              MG                59.0   \n",
       "\n",
       "  product_description_lenght  product_photos_qty  product_category_name  \n",
       "0                      598.0                 4.0             cool_stuff  \n",
       "1                      239.0                 2.0               pet_shop  \n",
       "2                      695.0                 2.0        furniture_decor  \n",
       "\n",
       "[3 rows x 22 columns]"
      ]
     },
     "execution_count": 144,
     "metadata": {},
     "output_type": "execute_result"
    }
   ],
   "source": [
    "data = pd.merge(order_items, products,\n",
    "               how=\"left\",\n",
    "               on=\"product_id\")\n",
    "data.head(3)"
   ]
  },
  {
   "cell_type": "code",
   "execution_count": 145,
   "id": "massive-pharmaceutical",
   "metadata": {
    "execution": {
     "iopub.execute_input": "2021-05-31T07:53:44.694057Z",
     "iopub.status.busy": "2021-05-31T07:53:44.693402Z",
     "iopub.status.idle": "2021-05-31T07:53:44.824742Z",
     "shell.execute_reply": "2021-05-31T07:53:44.825266Z",
     "shell.execute_reply.started": "2021-05-31T07:47:26.806872Z"
    },
    "papermill": {
     "duration": 0.232756,
     "end_time": "2021-05-31T07:53:44.825488",
     "exception": false,
     "start_time": "2021-05-31T07:53:44.592732",
     "status": "completed"
    },
    "tags": []
   },
   "outputs": [
    {
     "name": "stdout",
     "output_type": "stream",
     "text": [
      "<class 'pandas.core.frame.DataFrame'>\n",
      "Int64Index: 110197 entries, 0 to 110196\n",
      "Data columns (total 22 columns):\n",
      " #   Column                         Non-Null Count   Dtype         \n",
      "---  ------                         --------------   -----         \n",
      " 0   order_id                       110197 non-null  object        \n",
      " 1   order_item_id                  110197 non-null  int64         \n",
      " 2   product_id                     110197 non-null  object        \n",
      " 3   price                          110197 non-null  float64       \n",
      " 4   freight_value                  110197 non-null  float64       \n",
      " 5   customer_id                    110197 non-null  object        \n",
      " 6   order_status                   110197 non-null  object        \n",
      " 7   order_purchase_timestamp       110197 non-null  datetime64[ns]\n",
      " 8   order_delivered_customer_date  110189 non-null  datetime64[ns]\n",
      " 9   sale_month                     110197 non-null  int64         \n",
      " 10  nb_payment_sequential          110194 non-null  float64       \n",
      " 11  sum_payment_installments       110194 non-null  float64       \n",
      " 12  is_reviewed                    110197 non-null  bool          \n",
      " 13  review_score                   109370 non-null  float64       \n",
      " 14  customer_unique_id             110197 non-null  object        \n",
      " 15  customer_zip_code_prefix       110197 non-null  int64         \n",
      " 16  customer_city                  110197 non-null  object        \n",
      " 17  customer_state                 110197 non-null  object        \n",
      " 18  product_name_lenght            108660 non-null  float64       \n",
      " 19  product_description_lenght     108660 non-null  float64       \n",
      " 20  product_photos_qty             108660 non-null  float64       \n",
      " 21  product_category_name          108638 non-null  object        \n",
      "dtypes: bool(1), datetime64[ns](2), float64(8), int64(3), object(8)\n",
      "memory usage: 18.6+ MB\n"
     ]
    }
   ],
   "source": [
    "data.info()"
   ]
  },
  {
   "cell_type": "markdown",
   "id": "marine-movie",
   "metadata": {
    "papermill": {
     "duration": 0.101791,
     "end_time": "2021-05-31T07:53:45.026528",
     "exception": false,
     "start_time": "2021-05-31T07:53:44.924737",
     "status": "completed"
    },
    "tags": []
   },
   "source": [
    "# <font color=\"#476bff\" id=\"section_2\">Feature engineering en fonction du client</font>\n",
    "\n",
    "Maintenant que nous avons notre dataset étendu, nous allons **centrer les données obtenues sur le client** et non sur les commandes en créant de nouvelles variables. Comme nous l'avons vu précédement, l'identifiant unique du client est contenu dans la variable `customer_unique_id`.\n",
    "\n",
    "Commençons par créer une variable contenant le **délai le livraison de chaque commande** (et suppression de la variable `order_delivered_customer_date`) :"
   ]
  },
  {
   "cell_type": "code",
   "execution_count": 146,
   "id": "focal-effort",
   "metadata": {
    "execution": {
     "iopub.execute_input": "2021-05-31T07:53:45.237130Z",
     "iopub.status.busy": "2021-05-31T07:53:45.236122Z",
     "iopub.status.idle": "2021-05-31T07:53:45.336840Z",
     "shell.execute_reply": "2021-05-31T07:53:45.336171Z",
     "shell.execute_reply.started": "2021-05-31T07:47:26.945057Z"
    },
    "papermill": {
     "duration": 0.208351,
     "end_time": "2021-05-31T07:53:45.337020",
     "exception": false,
     "start_time": "2021-05-31T07:53:45.128669",
     "status": "completed"
    },
    "tags": []
   },
   "outputs": [],
   "source": [
    "data[\"delivery_delta_days\"] = (data.order_delivered_customer_date\n",
    "                               - data.order_purchase_timestamp)\\\n",
    "                              .dt.round('1d').dt.days\n",
    "data.drop(\"order_delivered_customer_date\", axis=1, inplace=True)"
   ]
  },
  {
   "cell_type": "code",
   "execution_count": 147,
   "id": "african-chamber",
   "metadata": {
    "execution": {
     "iopub.execute_input": "2021-05-31T07:53:45.544421Z",
     "iopub.status.busy": "2021-05-31T07:53:45.543604Z",
     "iopub.status.idle": "2021-05-31T07:53:47.054237Z",
     "shell.execute_reply": "2021-05-31T07:53:47.053569Z",
     "shell.execute_reply.started": "2021-05-31T07:47:27.060399Z"
    },
    "papermill": {
     "duration": 1.61915,
     "end_time": "2021-05-31T07:53:47.054405",
     "exception": false,
     "start_time": "2021-05-31T07:53:45.435255",
     "status": "completed"
    },
    "tags": []
   },
   "outputs": [
    {
     "data": {
      "image/png": "[encoded data removed]",
      "text/plain": [
       "<Figure size 864x576 with 1 Axes>"
      ]
     },
     "metadata": {},
     "output_type": "display_data"
    }
   ],
   "source": [
    "fig = plt.figure(figsize=(12, 8))\n",
    "sns.histplot(data=data, x=\"delivery_delta_days\",\n",
    "             stat=\"density\",\n",
    "             edgecolor=\"black\",\n",
    "             color=\"#00d994\", alpha=0.7)\n",
    "plt.xlabel(\"Délais de livraison moyen (jours)\")\n",
    "plt.title(f\"Répartition des délais de livraison moyens\\n\",\n",
    "          fontdict=font_title)\n",
    "plt.show()"
   ]
  },
  {
   "cell_type": "markdown",
   "id": "mature-drinking",
   "metadata": {
    "papermill": {
     "duration": 0.100393,
     "end_time": "2021-05-31T07:53:47.255376",
     "exception": false,
     "start_time": "2021-05-31T07:53:47.154983",
     "status": "completed"
    },
    "tags": []
   },
   "source": [
    "Autre variable à créer, la catégorie de produit de niveau 1. En effet, le jeu de données compte plus de 70 catégories différentes *(ce qui peut poser problème pour un encodage lors des preprocessing)*. Nous allons donc devoir regrouper plusieurs de ces catégorie dans une catégorie de niveau supérieur. \n",
    "\n",
    "Pour cela, nous allons nous baser sur les catégories principales des sites de vente en ligne en 2017, disponibles sur le site [http://statista.com](http://statista.com/statistics/311406/us-online-shopping-categories-gender/) :\n",
    "- Fashion, clothing and accessories\n",
    "- Health and Beauty\n",
    "- Toys and baby equipment\n",
    "- Books, CDs and other physical media\n",
    "- Groceries, food and drink\n",
    "- Technology (including phones and computers)\n",
    "- Home and furniture\n",
    "- Flowers and gifts\n",
    "- Other\n",
    "- et nous ajoutons la catégorie sport\n",
    "\n",
    "Nous allons devoir les attribuer manuellement :"
   ]
  },
  {
   "cell_type": "code",
   "execution_count": 149,
   "id": "49b9bef3",
   "metadata": {},
   "outputs": [],
   "source": [
    "data['product_category'] = np.where((data['product_category_name'].str.contains(\"fashio|luggage\")==True),\n",
    "                                    'fashion_clothing_accessories',\n",
    "                           np.where((data['product_category_name'].str.contains(\"health|beauty|perfum\")==True),\n",
    "                                    'health_beauty',\n",
    "                           np.where((data['product_category_name'].str.contains(\"toy|baby|diaper\")==True),\n",
    "                                     'toys_baby',\n",
    "                           np.where((data['product_category_name'].str.contains(\"book|cd|dvd|media\")==True),\n",
    "                                     'books_cds_media',\n",
    "                           np.where((data['product_category_name'].str.contains(\"grocer|food|drink\")==True), \n",
    "                                     'groceries_food_drink',\n",
    "                           np.where((data['product_category_name'].str.contains(\"phon|compu|tablet|electro|consol\")==True), \n",
    "                                     'technology',\n",
    "                           np.where((data['product_category_name'].str.contains(\"home|furnitur|garden|bath|house|applianc\")==True), \n",
    "                                                                                          'home_furniture',\n",
    "                           np.where((data['product_category_name'].str.contains(\"flow|gift|stuff\")==True),\n",
    "                                     'flowers_gifts',\n",
    "                           np.where((data['product_category_name'].str.contains(\"sport\")==True),\n",
    "                                     'sport',\n",
    "                                     'other')))))))))"
   ]
  },
  {
   "cell_type": "code",
   "execution_count": 150,
   "id": "35c4a330",
   "metadata": {},
   "outputs": [],
   "source": [
    "# drop product_category_name column\n",
    "data.drop(\"product_category_name\", axis=1, inplace=True)"
   ]
  },
  {
   "cell_type": "code",
   "execution_count": 151,
   "id": "stupid-practice",
   "metadata": {
    "execution": {
     "iopub.execute_input": "2021-05-31T07:53:49.047738Z",
     "iopub.status.busy": "2021-05-31T07:53:49.041004Z",
     "iopub.status.idle": "2021-05-31T07:53:49.489759Z",
     "shell.execute_reply": "2021-05-31T07:53:49.489075Z",
     "shell.execute_reply.started": "2021-05-31T07:47:29.543629Z"
    },
    "papermill": {
     "duration": 0.569979,
     "end_time": "2021-05-31T07:53:49.489989",
     "exception": false,
     "start_time": "2021-05-31T07:53:48.920010",
     "status": "completed"
    },
    "tags": []
   },
   "outputs": [
    {
     "data": {
      "image/png": "[encoded data removed]",
      "text/plain": [
       "<Figure size 1296x576 with 1 Axes>"
      ]
     },
     "metadata": {},
     "output_type": "display_data"
    }
   ],
   "source": [
    "# Plot categories count in dataset\n",
    "fig = plt.figure(figsize=(18, 8))\n",
    "sns.countplot(data=data, x=\"product_category\",\n",
    "              edgecolor=\"black\",\n",
    "              color=\"#00d994\", alpha=0.7)\n",
    "plt.xticks(range(0, data[\"product_category\"].nunique()),\n",
    "           data[\"product_category\"].unique(),\n",
    "           rotation=90)\n",
    "plt.title(f\"Les nouvelles catégories produits les plus représentées\\n\",\n",
    "          fontdict=font_title)\n",
    "plt.show()"
   ]
  },
  {
   "cell_type": "markdown",
   "id": "abandoned-citizen",
   "metadata": {
    "papermill": {
     "duration": 0.100737,
     "end_time": "2021-05-31T07:53:49.692878",
     "exception": false,
     "start_time": "2021-05-31T07:53:49.592141",
     "status": "completed"
    },
    "tags": []
   },
   "source": [
    "A présent, nous pouvons regarder la répartition du **nombre de commandes moyen par client** :"
   ]
  },
  {
   "cell_type": "code",
   "execution_count": 42,
   "id": "special-emphasis",
   "metadata": {
    "execution": {
     "iopub.execute_input": "2021-05-31T07:53:48.758929Z",
     "iopub.status.busy": "2021-05-31T07:53:48.758139Z",
     "iopub.status.idle": "2021-05-31T07:53:48.819320Z",
     "shell.execute_reply": "2021-05-31T07:53:48.818552Z",
     "shell.execute_reply.started": "2021-05-31T07:47:29.469574Z"
    },
    "papermill": {
     "duration": 0.16793,
     "end_time": "2021-05-31T07:53:48.819517",
     "exception": false,
     "start_time": "2021-05-31T07:53:48.651587",
     "status": "completed"
    },
    "tags": []
   },
   "outputs": [],
   "source": [
    "# drop product_category_name column\n",
    "data.drop(\"product_category_name\", axis=1, inplace=True)"
   ]
  },
  {
   "cell_type": "code",
   "execution_count": 152,
   "id": "fossil-double",
   "metadata": {
    "execution": {
     "iopub.execute_input": "2021-05-31T07:53:49.918453Z",
     "iopub.status.busy": "2021-05-31T07:53:49.917733Z",
     "iopub.status.idle": "2021-05-31T07:53:50.586015Z",
     "shell.execute_reply": "2021-05-31T07:53:50.586633Z",
     "shell.execute_reply.started": "2021-05-31T07:47:30.016428Z"
    },
    "papermill": {
     "duration": 0.791764,
     "end_time": "2021-05-31T07:53:50.586853",
     "exception": false,
     "start_time": "2021-05-31T07:53:49.795089",
     "status": "completed"
    },
    "tags": []
   },
   "outputs": [
    {
     "data": {
      "image/png": "[encoded data removed]",
      "text/plain": [
       "<Figure size 864x576 with 1 Axes>"
      ]
     },
     "metadata": {},
     "output_type": "display_data"
    }
   ],
   "source": [
    "fig = plt.figure(figsize=(12, 8))\n",
    "sns.histplot(data.groupby(\"customer_unique_id\").agg({\"order_id\": \"nunique\"}),\n",
    "             x=\"order_id\",\n",
    "             discrete=True,\n",
    "             edgecolor=\"black\",\n",
    "             color=\"#00d994\", alpha=0.7)\n",
    "plt.xlabel(\"Number of orders\")\n",
    "plt.title(f\"Nombre de commandes par client\\n\",\n",
    "          fontdict=font_title)\n",
    "plt.show()\n"
   ]
  },
  {
   "cell_type": "markdown",
   "id": "metropolitan-movement",
   "metadata": {
    "papermill": {
     "duration": 0.109082,
     "end_time": "2021-05-31T07:53:50.800786",
     "exception": false,
     "start_time": "2021-05-31T07:53:50.691704",
     "status": "completed"
    },
    "tags": []
   },
   "source": [
    "La majeure partie des clients n'ont passé qu'une seule commande. Il sera donc compliqué d'établir un classement de leur catégorie produit préférée. Nous allons donc **créer une variable par catégorie produit pour y dispatcher le nombre de produits achetés sur les commandes passées**.      \n",
    "Ensuite, nous calculerons le **ratio du nombre de produits par catégorie sur le nombre de produits total** acheté par le client."
   ]
  },
  {
   "cell_type": "code",
   "execution_count": 153,
   "id": "33ce23b1",
   "metadata": {},
   "outputs": [
    {
     "data": {
      "text/html": [
       "<div>\n",
       "<style scoped>\n",
       "    .dataframe tbody tr th:only-of-type {\n",
       "        vertical-align: middle;\n",
       "    }\n",
       "\n",
       "    .dataframe tbody tr th {\n",
       "        vertical-align: top;\n",
       "    }\n",
       "\n",
       "    .dataframe thead th {\n",
       "        text-align: right;\n",
       "    }\n",
       "</style>\n",
       "<table border=\"1\" class=\"dataframe\">\n",
       "  <thead>\n",
       "    <tr style=\"text-align: right;\">\n",
       "      <th></th>\n",
       "      <th>order_id</th>\n",
       "      <th>order_item_id</th>\n",
       "      <th>product_id</th>\n",
       "      <th>price</th>\n",
       "      <th>freight_value</th>\n",
       "      <th>customer_id</th>\n",
       "      <th>order_status</th>\n",
       "      <th>order_purchase_timestamp</th>\n",
       "      <th>sale_month</th>\n",
       "      <th>nb_payment_sequential</th>\n",
       "      <th>...</th>\n",
       "      <th>review_score</th>\n",
       "      <th>customer_unique_id</th>\n",
       "      <th>customer_zip_code_prefix</th>\n",
       "      <th>customer_city</th>\n",
       "      <th>customer_state</th>\n",
       "      <th>product_name_lenght</th>\n",
       "      <th>product_description_lenght</th>\n",
       "      <th>product_photos_qty</th>\n",
       "      <th>delivery_delta_days</th>\n",
       "      <th>product_category</th>\n",
       "    </tr>\n",
       "  </thead>\n",
       "  <tbody>\n",
       "    <tr>\n",
       "      <th>0</th>\n",
       "      <td>00010242fe8c5a6d1ba2dd792cb16214</td>\n",
       "      <td>1</td>\n",
       "      <td>4244733e06e7ecb4970a6e2683c13e61</td>\n",
       "      <td>58.90</td>\n",
       "      <td>13.29</td>\n",
       "      <td>3ce436f183e68e07877b285a838db11a</td>\n",
       "      <td>delivered</td>\n",
       "      <td>2017-09-13 08:59:02</td>\n",
       "      <td>9</td>\n",
       "      <td>1.0</td>\n",
       "      <td>...</td>\n",
       "      <td>5.0</td>\n",
       "      <td>871766c5855e863f6eccc05f988b23cb</td>\n",
       "      <td>28013</td>\n",
       "      <td>campos dos goytacazes</td>\n",
       "      <td>RJ</td>\n",
       "      <td>58.0</td>\n",
       "      <td>598.0</td>\n",
       "      <td>4.0</td>\n",
       "      <td>8.0</td>\n",
       "      <td>flowers_gifts</td>\n",
       "    </tr>\n",
       "    <tr>\n",
       "      <th>1</th>\n",
       "      <td>00018f77f2f0320c557190d7a144bdd3</td>\n",
       "      <td>1</td>\n",
       "      <td>e5f2d52b802189ee658865ca93d83a8f</td>\n",
       "      <td>239.90</td>\n",
       "      <td>19.93</td>\n",
       "      <td>f6dd3ec061db4e3987629fe6b26e5cce</td>\n",
       "      <td>delivered</td>\n",
       "      <td>2017-04-26 10:53:06</td>\n",
       "      <td>4</td>\n",
       "      <td>1.0</td>\n",
       "      <td>...</td>\n",
       "      <td>4.0</td>\n",
       "      <td>eb28e67c4c0b83846050ddfb8a35d051</td>\n",
       "      <td>15775</td>\n",
       "      <td>santa fe do sul</td>\n",
       "      <td>SP</td>\n",
       "      <td>56.0</td>\n",
       "      <td>239.0</td>\n",
       "      <td>2.0</td>\n",
       "      <td>16.0</td>\n",
       "      <td>other</td>\n",
       "    </tr>\n",
       "    <tr>\n",
       "      <th>2</th>\n",
       "      <td>000229ec398224ef6ca0657da4fc703e</td>\n",
       "      <td>1</td>\n",
       "      <td>c777355d18b72b67abbeef9df44fd0fd</td>\n",
       "      <td>199.00</td>\n",
       "      <td>17.87</td>\n",
       "      <td>6489ae5e4333f3693df5ad4372dab6d3</td>\n",
       "      <td>delivered</td>\n",
       "      <td>2018-01-14 14:33:31</td>\n",
       "      <td>1</td>\n",
       "      <td>1.0</td>\n",
       "      <td>...</td>\n",
       "      <td>5.0</td>\n",
       "      <td>3818d81c6709e39d06b2738a8d3a2474</td>\n",
       "      <td>35661</td>\n",
       "      <td>para de minas</td>\n",
       "      <td>MG</td>\n",
       "      <td>59.0</td>\n",
       "      <td>695.0</td>\n",
       "      <td>2.0</td>\n",
       "      <td>8.0</td>\n",
       "      <td>home_furniture</td>\n",
       "    </tr>\n",
       "    <tr>\n",
       "      <th>3</th>\n",
       "      <td>00024acbcdf0a6daa1e931b038114c75</td>\n",
       "      <td>1</td>\n",
       "      <td>7634da152a4610f1595efa32f14722fc</td>\n",
       "      <td>12.99</td>\n",
       "      <td>12.79</td>\n",
       "      <td>d4eb9395c8c0431ee92fce09860c5a06</td>\n",
       "      <td>delivered</td>\n",
       "      <td>2018-08-08 10:00:35</td>\n",
       "      <td>8</td>\n",
       "      <td>1.0</td>\n",
       "      <td>...</td>\n",
       "      <td>4.0</td>\n",
       "      <td>af861d436cfc08b2c2ddefd0ba074622</td>\n",
       "      <td>12952</td>\n",
       "      <td>atibaia</td>\n",
       "      <td>SP</td>\n",
       "      <td>42.0</td>\n",
       "      <td>480.0</td>\n",
       "      <td>1.0</td>\n",
       "      <td>6.0</td>\n",
       "      <td>health_beauty</td>\n",
       "    </tr>\n",
       "    <tr>\n",
       "      <th>4</th>\n",
       "      <td>00042b26cf59d7ce69dfabb4e55b4fd9</td>\n",
       "      <td>1</td>\n",
       "      <td>ac6c3623068f30de03045865e4e10089</td>\n",
       "      <td>199.90</td>\n",
       "      <td>18.14</td>\n",
       "      <td>58dbd0b2d70206bf40e62cd34e84d795</td>\n",
       "      <td>delivered</td>\n",
       "      <td>2017-02-04 13:57:51</td>\n",
       "      <td>2</td>\n",
       "      <td>1.0</td>\n",
       "      <td>...</td>\n",
       "      <td>5.0</td>\n",
       "      <td>64b576fb70d441e8f1b2d7d446e483c5</td>\n",
       "      <td>13226</td>\n",
       "      <td>varzea paulista</td>\n",
       "      <td>SP</td>\n",
       "      <td>59.0</td>\n",
       "      <td>409.0</td>\n",
       "      <td>1.0</td>\n",
       "      <td>25.0</td>\n",
       "      <td>home_furniture</td>\n",
       "    </tr>\n",
       "    <tr>\n",
       "      <th>...</th>\n",
       "      <td>...</td>\n",
       "      <td>...</td>\n",
       "      <td>...</td>\n",
       "      <td>...</td>\n",
       "      <td>...</td>\n",
       "      <td>...</td>\n",
       "      <td>...</td>\n",
       "      <td>...</td>\n",
       "      <td>...</td>\n",
       "      <td>...</td>\n",
       "      <td>...</td>\n",
       "      <td>...</td>\n",
       "      <td>...</td>\n",
       "      <td>...</td>\n",
       "      <td>...</td>\n",
       "      <td>...</td>\n",
       "      <td>...</td>\n",
       "      <td>...</td>\n",
       "      <td>...</td>\n",
       "      <td>...</td>\n",
       "      <td>...</td>\n",
       "    </tr>\n",
       "    <tr>\n",
       "      <th>110192</th>\n",
       "      <td>fffc94f6ce00a00581880bf54a75a037</td>\n",
       "      <td>1</td>\n",
       "      <td>4aa6014eceb682077f9dc4bffebc05b0</td>\n",
       "      <td>299.99</td>\n",
       "      <td>43.41</td>\n",
       "      <td>b51593916b4b8e0d6f66f2ae24f2673d</td>\n",
       "      <td>delivered</td>\n",
       "      <td>2018-04-23 13:57:06</td>\n",
       "      <td>4</td>\n",
       "      <td>1.0</td>\n",
       "      <td>...</td>\n",
       "      <td>5.0</td>\n",
       "      <td>0c9aeda10a71f369396d0c04dce13a64</td>\n",
       "      <td>65077</td>\n",
       "      <td>sao luis</td>\n",
       "      <td>MA</td>\n",
       "      <td>43.0</td>\n",
       "      <td>1002.0</td>\n",
       "      <td>3.0</td>\n",
       "      <td>17.0</td>\n",
       "      <td>home_furniture</td>\n",
       "    </tr>\n",
       "    <tr>\n",
       "      <th>110193</th>\n",
       "      <td>fffcd46ef2263f404302a634eb57f7eb</td>\n",
       "      <td>1</td>\n",
       "      <td>32e07fd915822b0765e448c4dd74c828</td>\n",
       "      <td>350.00</td>\n",
       "      <td>36.53</td>\n",
       "      <td>84c5d4fbaf120aae381fad077416eaa0</td>\n",
       "      <td>delivered</td>\n",
       "      <td>2018-07-14 10:26:46</td>\n",
       "      <td>7</td>\n",
       "      <td>1.0</td>\n",
       "      <td>...</td>\n",
       "      <td>5.0</td>\n",
       "      <td>0da9fe112eae0c74d3ba1fe16de0988b</td>\n",
       "      <td>81690</td>\n",
       "      <td>curitiba</td>\n",
       "      <td>PR</td>\n",
       "      <td>31.0</td>\n",
       "      <td>232.0</td>\n",
       "      <td>1.0</td>\n",
       "      <td>9.0</td>\n",
       "      <td>technology</td>\n",
       "    </tr>\n",
       "    <tr>\n",
       "      <th>110194</th>\n",
       "      <td>fffce4705a9662cd70adb13d4a31832d</td>\n",
       "      <td>1</td>\n",
       "      <td>72a30483855e2eafc67aee5dc2560482</td>\n",
       "      <td>99.90</td>\n",
       "      <td>16.95</td>\n",
       "      <td>29309aa813182aaddc9b259e31b870e6</td>\n",
       "      <td>delivered</td>\n",
       "      <td>2017-10-23 17:07:56</td>\n",
       "      <td>10</td>\n",
       "      <td>1.0</td>\n",
       "      <td>...</td>\n",
       "      <td>5.0</td>\n",
       "      <td>cd79b407828f02fdbba457111c38e4c4</td>\n",
       "      <td>4039</td>\n",
       "      <td>sao paulo</td>\n",
       "      <td>SP</td>\n",
       "      <td>43.0</td>\n",
       "      <td>869.0</td>\n",
       "      <td>1.0</td>\n",
       "      <td>5.0</td>\n",
       "      <td>sport</td>\n",
       "    </tr>\n",
       "    <tr>\n",
       "      <th>110195</th>\n",
       "      <td>fffe18544ffabc95dfada21779c9644f</td>\n",
       "      <td>1</td>\n",
       "      <td>9c422a519119dcad7575db5af1ba540e</td>\n",
       "      <td>55.99</td>\n",
       "      <td>8.72</td>\n",
       "      <td>b5e6afd5a41800fdf401e0272ca74655</td>\n",
       "      <td>delivered</td>\n",
       "      <td>2017-08-14 23:02:59</td>\n",
       "      <td>8</td>\n",
       "      <td>1.0</td>\n",
       "      <td>...</td>\n",
       "      <td>5.0</td>\n",
       "      <td>eb803377c9315b564bdedad672039306</td>\n",
       "      <td>13289</td>\n",
       "      <td>vinhedo</td>\n",
       "      <td>SP</td>\n",
       "      <td>56.0</td>\n",
       "      <td>1306.0</td>\n",
       "      <td>1.0</td>\n",
       "      <td>2.0</td>\n",
       "      <td>technology</td>\n",
       "    </tr>\n",
       "    <tr>\n",
       "      <th>110196</th>\n",
       "      <td>fffe41c64501cc87c801fd61db3f6244</td>\n",
       "      <td>1</td>\n",
       "      <td>350688d9dc1e75ff97be326363655e01</td>\n",
       "      <td>43.00</td>\n",
       "      <td>12.79</td>\n",
       "      <td>96d649da0cc4ff33bb408b199d4c7dcf</td>\n",
       "      <td>delivered</td>\n",
       "      <td>2018-06-09 17:00:18</td>\n",
       "      <td>6</td>\n",
       "      <td>1.0</td>\n",
       "      <td>...</td>\n",
       "      <td>5.0</td>\n",
       "      <td>cd76a00d8e3ca5e6ab9ed9ecb6667ac4</td>\n",
       "      <td>18605</td>\n",
       "      <td>botucatu</td>\n",
       "      <td>SP</td>\n",
       "      <td>47.0</td>\n",
       "      <td>511.0</td>\n",
       "      <td>1.0</td>\n",
       "      <td>5.0</td>\n",
       "      <td>home_furniture</td>\n",
       "    </tr>\n",
       "  </tbody>\n",
       "</table>\n",
       "<p>110197 rows × 22 columns</p>\n",
       "</div>"
      ],
      "text/plain": [
       "                                order_id  order_item_id  \\\n",
       "0       00010242fe8c5a6d1ba2dd792cb16214              1   \n",
       "1       00018f77f2f0320c557190d7a144bdd3              1   \n",
       "2       000229ec398224ef6ca0657da4fc703e              1   \n",
       "3       00024acbcdf0a6daa1e931b038114c75              1   \n",
       "4       00042b26cf59d7ce69dfabb4e55b4fd9              1   \n",
       "...                                  ...            ...   \n",
       "110192  fffc94f6ce00a00581880bf54a75a037              1   \n",
       "110193  fffcd46ef2263f404302a634eb57f7eb              1   \n",
       "110194  fffce4705a9662cd70adb13d4a31832d              1   \n",
       "110195  fffe18544ffabc95dfada21779c9644f              1   \n",
       "110196  fffe41c64501cc87c801fd61db3f6244              1   \n",
       "\n",
       "                              product_id   price  freight_value  \\\n",
       "0       4244733e06e7ecb4970a6e2683c13e61   58.90          13.29   \n",
       "1       e5f2d52b802189ee658865ca93d83a8f  239.90          19.93   \n",
       "2       c777355d18b72b67abbeef9df44fd0fd  199.00          17.87   \n",
       "3       7634da152a4610f1595efa32f14722fc   12.99          12.79   \n",
       "4       ac6c3623068f30de03045865e4e10089  199.90          18.14   \n",
       "...                                  ...     ...            ...   \n",
       "110192  4aa6014eceb682077f9dc4bffebc05b0  299.99          43.41   \n",
       "110193  32e07fd915822b0765e448c4dd74c828  350.00          36.53   \n",
       "110194  72a30483855e2eafc67aee5dc2560482   99.90          16.95   \n",
       "110195  9c422a519119dcad7575db5af1ba540e   55.99           8.72   \n",
       "110196  350688d9dc1e75ff97be326363655e01   43.00          12.79   \n",
       "\n",
       "                             customer_id order_status  \\\n",
       "0       3ce436f183e68e07877b285a838db11a    delivered   \n",
       "1       f6dd3ec061db4e3987629fe6b26e5cce    delivered   \n",
       "2       6489ae5e4333f3693df5ad4372dab6d3    delivered   \n",
       "3       d4eb9395c8c0431ee92fce09860c5a06    delivered   \n",
       "4       58dbd0b2d70206bf40e62cd34e84d795    delivered   \n",
       "...                                  ...          ...   \n",
       "110192  b51593916b4b8e0d6f66f2ae24f2673d    delivered   \n",
       "110193  84c5d4fbaf120aae381fad077416eaa0    delivered   \n",
       "110194  29309aa813182aaddc9b259e31b870e6    delivered   \n",
       "110195  b5e6afd5a41800fdf401e0272ca74655    delivered   \n",
       "110196  96d649da0cc4ff33bb408b199d4c7dcf    delivered   \n",
       "\n",
       "       order_purchase_timestamp  sale_month  nb_payment_sequential  ...  \\\n",
       "0           2017-09-13 08:59:02           9                    1.0  ...   \n",
       "1           2017-04-26 10:53:06           4                    1.0  ...   \n",
       "2           2018-01-14 14:33:31           1                    1.0  ...   \n",
       "3           2018-08-08 10:00:35           8                    1.0  ...   \n",
       "4           2017-02-04 13:57:51           2                    1.0  ...   \n",
       "...                         ...         ...                    ...  ...   \n",
       "110192      2018-04-23 13:57:06           4                    1.0  ...   \n",
       "110193      2018-07-14 10:26:46           7                    1.0  ...   \n",
       "110194      2017-10-23 17:07:56          10                    1.0  ...   \n",
       "110195      2017-08-14 23:02:59           8                    1.0  ...   \n",
       "110196      2018-06-09 17:00:18           6                    1.0  ...   \n",
       "\n",
       "        review_score                customer_unique_id  \\\n",
       "0                5.0  871766c5855e863f6eccc05f988b23cb   \n",
       "1                4.0  eb28e67c4c0b83846050ddfb8a35d051   \n",
       "2                5.0  3818d81c6709e39d06b2738a8d3a2474   \n",
       "3                4.0  af861d436cfc08b2c2ddefd0ba074622   \n",
       "4                5.0  64b576fb70d441e8f1b2d7d446e483c5   \n",
       "...              ...                               ...   \n",
       "110192           5.0  0c9aeda10a71f369396d0c04dce13a64   \n",
       "110193           5.0  0da9fe112eae0c74d3ba1fe16de0988b   \n",
       "110194           5.0  cd79b407828f02fdbba457111c38e4c4   \n",
       "110195           5.0  eb803377c9315b564bdedad672039306   \n",
       "110196           5.0  cd76a00d8e3ca5e6ab9ed9ecb6667ac4   \n",
       "\n",
       "        customer_zip_code_prefix          customer_city  customer_state  \\\n",
       "0                          28013  campos dos goytacazes              RJ   \n",
       "1                          15775        santa fe do sul              SP   \n",
       "2                          35661          para de minas              MG   \n",
       "3                          12952                atibaia              SP   \n",
       "4                          13226        varzea paulista              SP   \n",
       "...                          ...                    ...             ...   \n",
       "110192                     65077               sao luis              MA   \n",
       "110193                     81690               curitiba              PR   \n",
       "110194                      4039              sao paulo              SP   \n",
       "110195                     13289                vinhedo              SP   \n",
       "110196                     18605               botucatu              SP   \n",
       "\n",
       "       product_name_lenght product_description_lenght  product_photos_qty  \\\n",
       "0                     58.0                      598.0                 4.0   \n",
       "1                     56.0                      239.0                 2.0   \n",
       "2                     59.0                      695.0                 2.0   \n",
       "3                     42.0                      480.0                 1.0   \n",
       "4                     59.0                      409.0                 1.0   \n",
       "...                    ...                        ...                 ...   \n",
       "110192                43.0                     1002.0                 3.0   \n",
       "110193                31.0                      232.0                 1.0   \n",
       "110194                43.0                      869.0                 1.0   \n",
       "110195                56.0                     1306.0                 1.0   \n",
       "110196                47.0                      511.0                 1.0   \n",
       "\n",
       "        delivery_delta_days  product_category  \n",
       "0                       8.0     flowers_gifts  \n",
       "1                      16.0             other  \n",
       "2                       8.0    home_furniture  \n",
       "3                       6.0     health_beauty  \n",
       "4                      25.0    home_furniture  \n",
       "...                     ...               ...  \n",
       "110192                 17.0    home_furniture  \n",
       "110193                  9.0        technology  \n",
       "110194                  5.0             sport  \n",
       "110195                  2.0        technology  \n",
       "110196                  5.0    home_furniture  \n",
       "\n",
       "[110197 rows x 22 columns]"
      ]
     },
     "execution_count": 153,
     "metadata": {},
     "output_type": "execute_result"
    }
   ],
   "source": [
    "data"
   ]
  },
  {
   "cell_type": "code",
   "execution_count": 155,
   "id": "convenient-verse",
   "metadata": {
    "execution": {
     "iopub.execute_input": "2021-05-31T07:53:51.009967Z",
     "iopub.status.busy": "2021-05-31T07:53:51.009263Z",
     "iopub.status.idle": "2021-05-31T07:53:51.473757Z",
     "shell.execute_reply": "2021-05-31T07:53:51.473056Z",
     "shell.execute_reply.started": "2021-05-31T07:47:30.707739Z"
    },
    "papermill": {
     "duration": 0.569677,
     "end_time": "2021-05-31T07:53:51.473921",
     "exception": false,
     "start_time": "2021-05-31T07:53:50.904244",
     "status": "completed"
    },
    "tags": []
   },
   "outputs": [
    {
     "data": {
      "text/html": [
       "<div>\n",
       "<style scoped>\n",
       "    .dataframe tbody tr th:only-of-type {\n",
       "        vertical-align: middle;\n",
       "    }\n",
       "\n",
       "    .dataframe tbody tr th {\n",
       "        vertical-align: top;\n",
       "    }\n",
       "\n",
       "    .dataframe thead th {\n",
       "        text-align: right;\n",
       "    }\n",
       "</style>\n",
       "<table border=\"1\" class=\"dataframe\">\n",
       "  <thead>\n",
       "    <tr style=\"text-align: right;\">\n",
       "      <th>product_category</th>\n",
       "      <th>customer_unique_id</th>\n",
       "      <th>books_cds_media</th>\n",
       "      <th>fashion_clothing_accessories</th>\n",
       "      <th>flowers_gifts</th>\n",
       "      <th>groceries_food_drink</th>\n",
       "      <th>health_beauty</th>\n",
       "      <th>home_furniture</th>\n",
       "      <th>other</th>\n",
       "      <th>sport</th>\n",
       "      <th>technology</th>\n",
       "      <th>toys_baby</th>\n",
       "      <th>total_items</th>\n",
       "    </tr>\n",
       "  </thead>\n",
       "  <tbody>\n",
       "    <tr>\n",
       "      <th>0</th>\n",
       "      <td>0000366f3b9a7992bf8c76cfdf3221e2</td>\n",
       "      <td>0.0</td>\n",
       "      <td>0.0</td>\n",
       "      <td>0.0</td>\n",
       "      <td>0.0</td>\n",
       "      <td>0.0</td>\n",
       "      <td>1.0</td>\n",
       "      <td>0.0</td>\n",
       "      <td>0.0</td>\n",
       "      <td>0.0</td>\n",
       "      <td>0.0</td>\n",
       "      <td>1.0</td>\n",
       "    </tr>\n",
       "    <tr>\n",
       "      <th>1</th>\n",
       "      <td>0000b849f77a49e4a4ce2b2a4ca5be3f</td>\n",
       "      <td>0.0</td>\n",
       "      <td>0.0</td>\n",
       "      <td>0.0</td>\n",
       "      <td>0.0</td>\n",
       "      <td>1.0</td>\n",
       "      <td>0.0</td>\n",
       "      <td>0.0</td>\n",
       "      <td>0.0</td>\n",
       "      <td>0.0</td>\n",
       "      <td>0.0</td>\n",
       "      <td>1.0</td>\n",
       "    </tr>\n",
       "    <tr>\n",
       "      <th>2</th>\n",
       "      <td>0000f46a3911fa3c0805444483337064</td>\n",
       "      <td>0.0</td>\n",
       "      <td>0.0</td>\n",
       "      <td>0.0</td>\n",
       "      <td>0.0</td>\n",
       "      <td>0.0</td>\n",
       "      <td>0.0</td>\n",
       "      <td>1.0</td>\n",
       "      <td>0.0</td>\n",
       "      <td>0.0</td>\n",
       "      <td>0.0</td>\n",
       "      <td>1.0</td>\n",
       "    </tr>\n",
       "  </tbody>\n",
       "</table>\n",
       "</div>"
      ],
      "text/plain": [
       "product_category                customer_unique_id  books_cds_media  \\\n",
       "0                 0000366f3b9a7992bf8c76cfdf3221e2              0.0   \n",
       "1                 0000b849f77a49e4a4ce2b2a4ca5be3f              0.0   \n",
       "2                 0000f46a3911fa3c0805444483337064              0.0   \n",
       "\n",
       "product_category  fashion_clothing_accessories  flowers_gifts  \\\n",
       "0                                          0.0            0.0   \n",
       "1                                          0.0            0.0   \n",
       "2                                          0.0            0.0   \n",
       "\n",
       "product_category  groceries_food_drink  health_beauty  home_furniture  other  \\\n",
       "0                                  0.0            0.0             1.0    0.0   \n",
       "1                                  0.0            1.0             0.0    0.0   \n",
       "2                                  0.0            0.0             0.0    1.0   \n",
       "\n",
       "product_category  sport  technology  toys_baby  total_items  \n",
       "0                   0.0         0.0        0.0          1.0  \n",
       "1                   0.0         0.0        0.0          1.0  \n",
       "2                   0.0         0.0        0.0          1.0  "
      ]
     },
     "execution_count": 155,
     "metadata": {},
     "output_type": "execute_result"
    }
   ],
   "source": [
    "categories_customers = data.groupby([\"customer_unique_id\", \"product_category\"])\\\n",
    "                        .agg({\"order_item_id\": \"count\"}).unstack()\n",
    "categories_customers.columns = categories_customers.columns.droplevel(0)\n",
    "categories_customers.fillna(0, inplace=True)\n",
    "categories_customers[\"total_items\"] = categories_customers.sum(axis=1)\n",
    "\n",
    "# ratio of total items\n",
    "for col in categories_customers.columns:\n",
    "    if (col != \"total_items\"):\n",
    "        categories_customers[col] = (categories_customers[col]/categories_customers[\"total_items\"])\n",
    "\n",
    "categories_customers.reset_index(inplace=True)\n",
    "categories_customers.head(3)"
   ]
  },
  {
   "cell_type": "markdown",
   "id": "correct-andrew",
   "metadata": {
    "papermill": {
     "duration": 0.102199,
     "end_time": "2021-05-31T07:53:51.678081",
     "exception": false,
     "start_time": "2021-05-31T07:53:51.575882",
     "status": "completed"
    },
    "tags": []
   },
   "source": [
    "Nous allons ensuite calculer le **nombre moyen d'articles par commande** pour chaque client :"
   ]
  },
  {
   "cell_type": "code",
   "execution_count": 156,
   "id": "representative-acting",
   "metadata": {
    "execution": {
     "iopub.execute_input": "2021-05-31T07:53:51.916766Z",
     "iopub.status.busy": "2021-05-31T07:53:51.904208Z",
     "iopub.status.idle": "2021-05-31T07:53:52.713839Z",
     "shell.execute_reply": "2021-05-31T07:53:52.713210Z",
     "shell.execute_reply.started": "2021-05-31T07:47:31.195014Z"
    },
    "papermill": {
     "duration": 0.933279,
     "end_time": "2021-05-31T07:53:52.713999",
     "exception": false,
     "start_time": "2021-05-31T07:53:51.780720",
     "status": "completed"
    },
    "tags": []
   },
   "outputs": [
    {
     "data": {
      "image/png": "[encoded data removed]",
      "text/plain": [
       "<Figure size 864x576 with 1 Axes>"
      ]
     },
     "metadata": {},
     "output_type": "display_data"
    }
   ],
   "source": [
    "products_per_order = data.groupby([\"customer_unique_id\", \"order_id\"])\\\n",
    "                        .agg({\"order_item_id\": \"count\"})\n",
    "products_per_order = products_per_order.groupby(\"customer_unique_id\")\\\n",
    "                        .agg({\"order_item_id\": \"mean\"})\n",
    "\n",
    "# Plot density of number items in order\n",
    "fig = plt.figure(figsize=(12, 8))\n",
    "sns.histplot(data = products_per_order,\n",
    "             x=\"order_item_id\",\n",
    "             discrete=True,\n",
    "             edgecolor=\"black\",\n",
    "             color=\"#00d994\", alpha=0.7)\n",
    "plt.xlabel(\"Number of items in order\")\n",
    "plt.title(f\"Nombre moyen d'articles par commande\\n\",\n",
    "          fontdict=font_title)\n",
    "plt.show()"
   ]
  },
  {
   "cell_type": "markdown",
   "id": "portuguese-breast",
   "metadata": {
    "papermill": {
     "duration": 0.103551,
     "end_time": "2021-05-31T07:53:52.922554",
     "exception": false,
     "start_time": "2021-05-31T07:53:52.819003",
     "status": "completed"
    },
    "tags": []
   },
   "source": [
    "A présent, nous allons calculer le **nombre de jours écoulés entre la première et la dernière commande**. Nous ramènerons ensuite ce délai au nombre de commande du client. "
   ]
  },
  {
   "cell_type": "code",
   "execution_count": 157,
   "id": "driving-panel",
   "metadata": {
    "execution": {
     "iopub.execute_input": "2021-05-31T07:53:53.166045Z",
     "iopub.status.busy": "2021-05-31T07:53:53.150716Z",
     "iopub.status.idle": "2021-05-31T07:54:09.175179Z",
     "shell.execute_reply": "2021-05-31T07:54:09.176177Z",
     "shell.execute_reply.started": "2021-05-31T07:47:31.965933Z"
    },
    "papermill": {
     "duration": 16.150221,
     "end_time": "2021-05-31T07:54:09.176509",
     "exception": false,
     "start_time": "2021-05-31T07:53:53.026288",
     "status": "completed"
    },
    "tags": []
   },
   "outputs": [
    {
     "data": {
      "text/html": [
       "<div>\n",
       "<style scoped>\n",
       "    .dataframe tbody tr th:only-of-type {\n",
       "        vertical-align: middle;\n",
       "    }\n",
       "\n",
       "    .dataframe tbody tr th {\n",
       "        vertical-align: top;\n",
       "    }\n",
       "\n",
       "    .dataframe thead th {\n",
       "        text-align: right;\n",
       "    }\n",
       "</style>\n",
       "<table border=\"1\" class=\"dataframe\">\n",
       "  <thead>\n",
       "    <tr style=\"text-align: right;\">\n",
       "      <th></th>\n",
       "      <th>order_total_delay</th>\n",
       "    </tr>\n",
       "    <tr>\n",
       "      <th>customer_unique_id</th>\n",
       "      <th></th>\n",
       "    </tr>\n",
       "  </thead>\n",
       "  <tbody>\n",
       "    <tr>\n",
       "      <th>0000366f3b9a7992bf8c76cfdf3221e2</th>\n",
       "      <td>111</td>\n",
       "    </tr>\n",
       "    <tr>\n",
       "      <th>0000b849f77a49e4a4ce2b2a4ca5be3f</th>\n",
       "      <td>114</td>\n",
       "    </tr>\n",
       "    <tr>\n",
       "      <th>0000f46a3911fa3c0805444483337064</th>\n",
       "      <td>537</td>\n",
       "    </tr>\n",
       "  </tbody>\n",
       "</table>\n",
       "</div>"
      ],
      "text/plain": [
       "                                  order_total_delay\n",
       "customer_unique_id                                 \n",
       "0000366f3b9a7992bf8c76cfdf3221e2                111\n",
       "0000b849f77a49e4a4ce2b2a4ca5be3f                114\n",
       "0000f46a3911fa3c0805444483337064                537"
      ]
     },
     "execution_count": 157,
     "metadata": {},
     "output_type": "execute_result"
    }
   ],
   "source": [
    "recurencies = data.groupby(\"customer_unique_id\")\\\n",
    "                .agg({\"order_purchase_timestamp\": [\"min\",\"max\"]})\n",
    "recurencies.columns = recurencies.columns.droplevel(0)\n",
    "\n",
    "# Max date in dataset\n",
    "max_date = data[\"order_purchase_timestamp\"].max()\n",
    "\n",
    "# Delay from the last order\n",
    "recurencies[\"order_total_delay\"] = [(y[1] - y[0]).round('1d').days if y[1] != y[0] \n",
    "                                    else (max_date - y[0]).round('1d').days \n",
    "                                    for x,y in recurencies.iterrows()]\n",
    "recurencies.drop([\"min\", \"max\"], axis=1, inplace=True)\n",
    "recurencies.head(3)"
   ]
  },
  {
   "cell_type": "markdown",
   "id": "overall-nudist",
   "metadata": {
    "papermill": {
     "duration": 0.112041,
     "end_time": "2021-05-31T07:54:09.405369",
     "exception": false,
     "start_time": "2021-05-31T07:54:09.293328",
     "status": "completed"
    },
    "tags": []
   },
   "source": [
    "### Création du dataset clients :"
   ]
  },
  {
   "cell_type": "code",
   "execution_count": 158,
   "id": "different-deficit",
   "metadata": {
    "execution": {
     "iopub.execute_input": "2021-05-31T07:54:09.623151Z",
     "iopub.status.busy": "2021-05-31T07:54:09.622063Z",
     "iopub.status.idle": "2021-05-31T07:54:44.432310Z",
     "shell.execute_reply": "2021-05-31T07:54:44.432882Z",
     "shell.execute_reply.started": "2021-05-31T07:47:47.092887Z"
    },
    "papermill": {
     "duration": 34.918921,
     "end_time": "2021-05-31T07:54:44.433120",
     "exception": false,
     "start_time": "2021-05-31T07:54:09.514199",
     "status": "completed"
    },
    "tags": []
   },
   "outputs": [
    {
     "data": {
      "text/html": [
       "<div>\n",
       "<style scoped>\n",
       "    .dataframe tbody tr th:only-of-type {\n",
       "        vertical-align: middle;\n",
       "    }\n",
       "\n",
       "    .dataframe tbody tr th {\n",
       "        vertical-align: top;\n",
       "    }\n",
       "\n",
       "    .dataframe thead th {\n",
       "        text-align: right;\n",
       "    }\n",
       "</style>\n",
       "<table border=\"1\" class=\"dataframe\">\n",
       "  <thead>\n",
       "    <tr style=\"text-align: right;\">\n",
       "      <th></th>\n",
       "      <th>nb_orders</th>\n",
       "      <th>total_spend</th>\n",
       "      <th>total_freight</th>\n",
       "      <th>mean_payment_sequential</th>\n",
       "      <th>mean_payment_installments</th>\n",
       "      <th>mean_review_score</th>\n",
       "      <th>mean_delivery_days</th>\n",
       "      <th>favorite_sale_month</th>\n",
       "      <th>mean_nb_items</th>\n",
       "      <th>order_total_delay</th>\n",
       "    </tr>\n",
       "    <tr>\n",
       "      <th>customer_unique_id</th>\n",
       "      <th></th>\n",
       "      <th></th>\n",
       "      <th></th>\n",
       "      <th></th>\n",
       "      <th></th>\n",
       "      <th></th>\n",
       "      <th></th>\n",
       "      <th></th>\n",
       "      <th></th>\n",
       "      <th></th>\n",
       "    </tr>\n",
       "  </thead>\n",
       "  <tbody>\n",
       "    <tr>\n",
       "      <th>0000366f3b9a7992bf8c76cfdf3221e2</th>\n",
       "      <td>1</td>\n",
       "      <td>129.9</td>\n",
       "      <td>12.00</td>\n",
       "      <td>1.0</td>\n",
       "      <td>8.0</td>\n",
       "      <td>5.0</td>\n",
       "      <td>6.0</td>\n",
       "      <td>5</td>\n",
       "      <td>1.0</td>\n",
       "      <td>111</td>\n",
       "    </tr>\n",
       "    <tr>\n",
       "      <th>0000b849f77a49e4a4ce2b2a4ca5be3f</th>\n",
       "      <td>1</td>\n",
       "      <td>18.9</td>\n",
       "      <td>8.29</td>\n",
       "      <td>1.0</td>\n",
       "      <td>1.0</td>\n",
       "      <td>4.0</td>\n",
       "      <td>3.0</td>\n",
       "      <td>5</td>\n",
       "      <td>1.0</td>\n",
       "      <td>114</td>\n",
       "    </tr>\n",
       "    <tr>\n",
       "      <th>0000f46a3911fa3c0805444483337064</th>\n",
       "      <td>1</td>\n",
       "      <td>69.0</td>\n",
       "      <td>17.22</td>\n",
       "      <td>1.0</td>\n",
       "      <td>8.0</td>\n",
       "      <td>3.0</td>\n",
       "      <td>26.0</td>\n",
       "      <td>3</td>\n",
       "      <td>1.0</td>\n",
       "      <td>537</td>\n",
       "    </tr>\n",
       "  </tbody>\n",
       "</table>\n",
       "</div>"
      ],
      "text/plain": [
       "                                  nb_orders  total_spend  total_freight  \\\n",
       "customer_unique_id                                                        \n",
       "0000366f3b9a7992bf8c76cfdf3221e2          1        129.9          12.00   \n",
       "0000b849f77a49e4a4ce2b2a4ca5be3f          1         18.9           8.29   \n",
       "0000f46a3911fa3c0805444483337064          1         69.0          17.22   \n",
       "\n",
       "                                  mean_payment_sequential  \\\n",
       "customer_unique_id                                          \n",
       "0000366f3b9a7992bf8c76cfdf3221e2                      1.0   \n",
       "0000b849f77a49e4a4ce2b2a4ca5be3f                      1.0   \n",
       "0000f46a3911fa3c0805444483337064                      1.0   \n",
       "\n",
       "                                  mean_payment_installments  \\\n",
       "customer_unique_id                                            \n",
       "0000366f3b9a7992bf8c76cfdf3221e2                        8.0   \n",
       "0000b849f77a49e4a4ce2b2a4ca5be3f                        1.0   \n",
       "0000f46a3911fa3c0805444483337064                        8.0   \n",
       "\n",
       "                                  mean_review_score  mean_delivery_days  \\\n",
       "customer_unique_id                                                        \n",
       "0000366f3b9a7992bf8c76cfdf3221e2                5.0                 6.0   \n",
       "0000b849f77a49e4a4ce2b2a4ca5be3f                4.0                 3.0   \n",
       "0000f46a3911fa3c0805444483337064                3.0                26.0   \n",
       "\n",
       "                                  favorite_sale_month  mean_nb_items  \\\n",
       "customer_unique_id                                                     \n",
       "0000366f3b9a7992bf8c76cfdf3221e2                    5            1.0   \n",
       "0000b849f77a49e4a4ce2b2a4ca5be3f                    5            1.0   \n",
       "0000f46a3911fa3c0805444483337064                    3            1.0   \n",
       "\n",
       "                                  order_total_delay  \n",
       "customer_unique_id                                   \n",
       "0000366f3b9a7992bf8c76cfdf3221e2                111  \n",
       "0000b849f77a49e4a4ce2b2a4ca5be3f                114  \n",
       "0000f46a3911fa3c0805444483337064                537  "
      ]
     },
     "execution_count": 158,
     "metadata": {},
     "output_type": "execute_result"
    }
   ],
   "source": [
    "# Group by customers with sum or mean\n",
    "data = data.groupby(\"customer_unique_id\")\\\n",
    "            .agg({\"order_id\": \"nunique\",\n",
    "                  \"price\": \"sum\",\n",
    "                  \"freight_value\": \"sum\",\n",
    "                  \"nb_payment_sequential\": \"mean\", \n",
    "                  \"sum_payment_installments\": \"mean\", \n",
    "                  \"review_score\": \"mean\",\n",
    "                  \"delivery_delta_days\": \"mean\",\n",
    "                  \"sale_month\": lambda x:x.value_counts().index[0]})\n",
    "\n",
    "# Rename columns\n",
    "data = data.rename(columns={\"order_id\": \"nb_orders\",\n",
    "                            \"price\": \"total_spend\",\n",
    "                            \"freight_value\": \"total_freight\",\n",
    "                            \"nb_payment_sequential\": \"mean_payment_sequential\",\n",
    "                            \"sum_payment_installments\": \"mean_payment_installments\",\n",
    "                            \"review_score\": \"mean_review_score\",\n",
    "                            \"delivery_delta_days\": \"mean_delivery_days\",\n",
    "                            \"sale_month\": \"favorite_sale_month\"})\n",
    "\n",
    "\n",
    "data = pd.merge(data, products_per_order,\n",
    "                how=\"left\",\n",
    "                on=\"customer_unique_id\")\\\n",
    "        .rename(columns={\"order_item_id\": \"mean_nb_items\"})\n",
    "\n",
    "data = pd.merge(data, recurencies,\n",
    "                how=\"left\",\n",
    "                on=\"customer_unique_id\")\n",
    "\n",
    "data.head(3)"
   ]
  },
  {
   "cell_type": "markdown",
   "id": "overhead-coach",
   "metadata": {
    "papermill": {
     "duration": 0.10422,
     "end_time": "2021-05-31T07:54:44.641591",
     "exception": false,
     "start_time": "2021-05-31T07:54:44.537371",
     "status": "completed"
    },
    "tags": []
   },
   "source": [
    "Comme énnoncé précédement, nous allons ramener le délais des commandes client en fonction du nombre de commandes pour obtenir le **délai moyen entre plusieurs achats** :"
   ]
  },
  {
   "cell_type": "code",
   "execution_count": 159,
   "id": "consolidated-insert",
   "metadata": {
    "execution": {
     "iopub.execute_input": "2021-05-31T07:54:44.863716Z",
     "iopub.status.busy": "2021-05-31T07:54:44.862533Z",
     "iopub.status.idle": "2021-05-31T07:54:44.875220Z",
     "shell.execute_reply": "2021-05-31T07:54:44.874593Z",
     "shell.execute_reply.started": "2021-05-31T07:48:20.498008Z"
    },
    "papermill": {
     "duration": 0.129382,
     "end_time": "2021-05-31T07:54:44.875393",
     "exception": false,
     "start_time": "2021-05-31T07:54:44.746011",
     "status": "completed"
    },
    "tags": []
   },
   "outputs": [],
   "source": [
    "data[\"order_total_delay\"] = data[\"order_total_delay\"] / data[\"nb_orders\"]\n",
    "data = data.rename(columns={\"order_total_delay\": \"order_mean_delay\"})"
   ]
  },
  {
   "cell_type": "markdown",
   "id": "bulgarian-style",
   "metadata": {
    "papermill": {
     "duration": 0.107301,
     "end_time": "2021-05-31T07:54:45.088125",
     "exception": false,
     "start_time": "2021-05-31T07:54:44.980824",
     "status": "completed"
    },
    "tags": []
   },
   "source": [
    "Il nous reste à présent à calculer quelques dernières variables plus représentatives :\n",
    "- **Le ratio fret / total commande**\n",
    "- **le prix moyen par commande**"
   ]
  },
  {
   "cell_type": "code",
   "execution_count": 160,
   "id": "removable-captain",
   "metadata": {
    "execution": {
     "iopub.execute_input": "2021-05-31T07:54:45.307688Z",
     "iopub.status.busy": "2021-05-31T07:54:45.306890Z",
     "iopub.status.idle": "2021-05-31T07:54:45.344094Z",
     "shell.execute_reply": "2021-05-31T07:54:45.343263Z",
     "shell.execute_reply.started": "2021-05-31T07:48:20.513539Z"
    },
    "papermill": {
     "duration": 0.150499,
     "end_time": "2021-05-31T07:54:45.344266",
     "exception": false,
     "start_time": "2021-05-31T07:54:45.193767",
     "status": "completed"
    },
    "tags": []
   },
   "outputs": [],
   "source": [
    "data[\"freight_ratio\"] = round(data[\"total_freight\"] / (data[\"total_spend\"] + data[\"total_freight\"]),2)\n",
    "data[\"mean_price_order\"] = round(data[\"total_spend\"] / data[\"nb_orders\"],2)\n",
    "data[\"total_spend\"] = (data[\"total_spend\"] + data[\"total_freight\"])\n",
    "data.drop(\"total_freight\", axis=1, inplace=True)"
   ]
  },
  {
   "cell_type": "markdown",
   "id": "affecting-volume",
   "metadata": {
    "papermill": {
     "duration": 0.106326,
     "end_time": "2021-05-31T07:54:45.557474",
     "exception": false,
     "start_time": "2021-05-31T07:54:45.451148",
     "status": "completed"
    },
    "tags": []
   },
   "source": [
    "Enfin, nous allons ajouter les données de localisation des clients :"
   ]
  },
  {
   "cell_type": "code",
   "execution_count": 161,
   "id": "native-conviction",
   "metadata": {
    "execution": {
     "iopub.execute_input": "2021-05-31T07:54:45.781544Z",
     "iopub.status.busy": "2021-05-31T07:54:45.775463Z",
     "iopub.status.idle": "2021-05-31T07:56:46.891663Z",
     "shell.execute_reply": "2021-05-31T07:56:46.890867Z",
     "shell.execute_reply.started": "2021-05-31T07:48:20.551917Z"
    },
    "papermill": {
     "duration": 121.229506,
     "end_time": "2021-05-31T07:56:46.891890",
     "exception": false,
     "start_time": "2021-05-31T07:54:45.662384",
     "status": "completed"
    },
    "tags": []
   },
   "outputs": [],
   "source": [
    "customers.drop(\"customer_id\", axis=1, inplace=True)\n",
    "# Select the most frequents values for each customer\n",
    "customers_info = customers.groupby(\"customer_unique_id\").agg(lambda x:x.value_counts().index[0])\n",
    "data = pd.merge(data, customers_info,\n",
    "                how=\"left\",\n",
    "                on=\"customer_unique_id\")"
   ]
  },
  {
   "cell_type": "markdown",
   "id": "opposed-reliance",
   "metadata": {
    "papermill": {
     "duration": 0.109871,
     "end_time": "2021-05-31T07:56:47.110924",
     "exception": false,
     "start_time": "2021-05-31T07:56:47.001053",
     "status": "completed"
    },
    "tags": []
   },
   "source": [
    "# <font color=\"#476bff\" id=\"section_3\">Exploration du dataset client</font>\n",
    "\n",
    "Nous avons à présent notre dataset complété pour la segmentation de la clientèle. Nous allons faire une rapide exploration de ces données :"
   ]
  },
  {
   "cell_type": "code",
   "execution_count": 162,
   "id": "crude-thanksgiving",
   "metadata": {
    "execution": {
     "iopub.execute_input": "2021-05-31T07:56:47.339344Z",
     "iopub.status.busy": "2021-05-31T07:56:47.338475Z",
     "iopub.status.idle": "2021-05-31T07:56:47.368993Z",
     "shell.execute_reply": "2021-05-31T07:56:47.369496Z",
     "shell.execute_reply.started": "2021-05-31T07:50:22.679266Z"
    },
    "papermill": {
     "duration": 0.146359,
     "end_time": "2021-05-31T07:56:47.369755",
     "exception": false,
     "start_time": "2021-05-31T07:56:47.223396",
     "status": "completed"
    },
    "tags": []
   },
   "outputs": [
    {
     "data": {
      "text/html": [
       "<div>\n",
       "<style scoped>\n",
       "    .dataframe tbody tr th:only-of-type {\n",
       "        vertical-align: middle;\n",
       "    }\n",
       "\n",
       "    .dataframe tbody tr th {\n",
       "        vertical-align: top;\n",
       "    }\n",
       "\n",
       "    .dataframe thead th {\n",
       "        text-align: right;\n",
       "    }\n",
       "</style>\n",
       "<table border=\"1\" class=\"dataframe\">\n",
       "  <thead>\n",
       "    <tr style=\"text-align: right;\">\n",
       "      <th></th>\n",
       "      <th>nb_orders</th>\n",
       "      <th>total_spend</th>\n",
       "      <th>mean_payment_sequential</th>\n",
       "      <th>mean_payment_installments</th>\n",
       "      <th>mean_review_score</th>\n",
       "      <th>mean_delivery_days</th>\n",
       "      <th>favorite_sale_month</th>\n",
       "      <th>mean_nb_items</th>\n",
       "      <th>order_mean_delay</th>\n",
       "      <th>freight_ratio</th>\n",
       "      <th>mean_price_order</th>\n",
       "      <th>customer_zip_code_prefix</th>\n",
       "      <th>customer_city</th>\n",
       "      <th>customer_state</th>\n",
       "    </tr>\n",
       "    <tr>\n",
       "      <th>customer_unique_id</th>\n",
       "      <th></th>\n",
       "      <th></th>\n",
       "      <th></th>\n",
       "      <th></th>\n",
       "      <th></th>\n",
       "      <th></th>\n",
       "      <th></th>\n",
       "      <th></th>\n",
       "      <th></th>\n",
       "      <th></th>\n",
       "      <th></th>\n",
       "      <th></th>\n",
       "      <th></th>\n",
       "      <th></th>\n",
       "    </tr>\n",
       "  </thead>\n",
       "  <tbody>\n",
       "    <tr>\n",
       "      <th>0000366f3b9a7992bf8c76cfdf3221e2</th>\n",
       "      <td>1</td>\n",
       "      <td>141.90</td>\n",
       "      <td>1.0</td>\n",
       "      <td>8.0</td>\n",
       "      <td>5.0</td>\n",
       "      <td>6.0</td>\n",
       "      <td>5</td>\n",
       "      <td>1.0</td>\n",
       "      <td>111.0</td>\n",
       "      <td>0.08</td>\n",
       "      <td>129.9</td>\n",
       "      <td>7787</td>\n",
       "      <td>cajamar</td>\n",
       "      <td>SP</td>\n",
       "    </tr>\n",
       "    <tr>\n",
       "      <th>0000b849f77a49e4a4ce2b2a4ca5be3f</th>\n",
       "      <td>1</td>\n",
       "      <td>27.19</td>\n",
       "      <td>1.0</td>\n",
       "      <td>1.0</td>\n",
       "      <td>4.0</td>\n",
       "      <td>3.0</td>\n",
       "      <td>5</td>\n",
       "      <td>1.0</td>\n",
       "      <td>114.0</td>\n",
       "      <td>0.30</td>\n",
       "      <td>18.9</td>\n",
       "      <td>6053</td>\n",
       "      <td>osasco</td>\n",
       "      <td>SP</td>\n",
       "    </tr>\n",
       "    <tr>\n",
       "      <th>0000f46a3911fa3c0805444483337064</th>\n",
       "      <td>1</td>\n",
       "      <td>86.22</td>\n",
       "      <td>1.0</td>\n",
       "      <td>8.0</td>\n",
       "      <td>3.0</td>\n",
       "      <td>26.0</td>\n",
       "      <td>3</td>\n",
       "      <td>1.0</td>\n",
       "      <td>537.0</td>\n",
       "      <td>0.20</td>\n",
       "      <td>69.0</td>\n",
       "      <td>88115</td>\n",
       "      <td>sao jose</td>\n",
       "      <td>SC</td>\n",
       "    </tr>\n",
       "  </tbody>\n",
       "</table>\n",
       "</div>"
      ],
      "text/plain": [
       "                                  nb_orders  total_spend  \\\n",
       "customer_unique_id                                         \n",
       "0000366f3b9a7992bf8c76cfdf3221e2          1       141.90   \n",
       "0000b849f77a49e4a4ce2b2a4ca5be3f          1        27.19   \n",
       "0000f46a3911fa3c0805444483337064          1        86.22   \n",
       "\n",
       "                                  mean_payment_sequential  \\\n",
       "customer_unique_id                                          \n",
       "0000366f3b9a7992bf8c76cfdf3221e2                      1.0   \n",
       "0000b849f77a49e4a4ce2b2a4ca5be3f                      1.0   \n",
       "0000f46a3911fa3c0805444483337064                      1.0   \n",
       "\n",
       "                                  mean_payment_installments  \\\n",
       "customer_unique_id                                            \n",
       "0000366f3b9a7992bf8c76cfdf3221e2                        8.0   \n",
       "0000b849f77a49e4a4ce2b2a4ca5be3f                        1.0   \n",
       "0000f46a3911fa3c0805444483337064                        8.0   \n",
       "\n",
       "                                  mean_review_score  mean_delivery_days  \\\n",
       "customer_unique_id                                                        \n",
       "0000366f3b9a7992bf8c76cfdf3221e2                5.0                 6.0   \n",
       "0000b849f77a49e4a4ce2b2a4ca5be3f                4.0                 3.0   \n",
       "0000f46a3911fa3c0805444483337064                3.0                26.0   \n",
       "\n",
       "                                  favorite_sale_month  mean_nb_items  \\\n",
       "customer_unique_id                                                     \n",
       "0000366f3b9a7992bf8c76cfdf3221e2                    5            1.0   \n",
       "0000b849f77a49e4a4ce2b2a4ca5be3f                    5            1.0   \n",
       "0000f46a3911fa3c0805444483337064                    3            1.0   \n",
       "\n",
       "                                  order_mean_delay  freight_ratio  \\\n",
       "customer_unique_id                                                  \n",
       "0000366f3b9a7992bf8c76cfdf3221e2             111.0           0.08   \n",
       "0000b849f77a49e4a4ce2b2a4ca5be3f             114.0           0.30   \n",
       "0000f46a3911fa3c0805444483337064             537.0           0.20   \n",
       "\n",
       "                                  mean_price_order  customer_zip_code_prefix  \\\n",
       "customer_unique_id                                                             \n",
       "0000366f3b9a7992bf8c76cfdf3221e2             129.9                      7787   \n",
       "0000b849f77a49e4a4ce2b2a4ca5be3f              18.9                      6053   \n",
       "0000f46a3911fa3c0805444483337064              69.0                     88115   \n",
       "\n",
       "                                 customer_city customer_state  \n",
       "customer_unique_id                                             \n",
       "0000366f3b9a7992bf8c76cfdf3221e2       cajamar             SP  \n",
       "0000b849f77a49e4a4ce2b2a4ca5be3f        osasco             SP  \n",
       "0000f46a3911fa3c0805444483337064      sao jose             SC  "
      ]
     },
     "execution_count": 162,
     "metadata": {},
     "output_type": "execute_result"
    }
   ],
   "source": [
    "data.head(3)"
   ]
  },
  {
   "cell_type": "code",
   "execution_count": 163,
   "id": "completed-credits",
   "metadata": {
    "execution": {
     "iopub.execute_input": "2021-05-31T07:56:47.612562Z",
     "iopub.status.busy": "2021-05-31T07:56:47.611774Z",
     "iopub.status.idle": "2021-05-31T07:56:47.649960Z",
     "shell.execute_reply": "2021-05-31T07:56:47.650500Z",
     "shell.execute_reply.started": "2021-05-31T07:50:22.715260Z"
    },
    "papermill": {
     "duration": 0.174601,
     "end_time": "2021-05-31T07:56:47.650715",
     "exception": false,
     "start_time": "2021-05-31T07:56:47.476114",
     "status": "completed"
    },
    "tags": []
   },
   "outputs": [
    {
     "name": "stdout",
     "output_type": "stream",
     "text": [
      "<class 'pandas.core.frame.DataFrame'>\n",
      "Index: 93358 entries, 0000366f3b9a7992bf8c76cfdf3221e2 to ffffd2657e2aad2907e67c3e9daecbeb\n",
      "Data columns (total 14 columns):\n",
      " #   Column                     Non-Null Count  Dtype  \n",
      "---  ------                     --------------  -----  \n",
      " 0   nb_orders                  93358 non-null  int64  \n",
      " 1   total_spend                93358 non-null  float64\n",
      " 2   mean_payment_sequential    93357 non-null  float64\n",
      " 3   mean_payment_installments  93357 non-null  float64\n",
      " 4   mean_review_score          92755 non-null  float64\n",
      " 5   mean_delivery_days         93350 non-null  float64\n",
      " 6   favorite_sale_month        93358 non-null  int64  \n",
      " 7   mean_nb_items              93358 non-null  float64\n",
      " 8   order_mean_delay           93358 non-null  float64\n",
      " 9   freight_ratio              93358 non-null  float64\n",
      " 10  mean_price_order           93358 non-null  float64\n",
      " 11  customer_zip_code_prefix   93358 non-null  int64  \n",
      " 12  customer_city              93358 non-null  object \n",
      " 13  customer_state             93358 non-null  object \n",
      "dtypes: float64(9), int64(3), object(2)\n",
      "memory usage: 10.7+ MB\n"
     ]
    }
   ],
   "source": [
    "data.info()"
   ]
  },
  {
   "cell_type": "markdown",
   "id": "extraordinary-question",
   "metadata": {
    "papermill": {
     "duration": 0.109352,
     "end_time": "2021-05-31T07:56:47.867866",
     "exception": false,
     "start_time": "2021-05-31T07:56:47.758514",
     "status": "completed"
    },
    "tags": []
   },
   "source": [
    "Seulement 3 variables contiennent des valeurs nulles. Nous allons donc les compléter par les valeurs les plus fréquentes :"
   ]
  },
  {
   "cell_type": "code",
   "execution_count": 164,
   "id": "tamil-chosen",
   "metadata": {
    "execution": {
     "iopub.execute_input": "2021-05-31T07:56:48.119296Z",
     "iopub.status.busy": "2021-05-31T07:56:48.118489Z",
     "iopub.status.idle": "2021-05-31T07:56:48.161768Z",
     "shell.execute_reply": "2021-05-31T07:56:48.160969Z",
     "shell.execute_reply.started": "2021-05-31T07:50:22.772915Z"
    },
    "papermill": {
     "duration": 0.183361,
     "end_time": "2021-05-31T07:56:48.161935",
     "exception": false,
     "start_time": "2021-05-31T07:56:47.978574",
     "status": "completed"
    },
    "tags": []
   },
   "outputs": [
    {
     "name": "stdout",
     "output_type": "stream",
     "text": [
      "mean_payment_sequential 1.0\n",
      "mean_payment_installments 1.0\n",
      "mean_review_score 5.0\n",
      "mean_delivery_days 7.0\n"
     ]
    }
   ],
   "source": [
    "# Find features to fill and fillna with mode\n",
    "features_to_fill = data.isnull().sum()\n",
    "features_to_fill = list(features_to_fill[features_to_fill.values > 0].index)\n",
    "\n",
    "for f in features_to_fill:\n",
    "    data[f] = data[f].fillna(data[f].mode()[0])\n",
    "    print(f, data[f].mode()[0])"
   ]
  },
  {
   "cell_type": "code",
   "execution_count": 165,
   "id": "checked-cooper",
   "metadata": {
    "execution": {
     "iopub.execute_input": "2021-05-31T07:56:48.383218Z",
     "iopub.status.busy": "2021-05-31T07:56:48.382456Z",
     "iopub.status.idle": "2021-05-31T07:56:48.556402Z",
     "shell.execute_reply": "2021-05-31T07:56:48.555855Z",
     "shell.execute_reply.started": "2021-05-31T07:50:22.834673Z"
    },
    "papermill": {
     "duration": 0.287712,
     "end_time": "2021-05-31T07:56:48.556553",
     "exception": false,
     "start_time": "2021-05-31T07:56:48.268841",
     "status": "completed"
    },
    "tags": []
   },
   "outputs": [
    {
     "data": {
      "text/html": [
       "<div>\n",
       "<style scoped>\n",
       "    .dataframe tbody tr th:only-of-type {\n",
       "        vertical-align: middle;\n",
       "    }\n",
       "\n",
       "    .dataframe tbody tr th {\n",
       "        vertical-align: top;\n",
       "    }\n",
       "\n",
       "    .dataframe thead th {\n",
       "        text-align: right;\n",
       "    }\n",
       "</style>\n",
       "<table border=\"1\" class=\"dataframe\">\n",
       "  <thead>\n",
       "    <tr style=\"text-align: right;\">\n",
       "      <th></th>\n",
       "      <th>nb_orders</th>\n",
       "      <th>total_spend</th>\n",
       "      <th>mean_payment_sequential</th>\n",
       "      <th>mean_payment_installments</th>\n",
       "      <th>mean_review_score</th>\n",
       "      <th>mean_delivery_days</th>\n",
       "      <th>favorite_sale_month</th>\n",
       "      <th>mean_nb_items</th>\n",
       "      <th>order_mean_delay</th>\n",
       "      <th>freight_ratio</th>\n",
       "      <th>mean_price_order</th>\n",
       "      <th>customer_zip_code_prefix</th>\n",
       "    </tr>\n",
       "  </thead>\n",
       "  <tbody>\n",
       "    <tr>\n",
       "      <th>count</th>\n",
       "      <td>93358.000000</td>\n",
       "      <td>93358.000000</td>\n",
       "      <td>93358.000000</td>\n",
       "      <td>93358.000000</td>\n",
       "      <td>93358.000000</td>\n",
       "      <td>93358.000000</td>\n",
       "      <td>93358.000000</td>\n",
       "      <td>93358.000000</td>\n",
       "      <td>93358.000000</td>\n",
       "      <td>93358.000000</td>\n",
       "      <td>93358.000000</td>\n",
       "      <td>93358.000000</td>\n",
       "    </tr>\n",
       "    <tr>\n",
       "      <th>mean</th>\n",
       "      <td>1.033420</td>\n",
       "      <td>165.168210</td>\n",
       "      <td>1.043872</td>\n",
       "      <td>2.965951</td>\n",
       "      <td>4.158806</td>\n",
       "      <td>12.524327</td>\n",
       "      <td>6.034759</td>\n",
       "      <td>1.139531</td>\n",
       "      <td>232.502018</td>\n",
       "      <td>0.208141</td>\n",
       "      <td>137.508262</td>\n",
       "      <td>35243.998340</td>\n",
       "    </tr>\n",
       "    <tr>\n",
       "      <th>std</th>\n",
       "      <td>0.209097</td>\n",
       "      <td>226.292101</td>\n",
       "      <td>0.364435</td>\n",
       "      <td>2.717719</td>\n",
       "      <td>1.278290</td>\n",
       "      <td>9.550578</td>\n",
       "      <td>3.226430</td>\n",
       "      <td>0.527075</td>\n",
       "      <td>154.187659</td>\n",
       "      <td>0.124892</td>\n",
       "      <td>209.860281</td>\n",
       "      <td>29843.212881</td>\n",
       "    </tr>\n",
       "    <tr>\n",
       "      <th>min</th>\n",
       "      <td>1.000000</td>\n",
       "      <td>9.590000</td>\n",
       "      <td>1.000000</td>\n",
       "      <td>0.000000</td>\n",
       "      <td>1.000000</td>\n",
       "      <td>1.000000</td>\n",
       "      <td>1.000000</td>\n",
       "      <td>1.000000</td>\n",
       "      <td>0.000000</td>\n",
       "      <td>0.000000</td>\n",
       "      <td>0.850000</td>\n",
       "      <td>1003.000000</td>\n",
       "    </tr>\n",
       "    <tr>\n",
       "      <th>25%</th>\n",
       "      <td>1.000000</td>\n",
       "      <td>63.010000</td>\n",
       "      <td>1.000000</td>\n",
       "      <td>1.000000</td>\n",
       "      <td>4.000000</td>\n",
       "      <td>7.000000</td>\n",
       "      <td>3.000000</td>\n",
       "      <td>1.000000</td>\n",
       "      <td>108.000000</td>\n",
       "      <td>0.120000</td>\n",
       "      <td>46.000000</td>\n",
       "      <td>11410.000000</td>\n",
       "    </tr>\n",
       "    <tr>\n",
       "      <th>50%</th>\n",
       "      <td>1.000000</td>\n",
       "      <td>107.780000</td>\n",
       "      <td>1.000000</td>\n",
       "      <td>2.000000</td>\n",
       "      <td>5.000000</td>\n",
       "      <td>10.000000</td>\n",
       "      <td>6.000000</td>\n",
       "      <td>1.000000</td>\n",
       "      <td>212.000000</td>\n",
       "      <td>0.180000</td>\n",
       "      <td>86.990000</td>\n",
       "      <td>24455.000000</td>\n",
       "    </tr>\n",
       "    <tr>\n",
       "      <th>75%</th>\n",
       "      <td>1.000000</td>\n",
       "      <td>182.510000</td>\n",
       "      <td>1.000000</td>\n",
       "      <td>4.000000</td>\n",
       "      <td>5.000000</td>\n",
       "      <td>16.000000</td>\n",
       "      <td>8.000000</td>\n",
       "      <td>1.000000</td>\n",
       "      <td>342.000000</td>\n",
       "      <td>0.270000</td>\n",
       "      <td>149.900000</td>\n",
       "      <td>59075.000000</td>\n",
       "    </tr>\n",
       "    <tr>\n",
       "      <th>max</th>\n",
       "      <td>15.000000</td>\n",
       "      <td>13664.080000</td>\n",
       "      <td>26.000000</td>\n",
       "      <td>26.000000</td>\n",
       "      <td>5.000000</td>\n",
       "      <td>210.000000</td>\n",
       "      <td>12.000000</td>\n",
       "      <td>21.000000</td>\n",
       "      <td>713.000000</td>\n",
       "      <td>0.960000</td>\n",
       "      <td>13440.000000</td>\n",
       "      <td>99980.000000</td>\n",
       "    </tr>\n",
       "  </tbody>\n",
       "</table>\n",
       "</div>"
      ],
      "text/plain": [
       "          nb_orders   total_spend  mean_payment_sequential  \\\n",
       "count  93358.000000  93358.000000             93358.000000   \n",
       "mean       1.033420    165.168210                 1.043872   \n",
       "std        0.209097    226.292101                 0.364435   \n",
       "min        1.000000      9.590000                 1.000000   \n",
       "25%        1.000000     63.010000                 1.000000   \n",
       "50%        1.000000    107.780000                 1.000000   \n",
       "75%        1.000000    182.510000                 1.000000   \n",
       "max       15.000000  13664.080000                26.000000   \n",
       "\n",
       "       mean_payment_installments  mean_review_score  mean_delivery_days  \\\n",
       "count               93358.000000       93358.000000        93358.000000   \n",
       "mean                    2.965951           4.158806           12.524327   \n",
       "std                     2.717719           1.278290            9.550578   \n",
       "min                     0.000000           1.000000            1.000000   \n",
       "25%                     1.000000           4.000000            7.000000   \n",
       "50%                     2.000000           5.000000           10.000000   \n",
       "75%                     4.000000           5.000000           16.000000   \n",
       "max                    26.000000           5.000000          210.000000   \n",
       "\n",
       "       favorite_sale_month  mean_nb_items  order_mean_delay  freight_ratio  \\\n",
       "count         93358.000000   93358.000000      93358.000000   93358.000000   \n",
       "mean              6.034759       1.139531        232.502018       0.208141   \n",
       "std               3.226430       0.527075        154.187659       0.124892   \n",
       "min               1.000000       1.000000          0.000000       0.000000   \n",
       "25%               3.000000       1.000000        108.000000       0.120000   \n",
       "50%               6.000000       1.000000        212.000000       0.180000   \n",
       "75%               8.000000       1.000000        342.000000       0.270000   \n",
       "max              12.000000      21.000000        713.000000       0.960000   \n",
       "\n",
       "       mean_price_order  customer_zip_code_prefix  \n",
       "count      93358.000000              93358.000000  \n",
       "mean         137.508262              35243.998340  \n",
       "std          209.860281              29843.212881  \n",
       "min            0.850000               1003.000000  \n",
       "25%           46.000000              11410.000000  \n",
       "50%           86.990000              24455.000000  \n",
       "75%          149.900000              59075.000000  \n",
       "max        13440.000000              99980.000000  "
      ]
     },
     "execution_count": 165,
     "metadata": {},
     "output_type": "execute_result"
    }
   ],
   "source": [
    "data.describe()"
   ]
  },
  {
   "cell_type": "markdown",
   "id": "banner-quick",
   "metadata": {
    "papermill": {
     "duration": 0.10794,
     "end_time": "2021-05-31T07:56:48.774017",
     "exception": false,
     "start_time": "2021-05-31T07:56:48.666077",
     "status": "completed"
    },
    "tags": []
   },
   "source": [
    "On peut voir également dans cette description qu'une commande est chiffrée à plus de 13 000 dollars. Nous allons vérifier cette commande atypique :"
   ]
  },
  {
   "cell_type": "code",
   "execution_count": 166,
   "id": "brazilian-hungary",
   "metadata": {
    "execution": {
     "iopub.execute_input": "2021-05-31T07:56:48.997893Z",
     "iopub.status.busy": "2021-05-31T07:56:48.996695Z",
     "iopub.status.idle": "2021-05-31T07:56:49.024080Z",
     "shell.execute_reply": "2021-05-31T07:56:49.024634Z",
     "shell.execute_reply.started": "2021-05-31T07:50:23.014787Z"
    },
    "papermill": {
     "duration": 0.142322,
     "end_time": "2021-05-31T07:56:49.024846",
     "exception": false,
     "start_time": "2021-05-31T07:56:48.882524",
     "status": "completed"
    },
    "tags": []
   },
   "outputs": [
    {
     "data": {
      "text/html": [
       "<div>\n",
       "<style scoped>\n",
       "    .dataframe tbody tr th:only-of-type {\n",
       "        vertical-align: middle;\n",
       "    }\n",
       "\n",
       "    .dataframe tbody tr th {\n",
       "        vertical-align: top;\n",
       "    }\n",
       "\n",
       "    .dataframe thead th {\n",
       "        text-align: right;\n",
       "    }\n",
       "</style>\n",
       "<table border=\"1\" class=\"dataframe\">\n",
       "  <thead>\n",
       "    <tr style=\"text-align: right;\">\n",
       "      <th></th>\n",
       "      <th>nb_orders</th>\n",
       "      <th>total_spend</th>\n",
       "      <th>mean_payment_sequential</th>\n",
       "      <th>mean_payment_installments</th>\n",
       "      <th>mean_review_score</th>\n",
       "      <th>mean_delivery_days</th>\n",
       "      <th>favorite_sale_month</th>\n",
       "      <th>mean_nb_items</th>\n",
       "      <th>order_mean_delay</th>\n",
       "      <th>freight_ratio</th>\n",
       "      <th>mean_price_order</th>\n",
       "      <th>customer_zip_code_prefix</th>\n",
       "      <th>customer_city</th>\n",
       "      <th>customer_state</th>\n",
       "    </tr>\n",
       "    <tr>\n",
       "      <th>customer_unique_id</th>\n",
       "      <th></th>\n",
       "      <th></th>\n",
       "      <th></th>\n",
       "      <th></th>\n",
       "      <th></th>\n",
       "      <th></th>\n",
       "      <th></th>\n",
       "      <th></th>\n",
       "      <th></th>\n",
       "      <th></th>\n",
       "      <th></th>\n",
       "      <th></th>\n",
       "      <th></th>\n",
       "      <th></th>\n",
       "    </tr>\n",
       "  </thead>\n",
       "  <tbody>\n",
       "    <tr>\n",
       "      <th>0a0a92112bd4c708ca5fde585afaa872</th>\n",
       "      <td>1</td>\n",
       "      <td>13664.08</td>\n",
       "      <td>1.0</td>\n",
       "      <td>1.0</td>\n",
       "      <td>1.0</td>\n",
       "      <td>18.0</td>\n",
       "      <td>9</td>\n",
       "      <td>8.0</td>\n",
       "      <td>334.0</td>\n",
       "      <td>0.02</td>\n",
       "      <td>13440.0</td>\n",
       "      <td>20080</td>\n",
       "      <td>rio de janeiro</td>\n",
       "      <td>RJ</td>\n",
       "    </tr>\n",
       "  </tbody>\n",
       "</table>\n",
       "</div>"
      ],
      "text/plain": [
       "                                  nb_orders  total_spend  \\\n",
       "customer_unique_id                                         \n",
       "0a0a92112bd4c708ca5fde585afaa872          1     13664.08   \n",
       "\n",
       "                                  mean_payment_sequential  \\\n",
       "customer_unique_id                                          \n",
       "0a0a92112bd4c708ca5fde585afaa872                      1.0   \n",
       "\n",
       "                                  mean_payment_installments  \\\n",
       "customer_unique_id                                            \n",
       "0a0a92112bd4c708ca5fde585afaa872                        1.0   \n",
       "\n",
       "                                  mean_review_score  mean_delivery_days  \\\n",
       "customer_unique_id                                                        \n",
       "0a0a92112bd4c708ca5fde585afaa872                1.0                18.0   \n",
       "\n",
       "                                  favorite_sale_month  mean_nb_items  \\\n",
       "customer_unique_id                                                     \n",
       "0a0a92112bd4c708ca5fde585afaa872                    9            8.0   \n",
       "\n",
       "                                  order_mean_delay  freight_ratio  \\\n",
       "customer_unique_id                                                  \n",
       "0a0a92112bd4c708ca5fde585afaa872             334.0           0.02   \n",
       "\n",
       "                                  mean_price_order  customer_zip_code_prefix  \\\n",
       "customer_unique_id                                                             \n",
       "0a0a92112bd4c708ca5fde585afaa872           13440.0                     20080   \n",
       "\n",
       "                                   customer_city customer_state  \n",
       "customer_unique_id                                               \n",
       "0a0a92112bd4c708ca5fde585afaa872  rio de janeiro             RJ  "
      ]
     },
     "execution_count": 166,
     "metadata": {},
     "output_type": "execute_result"
    }
   ],
   "source": [
    "data[data[\"mean_price_order\"] == data[\"mean_price_order\"].max()]"
   ]
  },
  {
   "cell_type": "markdown",
   "id": "coordinated-woman",
   "metadata": {
    "papermill": {
     "duration": 0.113725,
     "end_time": "2021-05-31T07:56:49.248388",
     "exception": false,
     "start_time": "2021-05-31T07:56:49.134663",
     "status": "completed"
    },
    "tags": []
   },
   "source": [
    "Cette commande contient 8 articles technologiques pour un montant de 13 000 dollars. C'est atypique certes, mais ce n'est pas pour autant une donnée abérrante. Nous la conservons donc.\n",
    "\n",
    "Regardons la dispersion des montants moyen de commandes en fonction du nombre d'articles pour tenter de repérer d'autres anomalies :"
   ]
  },
  {
   "cell_type": "code",
   "execution_count": 167,
   "id": "personalized-detective",
   "metadata": {
    "execution": {
     "iopub.execute_input": "2021-05-31T07:56:49.473670Z",
     "iopub.status.busy": "2021-05-31T07:56:49.472926Z",
     "iopub.status.idle": "2021-05-31T07:56:49.940849Z",
     "shell.execute_reply": "2021-05-31T07:56:49.940168Z",
     "shell.execute_reply.started": "2021-05-31T07:50:23.048912Z"
    },
    "papermill": {
     "duration": 0.583399,
     "end_time": "2021-05-31T07:56:49.941026",
     "exception": false,
     "start_time": "2021-05-31T07:56:49.357627",
     "status": "completed"
    },
    "tags": []
   },
   "outputs": [
    {
     "data": {
      "image/png": "[encoded data removed]",
      "text/plain": [
       "<Figure size 864x576 with 1 Axes>"
      ]
     },
     "metadata": {},
     "output_type": "display_data"
    }
   ],
   "source": [
    "fig = plt.figure(figsize=(12, 8))\n",
    "sns.scatterplot(data=data, y=\"mean_price_order\", x=\"mean_nb_items\",\n",
    "                color=\"#00d994\", alpha=0.7)\n",
    "plt.title(f\"Répartition des prix moyen de commandes en fonction du nombre d'articles\\n\",\n",
    "          fontdict=font_title, fontsize=16)\n",
    "plt.show()"
   ]
  },
  {
   "cell_type": "markdown",
   "id": "played-principle",
   "metadata": {
    "papermill": {
     "duration": 0.113932,
     "end_time": "2021-05-31T07:56:50.166027",
     "exception": false,
     "start_time": "2021-05-31T07:56:50.052095",
     "status": "completed"
    },
    "tags": []
   },
   "source": [
    "Une commande de plus de 20 articles est affichée pour une somme de prêt de 0 :"
   ]
  },
  {
   "cell_type": "code",
   "execution_count": 168,
   "id": "swedish-saturday",
   "metadata": {
    "execution": {
     "iopub.execute_input": "2021-05-31T07:56:50.421075Z",
     "iopub.status.busy": "2021-05-31T07:56:50.420272Z",
     "iopub.status.idle": "2021-05-31T07:56:50.449139Z",
     "shell.execute_reply": "2021-05-31T07:56:50.448405Z",
     "shell.execute_reply.started": "2021-05-31T07:50:23.512872Z"
    },
    "papermill": {
     "duration": 0.147823,
     "end_time": "2021-05-31T07:56:50.449316",
     "exception": false,
     "start_time": "2021-05-31T07:56:50.301493",
     "status": "completed"
    },
    "tags": []
   },
   "outputs": [
    {
     "data": {
      "text/html": [
       "<div>\n",
       "<style scoped>\n",
       "    .dataframe tbody tr th:only-of-type {\n",
       "        vertical-align: middle;\n",
       "    }\n",
       "\n",
       "    .dataframe tbody tr th {\n",
       "        vertical-align: top;\n",
       "    }\n",
       "\n",
       "    .dataframe thead th {\n",
       "        text-align: right;\n",
       "    }\n",
       "</style>\n",
       "<table border=\"1\" class=\"dataframe\">\n",
       "  <thead>\n",
       "    <tr style=\"text-align: right;\">\n",
       "      <th></th>\n",
       "      <th>nb_orders</th>\n",
       "      <th>total_spend</th>\n",
       "      <th>mean_payment_sequential</th>\n",
       "      <th>mean_payment_installments</th>\n",
       "      <th>mean_review_score</th>\n",
       "      <th>mean_delivery_days</th>\n",
       "      <th>favorite_sale_month</th>\n",
       "      <th>mean_nb_items</th>\n",
       "      <th>order_mean_delay</th>\n",
       "      <th>freight_ratio</th>\n",
       "      <th>mean_price_order</th>\n",
       "      <th>customer_zip_code_prefix</th>\n",
       "      <th>customer_city</th>\n",
       "      <th>customer_state</th>\n",
       "    </tr>\n",
       "    <tr>\n",
       "      <th>customer_unique_id</th>\n",
       "      <th></th>\n",
       "      <th></th>\n",
       "      <th></th>\n",
       "      <th></th>\n",
       "      <th></th>\n",
       "      <th></th>\n",
       "      <th></th>\n",
       "      <th></th>\n",
       "      <th></th>\n",
       "      <th></th>\n",
       "      <th></th>\n",
       "      <th></th>\n",
       "      <th></th>\n",
       "      <th></th>\n",
       "    </tr>\n",
       "  </thead>\n",
       "  <tbody>\n",
       "    <tr>\n",
       "      <th>4546caea018ad8c692964e3382debd19</th>\n",
       "      <td>1</td>\n",
       "      <td>196.17</td>\n",
       "      <td>1.0</td>\n",
       "      <td>2.0</td>\n",
       "      <td>1.0</td>\n",
       "      <td>15.0</td>\n",
       "      <td>7</td>\n",
       "      <td>21.0</td>\n",
       "      <td>409.0</td>\n",
       "      <td>0.84</td>\n",
       "      <td>31.8</td>\n",
       "      <td>5882</td>\n",
       "      <td>sao paulo</td>\n",
       "      <td>SP</td>\n",
       "    </tr>\n",
       "  </tbody>\n",
       "</table>\n",
       "</div>"
      ],
      "text/plain": [
       "                                  nb_orders  total_spend  \\\n",
       "customer_unique_id                                         \n",
       "4546caea018ad8c692964e3382debd19          1       196.17   \n",
       "\n",
       "                                  mean_payment_sequential  \\\n",
       "customer_unique_id                                          \n",
       "4546caea018ad8c692964e3382debd19                      1.0   \n",
       "\n",
       "                                  mean_payment_installments  \\\n",
       "customer_unique_id                                            \n",
       "4546caea018ad8c692964e3382debd19                        2.0   \n",
       "\n",
       "                                  mean_review_score  mean_delivery_days  \\\n",
       "customer_unique_id                                                        \n",
       "4546caea018ad8c692964e3382debd19                1.0                15.0   \n",
       "\n",
       "                                  favorite_sale_month  mean_nb_items  \\\n",
       "customer_unique_id                                                     \n",
       "4546caea018ad8c692964e3382debd19                    7           21.0   \n",
       "\n",
       "                                  order_mean_delay  freight_ratio  \\\n",
       "customer_unique_id                                                  \n",
       "4546caea018ad8c692964e3382debd19             409.0           0.84   \n",
       "\n",
       "                                  mean_price_order  customer_zip_code_prefix  \\\n",
       "customer_unique_id                                                             \n",
       "4546caea018ad8c692964e3382debd19              31.8                      5882   \n",
       "\n",
       "                                 customer_city customer_state  \n",
       "customer_unique_id                                             \n",
       "4546caea018ad8c692964e3382debd19     sao paulo             SP  "
      ]
     },
     "execution_count": 168,
     "metadata": {},
     "output_type": "execute_result"
    }
   ],
   "source": [
    "data[data[\"mean_nb_items\"] > 20]"
   ]
  },
  {
   "cell_type": "markdown",
   "id": "underlying-profit",
   "metadata": {
    "papermill": {
     "duration": 0.112955,
     "end_time": "2021-05-31T07:56:50.678325",
     "exception": false,
     "start_time": "2021-05-31T07:56:50.565370",
     "status": "completed"
    },
    "tags": []
   },
   "source": [
    "Cette fois encore, c'est une valeur atypique mais pas abérrante."
   ]
  },
  {
   "cell_type": "markdown",
   "id": "destroyed-cleanup",
   "metadata": {
    "papermill": {
     "duration": 0.114863,
     "end_time": "2021-05-31T07:56:50.907789",
     "exception": false,
     "start_time": "2021-05-31T07:56:50.792926",
     "status": "completed"
    },
    "tags": []
   },
   "source": [
    "### Les différents états du fichier client :\n",
    "Ici, nous allons regader d'où viennent les clients et si cette localisation a un impact sur les ventes."
   ]
  },
  {
   "cell_type": "code",
   "execution_count": 169,
   "id": "wanted-brisbane",
   "metadata": {
    "execution": {
     "iopub.execute_input": "2021-05-31T07:56:51.162012Z",
     "iopub.status.busy": "2021-05-31T07:56:51.160925Z",
     "iopub.status.idle": "2021-05-31T07:56:51.166830Z",
     "shell.execute_reply": "2021-05-31T07:56:51.167429Z",
     "shell.execute_reply.started": "2021-05-31T07:50:23.547042Z"
    },
    "papermill": {
     "duration": 0.13898,
     "end_time": "2021-05-31T07:56:51.167648",
     "exception": false,
     "start_time": "2021-05-31T07:56:51.028668",
     "status": "completed"
    },
    "tags": []
   },
   "outputs": [
    {
     "data": {
      "text/plain": [
       "array(['SP', 'SC', 'PA', 'PR', 'RJ', 'MA', 'ES', 'RS', 'MG', 'GO', 'DF',\n",
       "       'BA', 'MT', 'SE', 'TO', 'PE', 'CE', 'AL', 'AC', 'PI', 'PB', 'RN',\n",
       "       'AM', 'MS', 'AP', 'RO', 'RR'], dtype=object)"
      ]
     },
     "execution_count": 169,
     "metadata": {},
     "output_type": "execute_result"
    }
   ],
   "source": [
    "data[\"customer_state\"].unique()"
   ]
  },
  {
   "cell_type": "markdown",
   "id": "catholic-ocean",
   "metadata": {
    "papermill": {
     "duration": 0.10995,
     "end_time": "2021-05-31T07:56:51.388818",
     "exception": false,
     "start_time": "2021-05-31T07:56:51.278868",
     "status": "completed"
    },
    "tags": []
   },
   "source": [
    "Les codes états ne sont pas très parlant. Nous allons donc utiliser Wikipedia pour **modifier les codes états par leur nom** :"
   ]
  },
  {
   "cell_type": "code",
   "execution_count": 170,
   "id": "featured-citizen",
   "metadata": {
    "execution": {
     "iopub.execute_input": "2021-05-31T07:56:53.796777Z",
     "iopub.status.busy": "2021-05-31T07:56:53.795754Z",
     "iopub.status.idle": "2021-05-31T07:56:54.398290Z",
     "shell.execute_reply": "2021-05-31T07:56:54.397593Z",
     "shell.execute_reply.started": "2021-05-31T07:50:24.315694Z"
    },
    "papermill": {
     "duration": 0.718682,
     "end_time": "2021-05-31T07:56:54.398479",
     "exception": false,
     "start_time": "2021-05-31T07:56:53.679797",
     "status": "completed"
    },
    "tags": []
   },
   "outputs": [
    {
     "data": {
      "image/png": "[encoded data removed]",
      "text/plain": [
       "<Figure size 1296x576 with 1 Axes>"
      ]
     },
     "metadata": {},
     "output_type": "display_data"
    }
   ],
   "source": [
    "# Countplot of states repartition\n",
    "fig = plt.figure(figsize=(18, 8))\n",
    "sns.countplot(data=data, x=\"customer_state\",\n",
    "              edgecolor=\"black\",\n",
    "              color=\"#00d994\", alpha=0.7)\n",
    "plt.xticks(range(0, data[\"customer_state\"].nunique()),\n",
    "           data[\"customer_state\"].unique(),\n",
    "           rotation=90)\n",
    "plt.title(f\"Les états Brésiliens les plus représentées\\n\",\n",
    "          fontdict=font_title)\n",
    "plt.show()"
   ]
  },
  {
   "cell_type": "code",
   "execution_count": 171,
   "id": "deluxe-mobile",
   "metadata": {
    "execution": {
     "iopub.execute_input": "2021-05-31T07:56:54.637355Z",
     "iopub.status.busy": "2021-05-31T07:56:54.636091Z",
     "iopub.status.idle": "2021-05-31T07:56:55.539234Z",
     "shell.execute_reply": "2021-05-31T07:56:55.538664Z",
     "shell.execute_reply.started": "2021-05-31T07:50:24.903196Z"
    },
    "papermill": {
     "duration": 1.026405,
     "end_time": "2021-05-31T07:56:55.539447",
     "exception": false,
     "start_time": "2021-05-31T07:56:54.513042",
     "status": "completed"
    },
    "tags": []
   },
   "outputs": [
    {
     "data": {
      "image/png": "[encoded data removed]",
      "text/plain": [
       "<Figure size 1296x864 with 1 Axes>"
      ]
     },
     "metadata": {},
     "output_type": "display_data"
    }
   ],
   "source": [
    "# Boxplots of total spend by state\n",
    "fig = plt.figure(figsize=(18,12))\n",
    "sns.boxplot(x=\"customer_state\", y=\"total_spend\", \n",
    "            data=data[data[\"total_spend\"]<500])\n",
    "plt.xticks(rotation=90)\n",
    "plt.show()"
   ]
  },
  {
   "cell_type": "markdown",
   "id": "coordinated-librarian",
   "metadata": {
    "papermill": {
     "duration": 0.115769,
     "end_time": "2021-05-31T07:56:55.772136",
     "exception": false,
     "start_time": "2021-05-31T07:56:55.656367",
     "status": "completed"
    },
    "tags": []
   },
   "source": [
    "On voit dans ces boxplots que l'état du client a un impact faible sur les variances et médianes des dépenses sur le site.\n",
    "\n",
    "Afin d'utiliser une variable de localisation encodable sans impact négatif sur nos modélisation, nous allons **calculer la distance Haversine entre l'état du client *(moyenne des latitudes et longitudes de l'état)* et le siège de Olist** :"
   ]
  },
  {
   "cell_type": "markdown",
   "id": "accredited-collection",
   "metadata": {
    "papermill": {
     "duration": 0.116448,
     "end_time": "2021-05-31T07:56:57.246450",
     "exception": false,
     "start_time": "2021-05-31T07:56:57.130002",
     "status": "completed"
    },
    "tags": []
   },
   "source": [
    "### Corrélations :\n",
    "Nous allons à présent regarder s'il existe des **corrélations linéaires** fortes dans le jeu de données :"
   ]
  },
  {
   "cell_type": "code",
   "execution_count": 172,
   "id": "short-jamaica",
   "metadata": {
    "execution": {
     "iopub.execute_input": "2021-05-31T07:56:57.495037Z",
     "iopub.status.busy": "2021-05-31T07:56:57.492844Z",
     "iopub.status.idle": "2021-05-31T07:56:59.908724Z",
     "shell.execute_reply": "2021-05-31T07:56:59.909252Z",
     "shell.execute_reply.started": "2021-05-31T07:50:26.420267Z"
    },
    "papermill": {
     "duration": 2.545961,
     "end_time": "2021-05-31T07:56:59.909501",
     "exception": false,
     "start_time": "2021-05-31T07:56:57.363540",
     "status": "completed"
    },
    "tags": []
   },
   "outputs": [
    {
     "data": {
      "image/png": "[encoded data removed]",
      "text/plain": [
       "<Figure size 1080x1080 with 2 Axes>"
      ]
     },
     "metadata": {},
     "output_type": "display_data"
    }
   ],
   "source": [
    "corr = data.corr()\n",
    "mask = np.zeros_like(corr)\n",
    "mask[np.triu_indices_from(mask)] = True\n",
    "fig, ax = plt.subplots(figsize=(15,15))\n",
    "ax = sns.heatmap(corr, annot=True,\n",
    "                 vmin=-1, vmax=1,\n",
    "                 fmt=\".2f\", annot_kws={'size':8}, \n",
    "                 mask=mask, \n",
    "                 center=0, \n",
    "                 cmap=\"coolwarm\")\n",
    "plt.title(f\"Heatmap des corrélations linéaires\\n\", \n",
    "          fontdict=font_title)\n",
    "plt.show()"
   ]
  },
  {
   "cell_type": "markdown",
   "id": "separate-ballot",
   "metadata": {
    "papermill": {
     "duration": 0.124215,
     "end_time": "2021-05-31T07:57:00.159589",
     "exception": false,
     "start_time": "2021-05-31T07:57:00.035374",
     "status": "completed"
    },
    "tags": []
   },
   "source": [
    "On remarque que le prix total est très fortement corrélé au prix moyen par commande (idem pour le nombre d'articles moyen et le nombre d'articles total). Cela est dû au fait que la majorité des clients n'ont commandé qu'une seule fois. Cette variable sera donc moins corrélée au fil du temps.\n",
    "\n",
    "### Export du dataset final pour classification non-supervisée\n",
    "A partir de toutes ces features, nous allons modéliser les données pour une classification non-supervisée avec plusieurs modèles."
   ]
  },
  {
   "cell_type": "code",
   "execution_count": 173,
   "id": "electronic-julian",
   "metadata": {
    "execution": {
     "iopub.execute_input": "2021-05-31T07:57:00.411947Z",
     "iopub.status.busy": "2021-05-31T07:57:00.411192Z",
     "iopub.status.idle": "2021-05-31T07:57:02.611799Z",
     "shell.execute_reply": "2021-05-31T07:57:02.611075Z",
     "shell.execute_reply.started": "2021-05-31T07:50:28.535469Z"
    },
    "papermill": {
     "duration": 2.328773,
     "end_time": "2021-05-31T07:57:02.612012",
     "exception": false,
     "start_time": "2021-05-31T07:57:00.283239",
     "status": "completed"
    },
    "tags": []
   },
   "outputs": [],
   "source": [
    "data.to_csv(\"segmentation.csv\")"
   ]
  },
  {
   "cell_type": "code",
   "execution_count": null,
   "id": "feeb00c8",
   "metadata": {},
   "outputs": [],
   "source": []
  },
  {
   "cell_type": "code",
   "execution_count": null,
   "id": "b952427c",
   "metadata": {},
   "outputs": [],
   "source": []
  },
  {
   "cell_type": "code",
   "execution_count": null,
   "id": "2ecb903b",
   "metadata": {},
   "outputs": [],
   "source": [
    " "
   ]
  }
 ],
 "metadata": {
  "kernelspec": {
   "display_name": "Python 3 (ipykernel)",
   "language": "python",
   "name": "python3"
  },
  "language_info": {
   "codemirror_mode": {
    "name": "ipython",
    "version": 3
   },
   "file_extension": ".py",
   "mimetype": "text/x-python",
   "name": "python",
   "nbconvert_exporter": "python",
   "pygments_lexer": "ipython3",
   "version": "3.9.7"
  },
  "papermill": {
   "default_parameters": {},
   "duration": 234.216711,
   "end_time": "2021-05-31T07:57:04.907839",
   "environment_variables": {},
   "exception": null,
   "input_path": "__notebook__.ipynb",
   "output_path": "__notebook__.ipynb",
   "parameters": {},
   "start_time": "2021-05-31T07:53:10.691128",
   "version": "2.3.3"
  }
 },
 "nbformat": 4,
 "nbformat_minor": 5
}
